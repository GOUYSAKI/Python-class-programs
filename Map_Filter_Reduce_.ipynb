{
  "nbformat": 4,
  "nbformat_minor": 0,
  "metadata": {
    "colab": {
      "provenance": [],
      "collapsed_sections": [
        "dO17Szjt1-TR",
        "bm05LLod7mSM",
        "POMheTHH2GGX"
      ]
    },
    "kernelspec": {
      "name": "python3",
      "display_name": "Python 3"
    },
    "language_info": {
      "name": "python"
    }
  },
  "cells": [
    {
      "cell_type": "markdown",
      "source": [
        "Functional Programming:\n",
        "* Functional programming is a programming paradigm that breaks down a problem into individual functions. Every function, if possible, takes a set of input arguments and produces an output."
      ],
      "metadata": {
        "id": "ydRC9_2nu48K"
      }
    },
    {
      "cell_type": "code",
      "source": [
        "#Example: recap into generators that creates generator object that is iterable with an example\n",
        "a=(i for i in range(4))\n",
        "print(type(a), list(a)) #only for list(a) works, not for tuple(a), set(a)"
      ],
      "metadata": {
        "colab": {
          "base_uri": "https://localhost:8080/"
        },
        "id": "gaZXPJXzxy-E",
        "outputId": "7512e2cd-d11d-4039-fed5-70c8e3d6875f"
      },
      "execution_count": null,
      "outputs": [
        {
          "output_type": "stream",
          "name": "stdout",
          "text": [
            "<class 'generator'> [0, 1, 2, 3]\n"
          ]
        }
      ]
    },
    {
      "cell_type": "markdown",
      "source": [
        "# Map Function"
      ],
      "metadata": {
        "id": "QD6_5RYKv7bQ"
      }
    },
    {
      "cell_type": "markdown",
      "source": [
        "syntax:\n",
        "\n",
        "      iterator=map(callable, iterables)\n",
        "  * the callable parameter can be either:-\n",
        "\n",
        "    1) built-in function\n",
        "\n",
        "    2) user-defined function\n",
        "\n",
        "    3) lambda function"
      ],
      "metadata": {
        "id": "eGNvJiKyv-w3"
      }
    },
    {
      "cell_type": "markdown",
      "source": [
        "# Example 1: using built-in function for map()"
      ],
      "metadata": {
        "id": "dO17Szjt1-TR"
      }
    },
    {
      "cell_type": "code",
      "execution_count": null,
      "metadata": {
        "colab": {
          "base_uri": "https://localhost:8080/"
        },
        "id": "xCkO7UNzur42",
        "outputId": "74594bed-0289-46db-8b21-9b556838e720"
      },
      "outputs": [
        {
          "output_type": "stream",
          "name": "stdout",
          "text": [
            "to create a list that contains the length of each word in a given string using map() function\n",
            "['this', 'is', 'pure', 'python', 'skill', 'for', 'map', 'function']\n",
            "Map iterator:  <class 'map'> <map object at 0x78c806a72140>\n",
            "The transformed list:  {2, 3, 4, 5, 6, 8}\n"
          ]
        }
      ],
      "source": [
        "#example 1: to create a list that contains the length of each word in a given string using map() function\n",
        "print(\"to create a list that contains the length of each word in a given string using map() function\")\n",
        "strng1_lst = \"this is pure python skill for map function\".split()\n",
        "print(strng1_lst)\n",
        "\n",
        "iterator = map(len, strng1_lst)  # map() returns an iterator\n",
        "print(\"Map iterator: \", type(iterator),iterator)\n",
        "\n",
        "\n",
        "str_length = list(iterator)  # the iterator can be converted into either tuple(iterator), or set(iterator) only once\n",
        "print(\"The transformed list: \", str_length)\n",
        "#print(\"the transformed tuple\",tuple(iterator))     #shows empty tuple because the iterator is already ran till the end for converting into list\n",
        "#print(\"the transformed set\",set(iterator))         shows empty set because the iterator is already ran till the end for converting into list\n"
      ]
    },
    {
      "cell_type": "code",
      "source": [
        "for i in iterator:  #prints nothing because iterator has already run till the end\n",
        "  print(i)"
      ],
      "metadata": {
        "id": "QGAq316p65gy"
      },
      "execution_count": null,
      "outputs": []
    },
    {
      "cell_type": "code",
      "source": [
        "#for loop equivalent of example 1\n",
        "print(\"for loop equivalent of example 1\")\n",
        "strng1_lst = \"this is pure python skill for map function\".split()\n",
        "print(strng1_lst)\n",
        "lst1=[]\n",
        "for i in strng1_lst:\n",
        "  l=len(i)\n",
        "  lst1.append(l)\n",
        "print(lst1)"
      ],
      "metadata": {
        "colab": {
          "base_uri": "https://localhost:8080/"
        },
        "id": "gK1udct4zswV",
        "outputId": "36e0ddf1-1a55-4b07-fe4a-1566de349e2e"
      },
      "execution_count": null,
      "outputs": [
        {
          "output_type": "stream",
          "name": "stdout",
          "text": [
            "for loop equivalent of example 1\n",
            "['this', 'is', 'pure', 'python', 'skill', 'for', 'map', 'function']\n",
            "[4, 2, 4, 6, 5, 3, 3, 8]\n"
          ]
        }
      ]
    },
    {
      "cell_type": "code",
      "source": [
        "#list comprehension equivalent of example 1\n",
        "print(\"list comprehension equivalent of example 1\")\n",
        "strng1_lst = \"this is pure python skill for map function\".split()\n",
        "print(strng1_lst)\n",
        "lst1=[len(i) for i in strng1_lst]\n",
        "print(lst1)"
      ],
      "metadata": {
        "colab": {
          "base_uri": "https://localhost:8080/"
        },
        "id": "WZnIoNJR4JID",
        "outputId": "a1a8692e-562d-4fed-a9b3-e91acf022674"
      },
      "execution_count": null,
      "outputs": [
        {
          "output_type": "stream",
          "name": "stdout",
          "text": [
            "list comprehension equivalent of example 1\n",
            "['this', 'is', 'pure', 'python', 'skill', 'for', 'map', 'function']\n",
            "[4, 2, 4, 6, 5, 3, 3, 8]\n"
          ]
        }
      ]
    },
    {
      "cell_type": "code",
      "source": [
        "#lambda function equivalent of example1\n",
        "print(\"lambda function equivalent of example1\")\n",
        "strng1_lst = \"this is pure python skill for map function\".split()\n",
        "print(strng1_lst)\n",
        "lambda_len=lambda strng1_lst: list(len(i) for i in strng1_lst)\n",
        "print(lambda_len(strng1_lst))"
      ],
      "metadata": {
        "colab": {
          "base_uri": "https://localhost:8080/"
        },
        "id": "mmYbuWE_4qas",
        "outputId": "336d84f9-d902-403f-dbd7-522dec8ad8a2"
      },
      "execution_count": null,
      "outputs": [
        {
          "output_type": "stream",
          "name": "stdout",
          "text": [
            "lambda function equivalent of example1\n",
            "['this', 'is', 'pure', 'python', 'skill', 'for', 'map', 'function']\n",
            "[4, 2, 4, 6, 5, 3, 3, 8]\n"
          ]
        }
      ]
    },
    {
      "cell_type": "markdown",
      "source": [
        "# Using user-defined function or map()"
      ],
      "metadata": {
        "id": "bm05LLod7mSM"
      }
    },
    {
      "cell_type": "code",
      "source": [
        "#Example 2: to create a list containing the cube of the given list of integer elements-using  user-defined function in map()\n",
        "print(\"to create a list containing the cube of the given list of integer elements-using  user-defined function in map()\")\n",
        "lst1=[1,2,3,4]\n",
        "def f1(ele):\n",
        "  return ele**3\n",
        "\n",
        "cube=map(f1, lst1)\n",
        "print(list(cube))"
      ],
      "metadata": {
        "colab": {
          "base_uri": "https://localhost:8080/"
        },
        "id": "dyXBdZuS4ulO",
        "outputId": "004428c4-e374-4bed-966d-c5de99b06542"
      },
      "execution_count": null,
      "outputs": [
        {
          "output_type": "stream",
          "name": "stdout",
          "text": [
            "to create a list containing the cube of the given list of integer elements-using  user-defined function in map()\n",
            "[1, 8, 27, 64]\n"
          ]
        }
      ]
    },
    {
      "cell_type": "code",
      "source": [
        "#using list comprehension for the same example 2\n",
        "print(\"using list comprehension for the same example 2\")\n",
        "lst1=[1,2,3,4]\n",
        "cube=[i**3 for i in lst1]\n",
        "print(cube)"
      ],
      "metadata": {
        "colab": {
          "base_uri": "https://localhost:8080/"
        },
        "id": "MwMpaYRb7tEb",
        "outputId": "b8153a5f-4ae4-40e7-c15b-d4911c4808aa"
      },
      "execution_count": null,
      "outputs": [
        {
          "output_type": "stream",
          "name": "stdout",
          "text": [
            "using list comprehension for the same example 2\n",
            "[1, 8, 27, 64]\n"
          ]
        }
      ]
    },
    {
      "cell_type": "code",
      "source": [
        "#using for loop for the same example 2\n",
        "print(\"using for loop for the same example 2\")\n",
        "lst1=[1,2,3,4]\n",
        "cube2=[]\n",
        "for i in lst1:\n",
        "  cube2.append(i**3)\n",
        "print(cube2)"
      ],
      "metadata": {
        "colab": {
          "base_uri": "https://localhost:8080/"
        },
        "id": "ZoVa48vk8GJz",
        "outputId": "46144f8c-34eb-4b85-f2c8-b8c89d71d30b"
      },
      "execution_count": null,
      "outputs": [
        {
          "output_type": "stream",
          "name": "stdout",
          "text": [
            "using for loop for the same example 2\n",
            "[1, 8, 27, 64]\n"
          ]
        }
      ]
    },
    {
      "cell_type": "code",
      "source": [
        "#using lambda fucntion for the same example 2\n",
        "print(\"using lambda function for the same example 2\")\n",
        "lst1=[1,2,3,4]\n",
        "cube3=lambda lst1:print(list(i**3 for i in lst1))\n",
        "cube3(lst1)"
      ],
      "metadata": {
        "colab": {
          "base_uri": "https://localhost:8080/"
        },
        "id": "fWBWU1ln8eow",
        "outputId": "6166707c-80f5-4620-e21e-dd46d4257239"
      },
      "execution_count": null,
      "outputs": [
        {
          "output_type": "stream",
          "name": "stdout",
          "text": [
            "using lambda function for the same example 2\n",
            "[1, 8, 27, 64]\n"
          ]
        }
      ]
    },
    {
      "cell_type": "markdown",
      "source": [
        "# Example using lambda function for map()"
      ],
      "metadata": {
        "id": "POMheTHH2GGX"
      }
    },
    {
      "cell_type": "code",
      "source": [
        "#to fit in lambda fucntion inside map() function for the same example 2\n",
        "print(\"lambda fucntion inside map() function for the same example 2\")\n",
        "lst1=[1,2,3,4]\n",
        "iterator1=map(lambda x:x**3, lst1)\n",
        "print(list(iterator1))\n",
        "print(\"callback implementation for map() with lambda function as callable function\")\n",
        "print(list(map(lambda x:x**3, lst1)))       #callback implementation for map()"
      ],
      "metadata": {
        "colab": {
          "base_uri": "https://localhost:8080/"
        },
        "id": "N1GkYy9v9JcS",
        "outputId": "8699b291-76fb-4549-ec8d-5afeb2f9b75c"
      },
      "execution_count": null,
      "outputs": [
        {
          "output_type": "stream",
          "name": "stdout",
          "text": [
            "lambda fucntion inside map() function for the same example 2\n",
            "[1, 8, 27, 64]\n",
            "callback implementation for map() with lambda function as callable function\n",
            "[1, 8, 27, 64]\n"
          ]
        }
      ]
    },
    {
      "cell_type": "markdown",
      "source": [
        "# few problem solving using map(), list comprehension, lambda(), range()"
      ],
      "metadata": {
        "id": "-62Si1GL_o-h"
      }
    },
    {
      "cell_type": "code",
      "source": [
        "#generate multiplication table for a given number\n",
        "n=int(input(\"enter the number for which multiplication tables are to be generated=\"))\n",
        "#way 1: list comprehension approach\n",
        "print(\"list comprehension approach\")\n",
        "print([i*n for i in range(1,11)])\n",
        "#way 2: only lambda approach\n",
        "print(\"only lambda approach\")\n",
        "res=lambda n:list(i*n for i in range(1,11))\n",
        "print(list(res(n)))\n"
      ],
      "metadata": {
        "colab": {
          "base_uri": "https://localhost:8080/"
        },
        "id": "VQSKMlwt_wRO",
        "outputId": "22a998d9-8e6f-49de-949a-22b2652cff49"
      },
      "execution_count": null,
      "outputs": [
        {
          "output_type": "stream",
          "name": "stdout",
          "text": [
            "enter the number for which multiplication tables are to be generated=9\n",
            "list comprehension approach\n",
            "[9, 18, 27, 36, 45, 54, 63, 72, 81, 90]\n",
            "only lambda approach\n",
            "[9, 18, 27, 36, 45, 54, 63, 72, 81, 90]\n"
          ]
        }
      ]
    },
    {
      "cell_type": "code",
      "source": [
        "#way 3: map(user-defined_function, iterable) approach\n",
        "n=int(input(\"enter the number for which multiplication tables are to be generated=\"))\n",
        "def mul(i):\n",
        "  return n*i\n",
        "iter=map(mul, range(1,11))\n",
        "print(list(iter))"
      ],
      "metadata": {
        "colab": {
          "base_uri": "https://localhost:8080/"
        },
        "id": "TeDOINHwCRYC",
        "outputId": "0e0e4305-3fe3-4b4f-f0f9-719c405a19bc"
      },
      "execution_count": null,
      "outputs": [
        {
          "output_type": "stream",
          "name": "stdout",
          "text": [
            "enter the number for which multiplication tables are to be generated=9\n",
            "[9, 18, 27, 36, 45, 54, 63, 72, 81, 90]\n"
          ]
        }
      ]
    },
    {
      "cell_type": "code",
      "source": [
        "#way 4 : map(lambda, iterable) approach\n",
        "n=int(input(\"enter the number for which multiplication tables are to be generated=\"))\n",
        "iter=map(lambda i:i*n, range(1,11))           # n is a global variable\n",
        "print(list(iter))\n",
        "print(\"implementing callback for the same problem\")\n",
        "print(list(map(lambda i:i*n, range(1,11))))"
      ],
      "metadata": {
        "colab": {
          "base_uri": "https://localhost:8080/"
        },
        "id": "JDuItXU4CX30",
        "outputId": "72dc15cd-ce31-40d2-df9b-221d8526d5df"
      },
      "execution_count": null,
      "outputs": [
        {
          "output_type": "stream",
          "name": "stdout",
          "text": [
            "enter the number for which multiplication tables are to be generated=9\n",
            "[9, 18, 27, 36, 45, 54, 63, 72, 81, 90]\n",
            "implementing callback for the same problem\n",
            "[9, 18, 27, 36, 45, 54, 63, 72, 81, 90]\n"
          ]
        }
      ]
    },
    {
      "cell_type": "code",
      "source": [
        "#way 5: using only range() function\n",
        "print(\"using only range() function\")\n",
        "n=int(input(\"enter the number for which multiplication tables are to be generated=\"))\n",
        "print(list(range(n, n * 10 + 1, n)))"
      ],
      "metadata": {
        "colab": {
          "base_uri": "https://localhost:8080/"
        },
        "id": "iKfQqowZD7xN",
        "outputId": "dbff92d4-cb49-4e0e-d2ca-a2e8fd2c194f"
      },
      "execution_count": null,
      "outputs": [
        {
          "output_type": "stream",
          "name": "stdout",
          "text": [
            "using only range() function\n",
            "enter the number for which multiplication tables are to be generated=9\n",
            "[9, 18, 27, 36, 45, 54, 63, 72, 81, 90]\n"
          ]
        }
      ]
    },
    {
      "cell_type": "code",
      "source": [
        "adjectives = [\"big\", \"crooked\", \"dirty\"]            # has 3 elements\n",
        "colors = [\"blue\", \"pink\", \"red\", \"green\", \"lilac\"]  # has 5 elements\n",
        "objects = [\"shutter\", \"table\", \"pen\", \"baseball\"]   # has 4 elements\n",
        "\n",
        "defined_objects = list(map(\n",
        "        lambda x, y, z: f\"{x} {y} {z}\",         #f-string to concatenate\n",
        "        adjectives,\n",
        "        colors,\n",
        "        objects\n",
        "))\n",
        "\n",
        "print(defined_objects)"
      ],
      "metadata": {
        "colab": {
          "base_uri": "https://localhost:8080/"
        },
        "id": "xu2sl7uKUxXi",
        "outputId": "4313df97-d974-4b1a-c1df-6bc6af9df969"
      },
      "execution_count": null,
      "outputs": [
        {
          "output_type": "stream",
          "name": "stdout",
          "text": [
            "['big blue shutter', 'crooked pink table', 'dirty red pen']\n"
          ]
        }
      ]
    },
    {
      "cell_type": "markdown",
      "source": [
        "# Filter"
      ],
      "metadata": {
        "id": "l75L52BdWodA"
      }
    },
    {
      "cell_type": "markdown",
      "source": [
        "syntax\n",
        "\n",
        "     iterator=filter(callable, iterable)\n",
        "note: only one iterable can be used, unlike in map() where many iterables can be used\n",
        "* applies the callable on the iterable, and filters only those elements from the iterable that meets the criteria of the callable\n"
      ],
      "metadata": {
        "id": "HSN8afUnX3dd"
      }
    },
    {
      "cell_type": "markdown",
      "source": [
        "# examples of filtering even numbers from given 'n' range of values"
      ],
      "metadata": {
        "id": "7VfstZhMcApH"
      }
    },
    {
      "cell_type": "code",
      "source": [
        "#example 1: to filter only even numbers from the given range of n values\n",
        "iterator=filter(lambda i:i%2==0, range(1,11))\n",
        "print(list(iterator))"
      ],
      "metadata": {
        "colab": {
          "base_uri": "https://localhost:8080/"
        },
        "id": "8Oo_OKBDWqpS",
        "outputId": "ea33f5cb-01fa-4bbe-f787-86b906cd8b75"
      },
      "execution_count": null,
      "outputs": [
        {
          "output_type": "stream",
          "name": "stdout",
          "text": [
            "[2, 4, 6, 8, 10]\n"
          ]
        }
      ]
    },
    {
      "cell_type": "code",
      "source": [
        "\n",
        "#usage of map() to the same code, resulting in different output  : consider the case of example 1 of filter()\n",
        "iter=map(lambda i:i%2==0, range(1,11))\n",
        "print(list(iter))\n"
      ],
      "metadata": {
        "colab": {
          "base_uri": "https://localhost:8080/"
        },
        "id": "gdAR9qmYW9a_",
        "outputId": "cdea17db-2d88-4d91-bf76-e40c7b2abf8a"
      },
      "execution_count": null,
      "outputs": [
        {
          "output_type": "stream",
          "name": "stdout",
          "text": [
            "[False, True, False, True, False, True, False, True, False, True]\n"
          ]
        }
      ]
    },
    {
      "cell_type": "code",
      "source": [
        "#solution in other possible ways other than filter() function\n",
        "lst=[]\n",
        "for i in range(1,11):\n",
        "  if i%2==0:\n",
        "    lst.append(i)\n",
        "  else:\n",
        "    continue\n",
        "print(lst)"
      ],
      "metadata": {
        "colab": {
          "base_uri": "https://localhost:8080/"
        },
        "id": "vuhh4e0YZ9Y-",
        "outputId": "48524f0b-2745-4fe8-d7cc-7dae99399b51"
      },
      "execution_count": null,
      "outputs": [
        {
          "output_type": "stream",
          "name": "stdout",
          "text": [
            "[2, 4, 6, 8, 10]\n"
          ]
        }
      ]
    },
    {
      "cell_type": "code",
      "source": [
        "#trying to find the solution in map() using callable as user-defined function\n",
        "def res(i):\n",
        "  if i%2==0:\n",
        "    return i\n",
        "iter2=map(res, range(1,11))\n",
        "print(list(iter2))"
      ],
      "metadata": {
        "colab": {
          "base_uri": "https://localhost:8080/"
        },
        "id": "DXgJdTLabBCT",
        "outputId": "fb1ca0b6-bb2d-49f7-b61b-1a452a1b7e0a"
      },
      "execution_count": null,
      "outputs": [
        {
          "output_type": "stream",
          "name": "stdout",
          "text": [
            "[None, 2, None, 4, None, 6, None, 8, None, 10]\n"
          ]
        }
      ]
    },
    {
      "cell_type": "code",
      "source": [
        "#using list comprehension\n",
        "lst1=[i for i in range(1,11) if i%2==0]\n",
        "print(lst1)"
      ],
      "metadata": {
        "colab": {
          "base_uri": "https://localhost:8080/"
        },
        "id": "PpWgctYHboxf",
        "outputId": "3ed7c784-f59f-4b82-d2c9-31aae43a493d"
      },
      "execution_count": null,
      "outputs": [
        {
          "output_type": "stream",
          "name": "stdout",
          "text": [
            "[2, 4, 6, 8, 10]\n"
          ]
        }
      ]
    },
    {
      "cell_type": "code",
      "source": [
        "#difference in the solution given by filter() and map()\n",
        "def check(i):\n",
        "  if i%2!=0:\n",
        "    return True\n",
        "  else:\n",
        "    return False\n",
        "filter_iter=filter(check, range(1,11))\n",
        "print(list(filter_iter))\n",
        "map_iter=map(check, range(1,11))\n",
        "print(list(map_iter))"
      ],
      "metadata": {
        "colab": {
          "base_uri": "https://localhost:8080/"
        },
        "id": "Lmkq34NAceAL",
        "outputId": "0bcc48dd-509f-418e-862d-e944f75e1969"
      },
      "execution_count": null,
      "outputs": [
        {
          "output_type": "stream",
          "name": "stdout",
          "text": [
            "[1, 3, 5, 7, 9]\n",
            "[True, False, True, False, True, False, True, False, True, False]\n"
          ]
        }
      ]
    },
    {
      "cell_type": "code",
      "source": [
        "#example: beautiful example that demonstrates the power of filter() function\n",
        "lst1 = [1, 2.4, \"string\", \"\", [], None, True, False]\n",
        "print(list(filter(None, lst1)))"
      ],
      "metadata": {
        "colab": {
          "base_uri": "https://localhost:8080/"
        },
        "id": "-kRdSmpFdTcF",
        "outputId": "333a6105-b03e-4b20-f0b2-854d6ad8e783"
      },
      "execution_count": null,
      "outputs": [
        {
          "output_type": "stream",
          "name": "stdout",
          "text": [
            "[1, 2.4, 'string', True]\n"
          ]
        }
      ]
    },
    {
      "cell_type": "code",
      "source": [
        "#Some example: to filter only those ages which are greater than 18\n",
        "ages = [5, 12, 17, 18, 24, 32, 34, 68, 12, 8, -9]\n",
        "\n",
        "def remove(x):\n",
        "  if x < 18:\n",
        "    return False\n",
        "  else:\n",
        "    return True\n",
        "\n",
        "print(list(filter(remove, ages)))\n"
      ],
      "metadata": {
        "colab": {
          "base_uri": "https://localhost:8080/"
        },
        "id": "f2cnE2_lcY7o",
        "outputId": "9b53425f-9208-4eb2-e34e-4217f4fecf22"
      },
      "execution_count": null,
      "outputs": [
        {
          "output_type": "stream",
          "name": "stdout",
          "text": [
            "[18, 24, 32, 34, 68]\n"
          ]
        }
      ]
    },
    {
      "cell_type": "code",
      "source": [
        "#example: to find the list of prime numbers for the given range of 'n' integer value using filter() function\n",
        "n=int(input(\"enter positive n value\"))\n",
        "def prime(i):\n",
        "  for j in range(2,i):\n",
        "    if i%j==0:\n",
        "      return False\n",
        "  return True\n",
        "print(list(filter(prime, range(2,n+1))))\n"
      ],
      "metadata": {
        "colab": {
          "base_uri": "https://localhost:8080/"
        },
        "id": "LamifeD-efuT",
        "outputId": "03ab7f23-3b09-43fc-e96b-f7b8ee5db7c7"
      },
      "execution_count": null,
      "outputs": [
        {
          "output_type": "stream",
          "name": "stdout",
          "text": [
            "enter positive n value100\n",
            "[2, 3, 5, 7, 11, 13, 17, 19, 23, 29, 31, 37, 41, 43, 47, 53, 59, 61, 67, 71, 73, 79, 83, 89, 97]\n"
          ]
        }
      ]
    },
    {
      "cell_type": "markdown",
      "source": [
        "# Filter"
      ],
      "metadata": {
        "id": "eAICDoef3923"
      }
    },
    {
      "cell_type": "markdown",
      "source": [
        "syntax\n",
        "\n",
        "    retrun_type=reduce(callable, iterable[,initializer])"
      ],
      "metadata": {
        "id": "ly0qEwkp4AT6"
      }
    },
    {
      "cell_type": "code",
      "source": [
        "#to add list elements\n",
        "from functools import reduce\n",
        "lst1=[1,2,3,4,5]\n",
        "res=reduce(lambda x,y:x+y,lst1,10)\n",
        "print(type(res))\n",
        "print(res)"
      ],
      "metadata": {
        "colab": {
          "base_uri": "https://localhost:8080/"
        },
        "id": "YI0pi07w4HdE",
        "outputId": "008606ce-47d4-4833-fa9d-17825b66ee19"
      },
      "execution_count": null,
      "outputs": [
        {
          "output_type": "stream",
          "name": "stdout",
          "text": [
            "<class 'int'>\n",
            "25\n"
          ]
        }
      ]
    },
    {
      "cell_type": "code",
      "source": [
        "#to multiply list elements\n",
        "lst1=[1,2,3,4,5]\n",
        "res=reduce(lambda x,y:x*y,lst1)\n",
        "print(res)"
      ],
      "metadata": {
        "colab": {
          "base_uri": "https://localhost:8080/"
        },
        "id": "LZ_AmJNI5gUT",
        "outputId": "392da7d8-dfab-4dfc-98cd-771846b8a6f2"
      },
      "execution_count": null,
      "outputs": [
        {
          "output_type": "stream",
          "name": "stdout",
          "text": [
            "120\n"
          ]
        }
      ]
    },
    {
      "cell_type": "code",
      "source": [
        "lst1=[1,2,3,4,5]\n",
        "res=reduce(lambda x,y:x*1,lst1)\n",
        "print(res)"
      ],
      "metadata": {
        "colab": {
          "base_uri": "https://localhost:8080/"
        },
        "id": "lPgHQ4Z96E0t",
        "outputId": "133ea47d-ee5b-4f63-960c-c472c503f27e"
      },
      "execution_count": null,
      "outputs": [
        {
          "output_type": "stream",
          "name": "stdout",
          "text": [
            "1\n"
          ]
        }
      ]
    },
    {
      "cell_type": "code",
      "source": [
        "lst1=[1,2,3,4,5]\n",
        "res=reduce(lambda x,y:1*x,lst1)\n",
        "print(res)"
      ],
      "metadata": {
        "colab": {
          "base_uri": "https://localhost:8080/"
        },
        "id": "S7Yy4o2E6K7B",
        "outputId": "22172231-d747-4f7f-e106-aef17c22ebc1"
      },
      "execution_count": null,
      "outputs": [
        {
          "output_type": "stream",
          "name": "stdout",
          "text": [
            "1\n"
          ]
        }
      ]
    },
    {
      "cell_type": "code",
      "source": [
        "lst1=[1,2,3,4,5]\n",
        "res=reduce(lambda x,y:1*y,lst1)\n",
        "print(res)"
      ],
      "metadata": {
        "colab": {
          "base_uri": "https://localhost:8080/"
        },
        "id": "OOnDL_Cf6c49",
        "outputId": "9c289ff8-51f7-40c3-f4c8-f9ee21141248"
      },
      "execution_count": null,
      "outputs": [
        {
          "output_type": "stream",
          "name": "stdout",
          "text": [
            "5\n"
          ]
        }
      ]
    },
    {
      "cell_type": "code",
      "source": [
        "n=int(input(\"enter positive n value\"))\n",
        "def prime(i):\n",
        "  for j in range(2,i):\n",
        "    if i%j==0:\n",
        "      return False\n",
        "  return True\n",
        "print(list(filter(lambda i: i if i%2==0 else 0, list(filter(prime, range(2,n+1))))))"
      ],
      "metadata": {
        "colab": {
          "base_uri": "https://localhost:8080/"
        },
        "id": "qZmxV1yT6miM",
        "outputId": "19cd60a0-789f-4bda-c79b-a2153f9d4ca3"
      },
      "execution_count": null,
      "outputs": [
        {
          "output_type": "stream",
          "name": "stdout",
          "text": [
            "enter positive n value50\n",
            "[2]\n"
          ]
        }
      ]
    },
    {
      "cell_type": "code",
      "source": [
        "n=int(input(\"enter positive n value\"))\n",
        "def prime(i):\n",
        "  for j in range(2,i):\n",
        "    if i%j==0:\n",
        "      return False\n",
        "  return True\n",
        "print(reduce(lambda x,y:x+y, list(filter(prime, range(2,n+1)))))"
      ],
      "metadata": {
        "colab": {
          "base_uri": "https://localhost:8080/"
        },
        "id": "IAC7zauc7qtH",
        "outputId": "2e03ebc1-05ea-423b-bf89-0c93bd04bb9a"
      },
      "execution_count": null,
      "outputs": [
        {
          "output_type": "stream",
          "name": "stdout",
          "text": [
            "enter positive n value50\n",
            "328\n"
          ]
        }
      ]
    },
    {
      "cell_type": "markdown",
      "source": [
        "#min(), max() for heterogenous datatypes"
      ],
      "metadata": {
        "id": "9-ciElX387zg"
      }
    },
    {
      "cell_type": "code",
      "source": [
        "lst1=[24,3.0,56,\"string\",'welcome',[2,3]]\n",
        "res = min(i for i in lst1 if isinstance(i, str))\n",
        "print(res)"
      ],
      "metadata": {
        "colab": {
          "base_uri": "https://localhost:8080/"
        },
        "id": "h3xwXAQj89ip",
        "outputId": "74a43019-48a0-420b-f4b0-0fc90656a290"
      },
      "execution_count": null,
      "outputs": [
        {
          "output_type": "stream",
          "name": "stdout",
          "text": [
            "string\n"
          ]
        }
      ]
    },
    {
      "cell_type": "code",
      "source": [
        "res = max(lst1, key = lambda i: (isinstance(i, int))) #wont give correct result\n",
        "print(res)"
      ],
      "metadata": {
        "colab": {
          "base_uri": "https://localhost:8080/"
        },
        "id": "Ii3VP_hk-kw6",
        "outputId": "e4a85d57-bcc8-4988-e09a-1fb2c404629e"
      },
      "execution_count": null,
      "outputs": [
        {
          "output_type": "stream",
          "name": "stdout",
          "text": [
            "24\n"
          ]
        }
      ]
    },
    {
      "cell_type": "code",
      "source": [
        "res = max(lst1, key = lambda i: (isinstance(i, int),i)) #gives correct result\n",
        "print(res)"
      ],
      "metadata": {
        "colab": {
          "base_uri": "https://localhost:8080/"
        },
        "id": "yZfoyI4J9ZzA",
        "outputId": "1a36df7a-a93d-43cc-febc-5f1aa78cec9d"
      },
      "execution_count": null,
      "outputs": [
        {
          "output_type": "stream",
          "name": "stdout",
          "text": [
            "56\n"
          ]
        }
      ]
    },
    {
      "cell_type": "code",
      "source": [
        "res =list(filter(lambda x: isinstance(x, int), lst1))\n",
        "print(\"min value= \", min(res))\n",
        "print(\"max value=\",max(res))"
      ],
      "metadata": {
        "colab": {
          "base_uri": "https://localhost:8080/"
        },
        "id": "z1QZ4pTR-5FZ",
        "outputId": "f7106c17-751a-4af4-d776-ea337651b884"
      },
      "execution_count": null,
      "outputs": [
        {
          "output_type": "stream",
          "name": "stdout",
          "text": [
            "min value=  24\n",
            "max value= 56\n"
          ]
        }
      ]
    }
  ]
}