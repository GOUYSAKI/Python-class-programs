{
  "cells": [
    {
      "cell_type": "markdown",
      "metadata": {
        "id": "6i3b6J_cjR1L"
      },
      "source": [
        "# Generators"
      ]
    },
    {
      "cell_type": "markdown",
      "metadata": {
        "id": "pBOEsQeng0sb"
      },
      "source": [
        "Python generators, are used to generates sequence of values that we can iterate on\n",
        "\n",
        "(remember iterables:- list, tuples,sets, dictionaries)\n",
        "\n",
        "Python Generators can be created by either\n",
        "\n",
        "1)Using generator-functions or\n",
        "\n",
        "2)Using generator expressions\n",
        "\n",
        "Both the methods require a 'generator-object' to iterate\n"
      ]
    },
    {
      "cell_type": "markdown",
      "metadata": {
        "id": "K4I0VItl16jY"
      },
      "source": [
        "# Generator-Functions (User-defined)"
      ]
    },
    {
      "cell_type": "markdown",
      "metadata": {
        "id": "y2iVq9oIjshb"
      },
      "source": [
        "* Generator Function : uses \"yield\" statement instead of a \"return\" statement.\n",
        "\n",
        "* However, the keyword \"return\" can be one of the statment inside generator function.\n",
        "\n",
        "synatx:  to write user-defined generator function\n",
        "\n",
        "     def generator_Function_name(arg):\n",
        "   \n",
        "         yield statement 1\n",
        "         yield statement 2\n",
        "          .\n",
        "          .\n",
        "          .\n",
        "          yield statement n"
      ]
    },
    {
      "cell_type": "markdown",
      "metadata": {
        "id": "Hp5pi05uydA6"
      },
      "source": [
        "syntax: to create a 'generator-object' of user-defined generator function\n",
        "\n",
        "    obj_name=generator_function_name(arg)\n",
        "\n",
        "* the generator function returns an object (here obj_name) which is iterable, and can be used to extract the iterable values either by using:\n",
        "\n",
        "1) for\n",
        "\n",
        "2) next(obj_name)"
      ]
    },
    {
      "cell_type": "code",
      "execution_count": 9,
      "metadata": {
        "colab": {
          "base_uri": "https://localhost:8080/"
        },
        "id": "csvwumTTxtxD",
        "outputId": "c425b7f0-2559-46f8-ed1a-43d8720577e0"
      },
      "outputs": [
        {
          "name": "stdout",
          "output_type": "stream",
          "text": [
            "1\n",
            "2\n",
            "3\n"
          ]
        }
      ],
      "source": [
        "#example 1: using for loop\n",
        "def gen_func():\n",
        "  yield 1\n",
        "  yield 2\n",
        "  yield 3\n",
        "iter=gen_func()\n",
        "for i in iter:\n",
        "  print(i)"
      ]
    },
    {
      "cell_type": "code",
      "execution_count": 18,
      "metadata": {
        "colab": {
          "base_uri": "https://localhost:8080/"
        },
        "id": "5bdf1khE0IGP",
        "outputId": "1d406aee-be9f-464b-fd16-2a1aff2e9042"
      },
      "outputs": [
        {
          "name": "stdout",
          "output_type": "stream",
          "text": [
            "1\n",
            "2\n",
            "3\n",
            "[<function default at 0x7ac8c7c36f80>]\n"
          ]
        }
      ],
      "source": [
        "#example 2: using next(obj_name)\n",
        "#from traitlets.traitlets import default\n",
        "def gen_func():\n",
        "  yield 1\n",
        "  yield 2\n",
        "  yield 3\n",
        "iter=gen_func()\n",
        "print(next(iter))\n",
        "print(next(iter))\n",
        "print(next(iter))\n",
        "#print(next(iter,[default]))   #to avoid error throw when last trying to get value beyond last yield value"
      ]
    },
    {
      "cell_type": "code",
      "execution_count": 7,
      "metadata": {
        "colab": {
          "base_uri": "https://localhost:8080/"
        },
        "id": "-2-hMkrTlP4Y",
        "outputId": "ec29daf4-0c25-4bdd-8c13-1d8fc103f22f"
      },
      "outputs": [
        {
          "name": "stdout",
          "output_type": "stream",
          "text": [
            "0\n",
            "1\n",
            "2\n",
            "3\n",
            "4\n",
            "5\n"
          ]
        }
      ],
      "source": [
        "#example 3: generator function to generator n +ve sequence numbers\n",
        "def range_generator(arg1):\n",
        "  i=0\n",
        "  while(i<=arg1):\n",
        "    yield i\n",
        "    i=i+1\n",
        "#print(\"result using generators=\",range_generator(5))\n",
        "gen=range_generator(5)\n",
        "for i in range_generator(5):\n",
        "  print(i)\n"
      ]
    },
    {
      "cell_type": "code",
      "execution_count": 32,
      "metadata": {
        "colab": {
          "base_uri": "https://localhost:8080/"
        },
        "id": "x9gSyQ2k-GkP",
        "outputId": "808be1cf-70fc-4f87-aa14-9318de7687d6"
      },
      "outputs": [
        {
          "name": "stdout",
          "output_type": "stream",
          "text": [
            "1\n",
            "2.5\n",
            "c\n",
            "this is generator-function\n",
            "[1, 2]\n",
            "(2, 3)\n",
            "{1, 2, 4, 5}\n",
            "{1: 'int', 2.5: 'float', 'str': 'string'}\n"
          ]
        }
      ],
      "source": [
        "#example 4: using 'generator-function' in 'for' loop\n",
        "def gen_func():\n",
        "  yield 1\n",
        "  yield 2.5\n",
        "  yield 'c'\n",
        "  yield 'this is generator-function'\n",
        "  yield [1,2]\n",
        "  yield (2,3)\n",
        "  yield {1,2,4,5}\n",
        "  yield {1:\"int\",2.5:\"float\", 'str':\"string\"}\n",
        "\n",
        "for i in gen_func():\n",
        "  print(i)"
      ]
    },
    {
      "cell_type": "markdown",
      "metadata": {
        "id": "6Fz7jRKC79XH"
      },
      "source": [
        "# Generator Expressions"
      ]
    },
    {
      "cell_type": "markdown",
      "metadata": {
        "id": "L-PSnPrm181X"
      },
      "source": [
        "* Generators Expressions through shorthand: It is another way of creating generator object without using generator-function"
      ]
    },
    {
      "cell_type": "code",
      "execution_count": 26,
      "metadata": {
        "colab": {
          "base_uri": "https://localhost:8080/"
        },
        "id": "pzw0M0jw4T9F",
        "outputId": "9edc321c-eb04-43ff-8293-364bded377a8"
      },
      "outputs": [
        {
          "name": "stdout",
          "output_type": "stream",
          "text": [
            "<class 'generator'>\n",
            "<generator object <genexpr> at 0x7ac87c3c9fc0>\n",
            "0\n",
            "1\n",
            "2\n"
          ]
        }
      ],
      "source": [
        "#example 1: generator-object using shorthand expression\n",
        "a=(i for i in range(3))         #observe, i have not used the keyword \"yield\" because i have not written any generator-function\n",
        "print(type(a))\n",
        "print(a)\n",
        "print(next(a))\n",
        "print(next(a))\n",
        "print(next(a))"
      ]
    },
    {
      "cell_type": "code",
      "execution_count": 1,
      "metadata": {
        "colab": {
          "base_uri": "https://localhost:8080/"
        },
        "id": "vRtmoCkQ5Wg7",
        "outputId": "e2b730f7-707a-4f84-da9a-6cb3769357b4"
      },
      "outputs": [
        {
          "name": "stdout",
          "output_type": "stream",
          "text": [
            "0\n",
            "4\n",
            "16\n",
            "36\n",
            "64\n"
          ]
        }
      ],
      "source": [
        "#example 2: generator-object using shorthand expression\n",
        "a=(i**2 for i in range(10) if (i%2==0))\n",
        "for i in a:       #iterating over generator object 'a' using for loop\n",
        "  print(i)"
      ]
    },
    {
      "cell_type": "code",
      "execution_count": 29,
      "metadata": {
        "colab": {
          "base_uri": "https://localhost:8080/",
          "height": 140
        },
        "id": "mf4OKoaH53tG",
        "outputId": "1c84afb2-3eed-4466-9edb-14d1fa058a67"
      },
      "outputs": [
        {
          "ename": "SyntaxError",
          "evalue": "ignored",
          "output_type": "error",
          "traceback": [
            "\u001b[0;36m  File \u001b[0;32m\"<ipython-input-29-d63c15109364>\"\u001b[0;36m, line \u001b[0;32m2\u001b[0m\n\u001b[0;31m    a=(yield i**2 for i in range(10) if (i%2==0))\u001b[0m\n\u001b[0m                  ^\u001b[0m\n\u001b[0;31mSyntaxError\u001b[0m\u001b[0;31m:\u001b[0m invalid syntax\n"
          ]
        }
      ],
      "source": [
        "#example 3: error for using 'yield' outside 'generator-function' or 'lambda'\n",
        "a=(yield i**2 for i in range(10) if (i%2==0))\n",
        "for i in a:       #iterating over generator object 'a' using for loop\n",
        "  print(i)"
      ]
    },
    {
      "cell_type": "markdown",
      "metadata": {
        "id": "ThVL0fdyFPAN"
      },
      "source": [
        "# Pipline Generators"
      ]
    },
    {
      "cell_type": "markdown",
      "metadata": {
        "id": "q_3_jOAaFR_7"
      },
      "source": [
        "* Multiple generators can be used to pipeline series of operations"
      ]
    },
    {
      "cell_type": "code",
      "execution_count": 89,
      "metadata": {
        "colab": {
          "base_uri": "https://localhost:8080/"
        },
        "id": "G3kSpA_0N1kl",
        "outputId": "b9175e7f-dc0d-4348-9ac3-98c6e5cd3c7b"
      },
      "outputs": [
        {
          "name": "stdout",
          "output_type": "stream",
          "text": [
            "enter the number of fibonacci series to be generated4\n",
            "fibonacci series\n",
            "1\n",
            "1\n",
            "2\n",
            "3\n",
            "square of fibonacci series\n",
            "1\n",
            "1\n",
            "4\n",
            "9\n",
            "printing sum of square of fibonacci series\n",
            "15\n"
          ]
        }
      ],
      "source": [
        "#to find sum of the squares of the fibonacci series\n",
        "def fib(n):\n",
        "  x,y=0,1\n",
        "  for i in range(n):\n",
        "    x,y=y,x+y\n",
        "    yield x\n",
        "# Generator function - square\n",
        "def square(n):\n",
        "  for i in n:\n",
        "    yield i**2\n",
        "\n",
        "#start of main program line\n",
        "n=int(input(\"enter the number of fibonacci series to be generated\"))\n",
        "#--------------------------------------------------------------------------------------\n",
        "print(\"fibonacci series\")\n",
        "for i in fib(n):\n",
        "  print(i)\n",
        "#---------------------------------------------------------------------------------------\n",
        "print(\"square of fibonacci series\")\n",
        "res=square(fib(n))\n",
        "for i in res:\n",
        "  print(i)\n",
        "#------------------------------------------------------------------------------------------\n",
        "print(\"printing sum of square of fibonacci series\")\n",
        "print(sum(square(fib(n))))"
      ]
    },
    {
      "cell_type": "markdown",
      "metadata": {
        "id": "SmK6smpjCXyD"
      },
      "source": [
        "# Other interesting Examples that are near to 'generators', but are 'not generators'"
      ]
    },
    {
      "cell_type": "code",
      "execution_count": 48,
      "metadata": {
        "colab": {
          "base_uri": "https://localhost:8080/"
        },
        "id": "pr4J7akSBPZ8",
        "outputId": "ce4fdaae-5aee-42e1-8c47-e8a769611f81"
      },
      "outputs": [
        {
          "name": "stdout",
          "output_type": "stream",
          "text": [
            "<class 'range'>\n",
            "0\n",
            "2\n",
            "4\n"
          ]
        }
      ],
      "source": [
        "#example 1: built-in function that uses generator\n",
        "print(type(range(1)))\n",
        "for i in range(0,5,2):\n",
        "  print(i)"
      ]
    },
    {
      "cell_type": "code",
      "execution_count": 44,
      "metadata": {
        "colab": {
          "base_uri": "https://localhost:8080/"
        },
        "id": "jI7m_dyeAI7T",
        "outputId": "e2a1b352-42ed-4cb5-de7a-e7ed965c3519"
      },
      "outputs": [
        {
          "name": "stdout",
          "output_type": "stream",
          "text": [
            "<class 'range'>\n",
            "0\n",
            "2\n",
            "4\n"
          ]
        }
      ],
      "source": [
        "#example 2: creating a variable of type 'range'\n",
        "run=range(0,5,2)\n",
        "print(type(run))\n",
        "for i in run:\n",
        "  print(i)"
      ]
    },
    {
      "cell_type": "code",
      "execution_count": 21,
      "metadata": {
        "colab": {
          "base_uri": "https://localhost:8080/"
        },
        "id": "V4kptg9v2fI5",
        "outputId": "504091d9-543a-4eb2-987d-a8856362ea30"
      },
      "outputs": [
        {
          "name": "stdout",
          "output_type": "stream",
          "text": [
            "<class 'list'>\n",
            "0\n",
            "1\n",
            "2\n"
          ]
        }
      ],
      "source": [
        "#example 3: use of [] to create a list , and not 'generator-object' using shorthand expression\n",
        "a=[i for i in range(3)]\n",
        "print(type(a))      #'a' is a list, not a generator object\n",
        "for i in a:         #iterating over list\n",
        "  print(i)"
      ]
    },
    {
      "cell_type": "code",
      "execution_count": 22,
      "metadata": {
        "colab": {
          "base_uri": "https://localhost:8080/",
          "height": 227
        },
        "id": "6gnok3P_3Ng_",
        "outputId": "38892865-2db1-4ad6-b014-a3fe77be6359"
      },
      "outputs": [
        {
          "ename": "TypeError",
          "evalue": "ignored",
          "output_type": "error",
          "traceback": [
            "\u001b[0;31m---------------------------------------------------------------------------\u001b[0m",
            "\u001b[0;31mTypeError\u001b[0m                                 Traceback (most recent call last)",
            "\u001b[0;32m<ipython-input-22-587b6baeab61>\u001b[0m in \u001b[0;36m<cell line: 3>\u001b[0;34m()\u001b[0m\n\u001b[1;32m      1\u001b[0m \u001b[0;31m#example 1:\u001b[0m\u001b[0;34m\u001b[0m\u001b[0;34m\u001b[0m\u001b[0m\n\u001b[1;32m      2\u001b[0m \u001b[0ma\u001b[0m\u001b[0;34m=\u001b[0m\u001b[0;34m[\u001b[0m\u001b[0mi\u001b[0m \u001b[0;32mfor\u001b[0m \u001b[0mi\u001b[0m \u001b[0;32min\u001b[0m \u001b[0mrange\u001b[0m\u001b[0;34m(\u001b[0m\u001b[0;36m3\u001b[0m\u001b[0;34m)\u001b[0m\u001b[0;34m]\u001b[0m\u001b[0;34m\u001b[0m\u001b[0;34m\u001b[0m\u001b[0m\n\u001b[0;32m----> 3\u001b[0;31m \u001b[0mprint\u001b[0m\u001b[0;34m(\u001b[0m\u001b[0mnext\u001b[0m\u001b[0;34m(\u001b[0m\u001b[0ma\u001b[0m\u001b[0;34m)\u001b[0m\u001b[0;34m)\u001b[0m\u001b[0;34m\u001b[0m\u001b[0;34m\u001b[0m\u001b[0m\n\u001b[0m\u001b[1;32m      4\u001b[0m \u001b[0mprint\u001b[0m\u001b[0;34m(\u001b[0m\u001b[0mnext\u001b[0m\u001b[0;34m(\u001b[0m\u001b[0ma\u001b[0m\u001b[0;34m)\u001b[0m\u001b[0;34m)\u001b[0m\u001b[0;34m\u001b[0m\u001b[0;34m\u001b[0m\u001b[0m\n",
            "\u001b[0;31mTypeError\u001b[0m: 'list' object is not an iterator"
          ]
        }
      ],
      "source": [
        "#example 4: error for 'list' not to be used as a generator-object\n",
        "a=[i for i in range(3)]\n",
        "print(next(a))\n",
        "print(next(a))"
      ]
    },
    {
      "cell_type": "code",
      "execution_count": 2,
      "metadata": {
        "colab": {
          "base_uri": "https://localhost:8080/"
        },
        "id": "f9fdIhmo28LC",
        "outputId": "3ac2eccc-fc3e-4b4b-8d7c-56d5e53afd92"
      },
      "outputs": [
        {
          "name": "stdout",
          "output_type": "stream",
          "text": [
            "<class 'list'>\n",
            "0\n",
            "4\n",
            "16\n",
            "36\n",
            "64\n"
          ]
        }
      ],
      "source": [
        "#example 5: shorthand list creation and iteration, not generator.\n",
        "a=[i**2 for i in range(10) if (i%2==0)]         #observe the use of [] braces here that creates 'list'  not a generator 'object'\n",
        "print(type(a))\n",
        "for i in a:\n",
        "  print(i)"
      ]
    },
    {
      "cell_type": "code",
      "execution_count": 77,
      "metadata": {
        "colab": {
          "base_uri": "https://localhost:8080/"
        },
        "id": "yo7xfKteFax1",
        "outputId": "7bad06b1-4c49-416a-a764-94183128aae8"
      },
      "outputs": [
        {
          "name": "stdout",
          "output_type": "stream",
          "text": [
            "enter the no of fibonacci series to be generated8\n",
            "fibonaci series\n",
            "1\n",
            "1\n",
            "2\n",
            "3\n",
            "5\n",
            "8\n",
            "13\n",
            "21\n",
            "square of fibonacci series\n",
            "1\n",
            "1\n",
            "4\n",
            "9\n",
            "25\n",
            "64\n",
            "169\n",
            "441\n"
          ]
        }
      ],
      "source": [
        "#example 6: having one generator-function and one recursive function\n",
        "# program to generate fibonacci series and squares of fibonacci series\n",
        "def fib_sqr(a):\n",
        "    yield a*a\n",
        "\n",
        "def fib(n):\n",
        "  if n==1 or n==2:\n",
        "    return 1\n",
        "  return fib(n-1) + fib(n-2)\n",
        "\n",
        "#start of main code\n",
        "n=int(input(\"enter the no of fibonacci series to be generated\"))\n",
        "#-----------------------------------------------------------------------------\n",
        "print(\"fibonaci series\")\n",
        "for i in range(1,n+1):\n",
        "  print(fib(i))\n",
        "#------------------------------------------------------------------------------\n",
        "print(\"square of fibonacci series\")\n",
        "for i in range(1,n+1):\n",
        "  res=fib_sqr(fib(i))\n",
        "  for j in res:\n",
        "    print(j)\n",
        "\n"
      ]
    }
  ],
  "metadata": {
    "colab": {
      "provenance": []
    },
    "kernelspec": {
      "display_name": "Python 3",
      "name": "python3"
    },
    "language_info": {
      "codemirror_mode": {
        "name": "ipython",
        "version": 3
      },
      "file_extension": ".py",
      "mimetype": "text/x-python",
      "name": "python",
      "nbconvert_exporter": "python",
      "pygments_lexer": "ipython3",
      "version": "3.12.0"
    }
  },
  "nbformat": 4,
  "nbformat_minor": 0
}
