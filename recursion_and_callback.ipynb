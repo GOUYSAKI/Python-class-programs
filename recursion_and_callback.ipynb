{
  "nbformat": 4,
  "nbformat_minor": 0,
  "metadata": {
    "colab": {
      "provenance": []
    },
    "kernelspec": {
      "name": "python3",
      "display_name": "Python 3"
    },
    "language_info": {
      "name": "python"
    }
  },
  "cells": [
    {
      "cell_type": "markdown",
      "source": [
        "# Recursions"
      ],
      "metadata": {
        "id": "b0UzPqC5cJkU"
      }
    },
    {
      "cell_type": "markdown",
      "source": [
        "function that calls itself"
      ],
      "metadata": {
        "id": "Wy5rQ0zFwuUi"
      }
    },
    {
      "cell_type": "code",
      "source": [
        "def f1(x):\n",
        "  if x==0:\n",
        "    return 0\n",
        "  return 1+f1(x-1)\n",
        "\n",
        "print(f1(3))"
      ],
      "metadata": {
        "colab": {
          "base_uri": "https://localhost:8080/"
        },
        "id": "QPX9YROepaYc",
        "outputId": "9851528f-9b95-49da-f216-1bf2147bbf63"
      },
      "execution_count": null,
      "outputs": [
        {
          "output_type": "stream",
          "name": "stdout",
          "text": [
            "3\n"
          ]
        }
      ]
    },
    {
      "cell_type": "code",
      "execution_count": null,
      "metadata": {
        "colab": {
          "base_uri": "https://localhost:8080/"
        },
        "id": "MTRmceVbwDRp",
        "outputId": "b0723ad8-9eda-4480-9ee0-9031192c1988"
      },
      "outputs": [
        {
          "output_type": "stream",
          "name": "stdout",
          "text": [
            "enter the n value for which fibonacci series to be generated8\n",
            "1\n",
            "1\n",
            "2\n",
            "3\n",
            "5\n",
            "8\n",
            "13\n",
            "21\n"
          ]
        }
      ],
      "source": [
        "#fibonacci series\n",
        "def fib(n):\n",
        "  if n==1 or n==2:\n",
        "    return 1\n",
        "  else:\n",
        "    return fib(n-1)+fib(n-2)\n",
        "n=int(input(\"enter the n value for which fibonacci series to be generated\"))\n",
        "for i in range(1,n+1):\n",
        "  print(fib(i))"
      ]
    },
    {
      "cell_type": "code",
      "source": [
        "#factorial of a number\n",
        "def fact(n):\n",
        "  if n==1 or n==0:\n",
        "    return 1\n",
        "  else:\n",
        "    return n*fact(n-1)\n",
        "print(fact(5))"
      ],
      "metadata": {
        "colab": {
          "base_uri": "https://localhost:8080/"
        },
        "id": "dPwyAQCyw5kA",
        "outputId": "2c22a490-5de5-4ba8-e5ff-bb7f823c1563"
      },
      "execution_count": null,
      "outputs": [
        {
          "output_type": "stream",
          "name": "stdout",
          "text": [
            "120\n"
          ]
        }
      ]
    },
    {
      "cell_type": "code",
      "source": [
        "#addition of two numbers using recursion\n",
        "def add(a,b):\n",
        "  if b==0:\n",
        "    return a\n",
        "  else:\n",
        "    return 1+add(a,b-1)\n",
        "a=int(input(\"enter a value\"))\n",
        "b=int(input(\"enter b value=\"))\n",
        "print(add(a,b))"
      ],
      "metadata": {
        "colab": {
          "base_uri": "https://localhost:8080/"
        },
        "id": "OrKuckXG0c4U",
        "outputId": "644491bf-dfd6-4b7d-ba4f-a6fef61a9263"
      },
      "execution_count": null,
      "outputs": [
        {
          "output_type": "stream",
          "name": "stdout",
          "text": [
            "enter a value6\n",
            "enter b value=9\n",
            "15\n"
          ]
        }
      ]
    },
    {
      "cell_type": "code",
      "source": [
        "#addition of two numbers using recursion\n",
        "def add(a,b):\n",
        "  if b==0:\n",
        "    return a\n",
        "  return 1+add(a,b-1)\n",
        "a=int(input(\"enter a value\"))\n",
        "b=int(input(\"enter b value=\"))\n",
        "print(add(a,b))"
      ],
      "metadata": {
        "colab": {
          "base_uri": "https://localhost:8080/"
        },
        "id": "Q66JT7by2eE7",
        "outputId": "40be7957-ca49-4968-d876-96e2c7e86a99"
      },
      "execution_count": null,
      "outputs": [
        {
          "output_type": "stream",
          "name": "stdout",
          "text": [
            "enter a value5\n",
            "enter b value=10\n",
            "15\n"
          ]
        }
      ]
    },
    {
      "cell_type": "code",
      "source": [
        "#subtraction of two numbers using recurssions\n",
        "def sub(a,b):\n",
        "  if b==0:\n",
        "    return a\n",
        "  return sub(a,b-1)-1\n",
        "a=int(input(\"enter a value\"))\n",
        "b=int(input(\"enter b value=\"))\n",
        "print(sub(a,b))"
      ],
      "metadata": {
        "colab": {
          "base_uri": "https://localhost:8080/"
        },
        "id": "cazo8NI8269k",
        "outputId": "a2b27d81-97e6-4242-89c8-879eb7e8c854"
      },
      "execution_count": null,
      "outputs": [
        {
          "output_type": "stream",
          "name": "stdout",
          "text": [
            "enter a value9\n",
            "enter b value=19\n",
            "-10\n"
          ]
        }
      ]
    },
    {
      "cell_type": "code",
      "source": [
        "#subtraction of two numbers using recursions\n",
        "def add(a,b):\n",
        "  if b==0:\n",
        "    return a\n",
        "  return sub(a-1,b-1)\n",
        "a=int(input(\"enter a value\"))\n",
        "b=int(input(\"enter b value=\"))\n",
        "print(add(a,b))"
      ],
      "metadata": {
        "colab": {
          "base_uri": "https://localhost:8080/"
        },
        "id": "7gP-TL7f358K",
        "outputId": "f0fa80a3-9043-48aa-f21b-95325979f118"
      },
      "execution_count": null,
      "outputs": [
        {
          "output_type": "stream",
          "name": "stdout",
          "text": [
            "enter a value8\n",
            "enter b value=10\n",
            "-2\n"
          ]
        }
      ]
    },
    {
      "cell_type": "code",
      "source": [
        "#product of two numbers using recurssions\n",
        "def prod(a,b):\n",
        "  if b==1:\n",
        "    return a\n",
        "  return a+ prod(a,b-1)\n",
        "a=int(input(\"enter a value=\"))\n",
        "b=int(input(\"enter b value=\"))\n",
        "print(prod(a,b))"
      ],
      "metadata": {
        "colab": {
          "base_uri": "https://localhost:8080/"
        },
        "id": "6kozKVv94QIk",
        "outputId": "5057f301-a2ff-4acc-bb6a-417d81ce156b"
      },
      "execution_count": null,
      "outputs": [
        {
          "output_type": "stream",
          "name": "stdout",
          "text": [
            "enter a value=-3\n",
            "enter b value=5\n",
            "-15\n"
          ]
        }
      ]
    },
    {
      "cell_type": "code",
      "source": [
        "#division of 2 numbers using recursions\n",
        "def div(a,b):\n",
        "  if a<b:\n",
        "    return 0\n",
        "  return 1+div(a-b,b)\n",
        "a=int(input(\"enter a value=\"))\n",
        "b=int(input(\"enter b value=\"))\n",
        "print(div(a,b))"
      ],
      "metadata": {
        "colab": {
          "base_uri": "https://localhost:8080/"
        },
        "id": "b1ctmj4N5s60",
        "outputId": "c697f92c-73da-4b0e-b3ca-8161f6c65535"
      },
      "execution_count": null,
      "outputs": [
        {
          "output_type": "stream",
          "name": "stdout",
          "text": [
            "enter a value=8\n",
            "enter b value=2\n",
            "4\n"
          ]
        }
      ]
    },
    {
      "cell_type": "markdown",
      "source": [
        "# callback"
      ],
      "metadata": {
        "id": "O1P6WMut7uvv"
      }
    },
    {
      "cell_type": "markdown",
      "source": [
        "function that has another function as one of its arguments"
      ],
      "metadata": {
        "id": "jPFdtjkb8Yod"
      }
    },
    {
      "cell_type": "code",
      "source": [
        "lst1=[10,200,30,40]\n",
        "print(sorted(lst1))\n",
        "lst1.sort()\n",
        "print(lst1)"
      ],
      "metadata": {
        "colab": {
          "base_uri": "https://localhost:8080/"
        },
        "id": "JRCc5k_T7x3N",
        "outputId": "2fc35bf7-53db-417a-b0e7-820716d08828"
      },
      "execution_count": null,
      "outputs": [
        {
          "output_type": "stream",
          "name": "stdout",
          "text": [
            "[10, 30, 40, 200]\n",
            "[10, 30, 40, 200]\n"
          ]
        }
      ]
    },
    {
      "cell_type": "code",
      "source": [
        "lst2=[\"Hello\", \"Welcome\", \"to\", \"python\", \"world\"]\n",
        "print(sorted(lst2))\n",
        "print(sorted(lst2, key=str.upper))"
      ],
      "metadata": {
        "colab": {
          "base_uri": "https://localhost:8080/"
        },
        "id": "VV035iBU8sEb",
        "outputId": "8dab2a9d-01c9-43fa-c0fc-03c27b15b6d4"
      },
      "execution_count": null,
      "outputs": [
        {
          "output_type": "stream",
          "name": "stdout",
          "text": [
            "['Hello', 'Welcome', 'python', 'to', 'world']\n",
            "['Hello', 'python', 'to', 'Welcome', 'world']\n"
          ]
        }
      ]
    },
    {
      "cell_type": "code",
      "source": [
        "# callback illustration using user-defined function\n",
        "def multiply(x):\n",
        "  return x[0]*x[1]\n",
        "\n",
        "def compute(f3,x):\n",
        "  return f3(x)\n",
        "\n",
        "num_list=[2,3]\n",
        "product=compute(multiply,num_list)\n",
        "print(\"Multiplication=\",product)"
      ],
      "metadata": {
        "colab": {
          "base_uri": "https://localhost:8080/"
        },
        "id": "jcYwNLwM-WIL",
        "outputId": "e61c2c8a-1829-4664-c952-23b02f9b4ae8"
      },
      "execution_count": null,
      "outputs": [
        {
          "output_type": "stream",
          "name": "stdout",
          "text": [
            "Multiplication= 6\n"
          ]
        }
      ]
    },
    {
      "cell_type": "code",
      "source": [
        "\n",
        "#callback example 2\n",
        "def f1(f2):\n",
        "  return f2\n",
        "def f2():\n",
        "  return \"callback successful\"\n",
        "print(f1(f2()))\n",
        "#f1(f2())"
      ],
      "metadata": {
        "colab": {
          "base_uri": "https://localhost:8080/",
          "height": 35
        },
        "id": "_60g_6sI_l79",
        "outputId": "7a2d7386-b50e-45cf-933d-3a379373eca7"
      },
      "execution_count": null,
      "outputs": [
        {
          "output_type": "execute_result",
          "data": {
            "text/plain": [
              "'callback successful'"
            ],
            "application/vnd.google.colaboratory.intrinsic+json": {
              "type": "string"
            }
          },
          "metadata": {},
          "execution_count": 8
        }
      ]
    },
    {
      "cell_type": "code",
      "source": [
        "#callback example 3\n",
        "def function(func_list, x, y):\n",
        "  print(\"Inside function\")\n",
        "  for func in func_list:\n",
        "    func(x,y)\n",
        "\n",
        "def add(x,y):\n",
        "  z = x+y\n",
        "  print('Sum =',z)\n",
        "\n",
        "def divide(x,y):\n",
        "  z = x/y\n",
        "  print('Quotient =',z)\n",
        "\n",
        "cb_list=[add, divide]\n",
        "function(cb_list, 10, 5)"
      ],
      "metadata": {
        "colab": {
          "base_uri": "https://localhost:8080/"
        },
        "id": "pS0Dz9SjA46v",
        "outputId": "bdae04f0-a87d-41e1-f419-84fa09bfb505"
      },
      "execution_count": null,
      "outputs": [
        {
          "output_type": "stream",
          "name": "stdout",
          "text": [
            "Inside function\n",
            "Sum = 15\n",
            "Quotient = 2.0\n"
          ]
        }
      ]
    },
    {
      "cell_type": "code",
      "source": [
        "def check(check):\n",
        "  print('checking the working of callback')\n",
        "  return 'w'\n",
        "print(check(check(check)))"
      ],
      "metadata": {
        "colab": {
          "base_uri": "https://localhost:8080/"
        },
        "id": "hJof857NBsPf",
        "outputId": "31876b7a-7265-4617-af8d-b1acfe34170c"
      },
      "execution_count": null,
      "outputs": [
        {
          "output_type": "stream",
          "name": "stdout",
          "text": [
            "checking the working of callback\n",
            "checking the working of callback\n",
            "w\n"
          ]
        }
      ]
    },
    {
      "cell_type": "code",
      "source": [
        "def check(check1):\n",
        "  print('checking the working of callback')\n",
        "  return 1\n",
        "print(check(check))"
      ],
      "metadata": {
        "colab": {
          "base_uri": "https://localhost:8080/"
        },
        "id": "0WR3P-LICM-r",
        "outputId": "f2c218a4-62a6-4d50-adff-5971dc38f2d4"
      },
      "execution_count": null,
      "outputs": [
        {
          "output_type": "stream",
          "name": "stdout",
          "text": [
            "checking the working of callback\n",
            "1\n"
          ]
        }
      ]
    }
  ]
}