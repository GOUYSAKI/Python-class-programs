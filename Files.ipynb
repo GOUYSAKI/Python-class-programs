{
  "nbformat": 4,
  "nbformat_minor": 0,
  "metadata": {
    "colab": {
      "provenance": [],
      "collapsed_sections": [
        "dGWkCSKl8gp-",
        "LO8maol-H8nN",
        "2ikEIlxxLklS",
        "l-NeDBL0OT74",
        "3U-zjd2JPS-J",
        "uITvkedlTnZB",
        "OnE41Or3RYvF"
      ]
    },
    "kernelspec": {
      "name": "python3",
      "display_name": "Python 3"
    },
    "language_info": {
      "name": "python"
    }
  },
  "cells": [
    {
      "cell_type": "markdown",
      "source": [
        "This colab gives only the usge examples on Files.\n",
        "Refer to the slides for theoretical information"
      ],
      "metadata": {
        "id": "wSSdzA0p70L8"
      }
    },
    {
      "cell_type": "markdown",
      "source": [
        "File Operations:-\n",
        "\n",
        "1) open()\n",
        "\n",
        "2) read()\n",
        "\n",
        "3) write()\n",
        "\n",
        "4) close()"
      ],
      "metadata": {
        "id": "pinAxgkp7-3F"
      }
    },
    {
      "cell_type": "markdown",
      "source": [
        "# open(\"file_name with location\",\"mode\")"
      ],
      "metadata": {
        "id": "dGWkCSKl8gp-"
      }
    },
    {
      "cell_type": "markdown",
      "source": [
        "1) openning the file in 'r'mode i.r. read-only mode\n",
        "\n",
        "    -other mode is 'r+' to perform both read and write to the existing file without truncating the file"
      ],
      "metadata": {
        "id": "MpWAIjCz-WMH"
      }
    },
    {
      "cell_type": "code",
      "execution_count": null,
      "metadata": {
        "colab": {
          "base_uri": "https://localhost:8080/"
        },
        "id": "IlrX1Zyn7xJW",
        "outputId": "dee9dc83-da50-4b1b-ae3a-dd19383aac87"
      },
      "outputs": [
        {
          "output_type": "stream",
          "name": "stdout",
          "text": [
            "<_io.TextIOWrapper name='/content/data.txt' mode='r' encoding='UTF-8'>\n",
            "<class '_io.TextIOWrapper'>\n",
            "file is openned successfully\n"
          ]
        }
      ],
      "source": [
        "#Example 1:- if file exists, it opens the existing file\n",
        "fp=open(\"/content/data.txt\")\t\t#default mode is r -- read mode\n",
        "print(fp)\n",
        "print(type(fp))\n",
        "if(fp):\n",
        "  print(\"file is openned successfully\")\n",
        "else:\n",
        "  print(\"file does not exist, cannot open the non-existing file in read mode\")"
      ]
    },
    {
      "cell_type": "code",
      "source": [
        "#Example 2:- for file not existing\n",
        "fp=open(\"/content/junk.txt\")\t\t#throws error saying not sucg file or directory\n"
      ],
      "metadata": {
        "colab": {
          "base_uri": "https://localhost:8080/",
          "height": 193
        },
        "id": "B_ejgJ0a9fxH",
        "outputId": "73bc7920-1756-46ad-c7c3-5cb0715496ab"
      },
      "execution_count": null,
      "outputs": [
        {
          "output_type": "error",
          "ename": "FileNotFoundError",
          "evalue": "ignored",
          "traceback": [
            "\u001b[0;31m---------------------------------------------------------------------------\u001b[0m",
            "\u001b[0;31mFileNotFoundError\u001b[0m                         Traceback (most recent call last)",
            "\u001b[0;32m<ipython-input-7-ce012e08401f>\u001b[0m in \u001b[0;36m<cell line: 2>\u001b[0;34m()\u001b[0m\n\u001b[1;32m      1\u001b[0m \u001b[0;31m#Example 2:- for file not existing\u001b[0m\u001b[0;34m\u001b[0m\u001b[0;34m\u001b[0m\u001b[0m\n\u001b[0;32m----> 2\u001b[0;31m \u001b[0mfp\u001b[0m\u001b[0;34m=\u001b[0m\u001b[0mopen\u001b[0m\u001b[0;34m(\u001b[0m\u001b[0;34m\"/content/junk.txt\"\u001b[0m\u001b[0;34m)\u001b[0m            \u001b[0;31m#throws error saying not sucg file or directory\u001b[0m\u001b[0;34m\u001b[0m\u001b[0;34m\u001b[0m\u001b[0m\n\u001b[0m",
            "\u001b[0;31mFileNotFoundError\u001b[0m: [Errno 2] No such file or directory: '/content/junk.txt'"
          ]
        }
      ]
    },
    {
      "cell_type": "markdown",
      "source": [
        "2) openning the file in write 'w' mode\n",
        "\n",
        "    - open the file if existing by truncating the previous contents of the file\n",
        "\n",
        "    -creates a new file if file does not exists.\n",
        "\n",
        "    -other mode is 'w+' mode to perform both write and read operation"
      ],
      "metadata": {
        "id": "kuZtSEKF-be3"
      }
    },
    {
      "cell_type": "code",
      "source": [
        "#Example 1: openning the existing file in 'w' mode\n",
        "str1=\"overwriting the existing file\"\n",
        "fp=open(\"/content/data.txt\",'w')\n",
        "print(str1,file=fp)"
      ],
      "metadata": {
        "id": "SNXcjndl-iee"
      },
      "execution_count": null,
      "outputs": []
    },
    {
      "cell_type": "markdown",
      "source": [
        "3) openning the file in append 'a' mode\n",
        "\n",
        "    -opens the file if existing without truncating the previous contents. Allows to add new content to the end of the file\n",
        "\n",
        "    -if file does not exist, it creates a new file with the given file name\n",
        "\n",
        "    -other mode is 'a+' to perform both read and append operation"
      ],
      "metadata": {
        "id": "u_k483BeFmMV"
      }
    },
    {
      "cell_type": "code",
      "source": [
        "#Example 1: openning the file in 'a' mode\n",
        "fp=open(\"/content/new_data.txt\",'a')\n",
        "print(\"openning a new file in append mode\",file=fp)"
      ],
      "metadata": {
        "id": "VFyRS-soFlre"
      },
      "execution_count": null,
      "outputs": []
    },
    {
      "cell_type": "markdown",
      "source": [
        "# read()\n",
        "\n",
        "    -to read the file contents"
      ],
      "metadata": {
        "id": "LO8maol-H8nN"
      }
    },
    {
      "cell_type": "code",
      "source": [
        "#Example 1: to read from the existing file under 'r' mode\n",
        "fp=open(\"/content/data.txt\")\n",
        "buf=fp.read()\n",
        "print(buf)"
      ],
      "metadata": {
        "colab": {
          "base_uri": "https://localhost:8080/"
        },
        "id": "9oOin5obIEGO",
        "outputId": "254cdc8b-c9d1-469d-b181-098484553e90"
      },
      "execution_count": null,
      "outputs": [
        {
          "output_type": "stream",
          "name": "stdout",
          "text": [
            "overwriting the existing file\n",
            "\n"
          ]
        }
      ]
    },
    {
      "cell_type": "code",
      "source": [
        "#Example 2: to read from the existing file under 'r+' mode\n",
        "fp=open(\"/content/data.txt\",'r+')\n",
        "buf=fp.read()\n",
        "print(buf)"
      ],
      "metadata": {
        "colab": {
          "base_uri": "https://localhost:8080/"
        },
        "id": "TWjc7UFmIaHR",
        "outputId": "f4a6ca34-a999-4cdf-ef90-94e34b2085ff"
      },
      "execution_count": null,
      "outputs": [
        {
          "output_type": "stream",
          "name": "stdout",
          "text": [
            "overwriting the existing file\n",
            "\n"
          ]
        }
      ]
    },
    {
      "cell_type": "code",
      "source": [
        "#Example 3: to read from the existing file under 'w' mode\n",
        "#this throws error, because the mode of file openned is 'w' but i am trying to perform read-operation\n",
        "fp=open(\"/content/data.txt\",'w')\n",
        "buf=fp.read()\n",
        "print(buf)"
      ],
      "metadata": {
        "colab": {
          "base_uri": "https://localhost:8080/",
          "height": 227
        },
        "id": "HrZK2wJyIg2Z",
        "outputId": "5392afc2-bb0e-4531-d6c7-98dd1e7f8380"
      },
      "execution_count": null,
      "outputs": [
        {
          "output_type": "error",
          "ename": "UnsupportedOperation",
          "evalue": "ignored",
          "traceback": [
            "\u001b[0;31m---------------------------------------------------------------------------\u001b[0m",
            "\u001b[0;31mUnsupportedOperation\u001b[0m                      Traceback (most recent call last)",
            "\u001b[0;32m<ipython-input-18-da98b2ef3183>\u001b[0m in \u001b[0;36m<cell line: 3>\u001b[0;34m()\u001b[0m\n\u001b[1;32m      1\u001b[0m \u001b[0;31m#Example 3: to read from the existing file under 'w' mode\u001b[0m\u001b[0;34m\u001b[0m\u001b[0;34m\u001b[0m\u001b[0m\n\u001b[1;32m      2\u001b[0m \u001b[0mfp\u001b[0m\u001b[0;34m=\u001b[0m\u001b[0mopen\u001b[0m\u001b[0;34m(\u001b[0m\u001b[0;34m\"/content/data.txt\"\u001b[0m\u001b[0;34m,\u001b[0m\u001b[0;34m'w'\u001b[0m\u001b[0;34m)\u001b[0m\u001b[0;34m\u001b[0m\u001b[0;34m\u001b[0m\u001b[0m\n\u001b[0;32m----> 3\u001b[0;31m \u001b[0mbuf\u001b[0m\u001b[0;34m=\u001b[0m\u001b[0mfp\u001b[0m\u001b[0;34m.\u001b[0m\u001b[0mread\u001b[0m\u001b[0;34m(\u001b[0m\u001b[0;34m)\u001b[0m\u001b[0;34m\u001b[0m\u001b[0;34m\u001b[0m\u001b[0m\n\u001b[0m\u001b[1;32m      4\u001b[0m \u001b[0mprint\u001b[0m\u001b[0;34m(\u001b[0m\u001b[0mbuf\u001b[0m\u001b[0;34m)\u001b[0m\u001b[0;34m\u001b[0m\u001b[0;34m\u001b[0m\u001b[0m\n",
            "\u001b[0;31mUnsupportedOperation\u001b[0m: not readable"
          ]
        }
      ]
    },
    {
      "cell_type": "code",
      "source": [
        "#Example 4: to read from the existing file under 'w+' mode\n",
        "#here the file is openned in 'w+' mode -were the previous file contents are truncated, hence when the file is openned to read, it shows empty\n",
        "fp=open(\"/content/data.txt\",'w+')\n",
        "buf=fp.read()\n",
        "print(buf)"
      ],
      "metadata": {
        "colab": {
          "base_uri": "https://localhost:8080/"
        },
        "id": "LHL6Sx8MIwHh",
        "outputId": "4f3abf77-1140-4508-983e-ebe558e3f90d"
      },
      "execution_count": null,
      "outputs": [
        {
          "output_type": "stream",
          "name": "stdout",
          "text": [
            "\n"
          ]
        }
      ]
    },
    {
      "cell_type": "code",
      "source": [
        "#Example 4: to read from the existing file under 'a+' mode\n",
        "#here the file is openned in 'a+' mode -were the previous file contents are retained\n",
        "#since for 'a' mode, the file-pointer(fp) whould have gone to the end of the file, there by reading from end of the file displays nothing\n",
        "#but the file contens are preserved\n",
        "fp=open(\"/content/data.txt\",'a+')\n",
        "buf=fp.read()\n",
        "print(buf)"
      ],
      "metadata": {
        "colab": {
          "base_uri": "https://localhost:8080/"
        },
        "id": "YA8c9OttKD7b",
        "outputId": "9aea6155-cede-4020-ee95-a197fa429a57"
      },
      "execution_count": null,
      "outputs": [
        {
          "output_type": "stream",
          "name": "stdout",
          "text": [
            "\n"
          ]
        }
      ]
    },
    {
      "cell_type": "markdown",
      "source": [
        "# write()\n",
        "\n",
        "  -to write the contents to the file"
      ],
      "metadata": {
        "id": "2ikEIlxxLklS"
      }
    },
    {
      "cell_type": "code",
      "source": [
        "# Example 1:- file open in 'r' mode to write the contents\n",
        "# throws error\n",
        "fp=open(\"/content/data.txt\",'r')\n",
        "fp.write(\"trying to write inside file in 'r' mode\")"
      ],
      "metadata": {
        "colab": {
          "base_uri": "https://localhost:8080/",
          "height": 210
        },
        "id": "c5Oo__bCLsFg",
        "outputId": "497668ae-759b-4cbf-c44f-c7b5ffc6bb12"
      },
      "execution_count": null,
      "outputs": [
        {
          "output_type": "error",
          "ename": "UnsupportedOperation",
          "evalue": "ignored",
          "traceback": [
            "\u001b[0;31m---------------------------------------------------------------------------\u001b[0m",
            "\u001b[0;31mUnsupportedOperation\u001b[0m                      Traceback (most recent call last)",
            "\u001b[0;32m<ipython-input-32-da2e911794ff>\u001b[0m in \u001b[0;36m<cell line: 4>\u001b[0;34m()\u001b[0m\n\u001b[1;32m      2\u001b[0m \u001b[0;31m# thros error\u001b[0m\u001b[0;34m\u001b[0m\u001b[0;34m\u001b[0m\u001b[0m\n\u001b[1;32m      3\u001b[0m \u001b[0mfp\u001b[0m\u001b[0;34m=\u001b[0m\u001b[0mopen\u001b[0m\u001b[0;34m(\u001b[0m\u001b[0;34m\"/content/new_data.txt\"\u001b[0m\u001b[0;34m,\u001b[0m\u001b[0;34m'r'\u001b[0m\u001b[0;34m)\u001b[0m\u001b[0;34m\u001b[0m\u001b[0;34m\u001b[0m\u001b[0m\n\u001b[0;32m----> 4\u001b[0;31m \u001b[0mfp\u001b[0m\u001b[0;34m.\u001b[0m\u001b[0mwrite\u001b[0m\u001b[0;34m(\u001b[0m\u001b[0;34m\"trying to write inside file in 'r' mode\"\u001b[0m\u001b[0;34m)\u001b[0m\u001b[0;34m\u001b[0m\u001b[0;34m\u001b[0m\u001b[0m\n\u001b[0m",
            "\u001b[0;31mUnsupportedOperation\u001b[0m: not writable"
          ]
        }
      ]
    },
    {
      "cell_type": "code",
      "source": [
        "# Example 2:- file open in 'r+' mode to write the contents\n",
        "fp=open(\"/content/data.txt\",'r+')\n",
        "d=fp.read()\n",
        "print(d)\n",
        "fp.write(\"updated\")\n",
        "d=fp.read()\n",
        "print(d)"
      ],
      "metadata": {
        "colab": {
          "base_uri": "https://localhost:8080/"
        },
        "id": "zoRepLnrL9VW",
        "outputId": "e517c88e-6d8a-43b9-a02c-19378691b518"
      },
      "execution_count": null,
      "outputs": [
        {
          "output_type": "stream",
          "name": "stdout",
          "text": [
            "trying to write inside file in 'r+' modetrying to write inside file in 'r+' modeupdatedupdated\n",
            "\n"
          ]
        }
      ]
    },
    {
      "cell_type": "code",
      "source": [
        "# Example 3:- file open in 'w' mode to write the contents\n",
        "fp=open(\"/content/data.txt\",'w')\n",
        "fp.write(\"updated\")                 #7 is the no.of characters written to the file, here in colab, since t is the last command written, it shows the return value of that command\n",
        "#in command mode- it wont show 7(count of characters written, unless it is stored in a variable and printed or passed inside print command)"
      ],
      "metadata": {
        "colab": {
          "base_uri": "https://localhost:8080/"
        },
        "id": "atuVfS78NE3T",
        "outputId": "67d63663-0386-4272-fe68-4b869dc752a7"
      },
      "execution_count": null,
      "outputs": [
        {
          "output_type": "execute_result",
          "data": {
            "text/plain": [
              "7"
            ]
          },
          "metadata": {},
          "execution_count": 43
        }
      ]
    },
    {
      "cell_type": "markdown",
      "source": [
        "# close()\n",
        "\n",
        "  -functiont to close the file that is openned properly to avoid file damage"
      ],
      "metadata": {
        "id": "l-NeDBL0OT74"
      }
    },
    {
      "cell_type": "code",
      "source": [
        "#Example 1\n",
        "fp=open('/content/close_data.txt','w+')\n",
        "fp.write(\"inserting new contents to the file\")\n",
        "fp.close()\n",
        "fp=open('/content/close_data.txt','r')\n",
        "d=fp.read()\n",
        "print(d)\n",
        "fp.close()\n"
      ],
      "metadata": {
        "colab": {
          "base_uri": "https://localhost:8080/"
        },
        "id": "0n6mIPmiOeG1",
        "outputId": "e2b4acc2-21cb-4e09-8654-b82aaec29b6f"
      },
      "execution_count": null,
      "outputs": [
        {
          "output_type": "stream",
          "name": "stdout",
          "text": [
            "inserting new contents to the file\n"
          ]
        }
      ]
    },
    {
      "cell_type": "markdown",
      "source": [
        "# readline() :-for reading one line at a time"
      ],
      "metadata": {
        "id": "3U-zjd2JPS-J"
      }
    },
    {
      "cell_type": "code",
      "source": [
        "#Example 1\n",
        "fp = open(\"data.txt\")\n",
        "k=fp.readline()\t\t#one line at a time as a string\n",
        "print(k)"
      ],
      "metadata": {
        "colab": {
          "base_uri": "https://localhost:8080/"
        },
        "id": "r1s6S2XXPt7m",
        "outputId": "1e396e02-76aa-4a53-b981-1960def529df"
      },
      "execution_count": null,
      "outputs": [
        {
          "output_type": "stream",
          "name": "stdout",
          "text": [
            "do not \n",
            "\n"
          ]
        }
      ]
    },
    {
      "cell_type": "code",
      "source": [
        "#Example 2\n",
        "fp = open(\"data.txt\", \"r\")\n",
        "line1 = fp.readline()\n",
        "print(\"first line : \", line1)\n",
        "line2 = fp.readline()\n",
        "print(\"second line : \", line2)\n",
        "print(\"first line : \", line1.strip())\n",
        "print(\"second line : \", line2.strip())\n",
        "f.close()"
      ],
      "metadata": {
        "colab": {
          "base_uri": "https://localhost:8080/"
        },
        "id": "WvQJ1EHpQ9lM",
        "outputId": "306909f6-3d6f-4647-99b5-723730c6cae4"
      },
      "execution_count": null,
      "outputs": [
        {
          "output_type": "stream",
          "name": "stdout",
          "text": [
            "first line :  do not \n",
            "\n",
            "second line :  trouble \n",
            "\n",
            "first line :  do not\n",
            "second line :  trouble\n"
          ]
        }
      ]
    },
    {
      "cell_type": "markdown",
      "source": [
        "# readlines() :- for reading all the lines in a file and stores it as a list"
      ],
      "metadata": {
        "id": "uITvkedlTnZB"
      }
    },
    {
      "cell_type": "code",
      "source": [
        "#Example 1\n",
        "fp = open(\"data.txt\")\n",
        "k=fp.readlines()\t\t#returns a list of strings\n",
        "print(k)"
      ],
      "metadata": {
        "colab": {
          "base_uri": "https://localhost:8080/"
        },
        "id": "Rhj4sc8kPygm",
        "outputId": "390a4e9c-0a1c-41eb-dbdc-94ff3c09c87b"
      },
      "execution_count": null,
      "outputs": [
        {
          "output_type": "stream",
          "name": "stdout",
          "text": [
            "['do not \\n', 'trouble \\n', 'the trouble\\n', ' till \\n', 'trouble\\n', '\\n', 'troubles you\\n']\n"
          ]
        }
      ]
    },
    {
      "cell_type": "code",
      "source": [
        "#Example 2\n",
        "fp = open(\"data.txt\",\"r\")\n",
        "k=fp.readlines()\t\t#k is a list\n",
        "print(k)\n",
        "for line in k:\t#iterating through it one line at a time\n",
        "\tprint(line,end=\"\")\n",
        "fp.close()"
      ],
      "metadata": {
        "colab": {
          "base_uri": "https://localhost:8080/"
        },
        "id": "rZMzzHpLPzen",
        "outputId": "f1abcd54-dfbc-4cfd-e342-a6bf2a2610ea"
      },
      "execution_count": null,
      "outputs": [
        {
          "output_type": "stream",
          "name": "stdout",
          "text": [
            "['do not \\n', 'trouble \\n', 'the trouble\\n', ' till \\n', 'trouble\\n', '\\n', 'troubles you\\n']\n",
            "do not \n",
            "trouble \n",
            "the trouble\n",
            " till \n",
            "trouble\n",
            "\n",
            "troubles you\n"
          ]
        }
      ]
    },
    {
      "cell_type": "markdown",
      "source": [
        "# Small programs"
      ],
      "metadata": {
        "id": "OnE41Or3RYvF"
      }
    },
    {
      "cell_type": "markdown",
      "source": [
        "1) To count the number of trouble words in the 'data.txt' file"
      ],
      "metadata": {
        "id": "Fdtd3NvZRuXz"
      }
    },
    {
      "cell_type": "code",
      "source": [
        "#solution 1\n",
        "fp = open(\"data.txt\", \"r\")\n",
        "data = fp.read()\n",
        "print(\"count is\",data.count(\"trouble\"))\n",
        "fp.close()"
      ],
      "metadata": {
        "colab": {
          "base_uri": "https://localhost:8080/"
        },
        "id": "oIDNX2BFRbX5",
        "outputId": "32470ddb-1245-4459-f24b-3edb7e43d5b2"
      },
      "execution_count": null,
      "outputs": [
        {
          "output_type": "stream",
          "name": "stdout",
          "text": [
            "count is 4\n"
          ]
        }
      ]
    },
    {
      "cell_type": "code",
      "source": [
        "#solution 2\n",
        "fp = open(\"data.txt\")\n",
        "data = fp.readlines()\n",
        "count = 0\n",
        "fp.close()\n",
        "for line in data:\n",
        "        count += line.count(\"trouble\")\n",
        "print(\"count is\",count)"
      ],
      "metadata": {
        "colab": {
          "base_uri": "https://localhost:8080/"
        },
        "id": "NOu9GIZGRowL",
        "outputId": "e609c732-9f82-4d25-9897-7a2bef729ebf"
      },
      "execution_count": null,
      "outputs": [
        {
          "output_type": "stream",
          "name": "stdout",
          "text": [
            "count is 4\n"
          ]
        }
      ]
    },
    {
      "cell_type": "markdown",
      "source": [
        "2) Program to print line number with the line"
      ],
      "metadata": {
        "id": "MSoC3NwMSDCT"
      }
    },
    {
      "cell_type": "code",
      "source": [
        "\n",
        "#Solution 1\n",
        "fp = open(\"/content/data.txt\")\n",
        "count = 0\n",
        "for line in fp.readlines():\n",
        "        count=count+1\n",
        "        print(count, line.strip())#to remove starting and ending whitespaces\n",
        "fp.close()"
      ],
      "metadata": {
        "colab": {
          "base_uri": "https://localhost:8080/"
        },
        "id": "OPSlqz53R9oh",
        "outputId": "f1254861-e89d-4c33-c51e-43cd4afe1e06"
      },
      "execution_count": null,
      "outputs": [
        {
          "output_type": "stream",
          "name": "stdout",
          "text": [
            "1 do not\n",
            "2 trouble\n",
            "3 the trouble\n",
            "4 till\n",
            "5 trouble\n",
            "6 \n",
            "7 troubles you\n"
          ]
        }
      ]
    },
    {
      "cell_type": "code",
      "source": [
        "#Solution 2\n",
        "fp = open(\"data.txt\")\n",
        "line = fp.readline()\n",
        "count = 1\n",
        "while line:\n",
        "        print(count, line.strip())\n",
        "        line = fp.readline()\n",
        "        count += 1\n",
        "fp.close()"
      ],
      "metadata": {
        "colab": {
          "base_uri": "https://localhost:8080/"
        },
        "id": "NPYDqTH5R9gA",
        "outputId": "cc2e96b0-7a35-46ec-b632-866d90b63049"
      },
      "execution_count": null,
      "outputs": [
        {
          "output_type": "stream",
          "name": "stdout",
          "text": [
            "1 do not\n",
            "2 trouble\n",
            "3 the trouble\n",
            "4 till\n",
            "5 trouble\n",
            "6 \n",
            "7 troubles you\n"
          ]
        }
      ]
    }
  ]
}