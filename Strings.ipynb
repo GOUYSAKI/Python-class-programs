{
  "nbformat": 4,
  "nbformat_minor": 0,
  "metadata": {
    "colab": {
      "provenance": [],
      "collapsed_sections": [
        "s5Wf3Rzljfyz",
        "1TS8NF55j8e_",
        "1FB6dLR3ky9f",
        "JoOv3fN8mcPX",
        "iZphVr7QnndW",
        "63H9prW6vG9O",
        "3FWQc2-6qizH"
      ]
    },
    "kernelspec": {
      "name": "python3",
      "display_name": "Python 3"
    },
    "language_info": {
      "name": "python"
    }
  },
  "cells": [
    {
      "cell_type": "markdown",
      "source": [
        "String: A Data Structure defined as   \"sequence of zero or more alphanumeric characters\"."
      ],
      "metadata": {
        "id": "ktocKrWgi_hX"
      }
    },
    {
      "cell_type": "markdown",
      "source": [
        "# String variable creation"
      ],
      "metadata": {
        "id": "s5Wf3Rzljfyz"
      }
    },
    {
      "cell_type": "code",
      "source": [
        "str1=str()    #an empty string is created under the string variable name str1, i.e str1 contains ''\n",
        "print(str1)"
      ],
      "metadata": {
        "colab": {
          "base_uri": "https://localhost:8080/"
        },
        "id": "gBhbr0Iqi-sl",
        "outputId": "eaf3478a-162f-4d6e-b61f-02dc63e4ce80"
      },
      "execution_count": null,
      "outputs": [
        {
          "output_type": "stream",
          "name": "stdout",
          "text": [
            "\n"
          ]
        }
      ]
    },
    {
      "cell_type": "code",
      "execution_count": null,
      "metadata": {
        "id": "TnKmMOZXiXQs"
      },
      "outputs": [],
      "source": [
        "str1"
      ]
    },
    {
      "cell_type": "markdown",
      "source": [
        "# Insertion"
      ],
      "metadata": {
        "id": "1TS8NF55j8e_"
      }
    },
    {
      "cell_type": "markdown",
      "source": [
        "Method 1: from programmer end"
      ],
      "metadata": {
        "id": "9KMFjsxMkSeW"
      }
    },
    {
      "cell_type": "code",
      "source": [
        "str2=\"welcome to python programming! today is 17th October 2023\"\n",
        "print(str2)"
      ],
      "metadata": {
        "colab": {
          "base_uri": "https://localhost:8080/"
        },
        "id": "5F3NLpS0kEp2",
        "outputId": "b60f83fb-2261-4d82-e5c4-059cf20bed43"
      },
      "execution_count": null,
      "outputs": [
        {
          "output_type": "stream",
          "name": "stdout",
          "text": [
            "welcome to python programming! today is 17th October 2023\n"
          ]
        }
      ]
    },
    {
      "cell_type": "markdown",
      "source": [
        "Method 2: Accepting string from user end"
      ],
      "metadata": {
        "id": "c3ToWnjhkhoI"
      }
    },
    {
      "cell_type": "code",
      "source": [
        "str3=input(\"enter your name\")\n",
        "print(str3)"
      ],
      "metadata": {
        "colab": {
          "base_uri": "https://localhost:8080/"
        },
        "id": "aKDN-mEzkmFh",
        "outputId": "5917f8f7-d62f-4e23-dad5-303d8e214d33"
      },
      "execution_count": null,
      "outputs": [
        {
          "output_type": "stream",
          "name": "stdout",
          "text": [
            "enter your nameDivyashree\n",
            "Divyashree\n"
          ]
        }
      ]
    },
    {
      "cell_type": "markdown",
      "source": [
        "#Properties of String\n"
      ],
      "metadata": {
        "id": "1FB6dLR3ky9f"
      }
    },
    {
      "cell_type": "markdown",
      "source": [
        "1) indexable"
      ],
      "metadata": {
        "id": "ZlxY3OYsk3to"
      }
    },
    {
      "cell_type": "code",
      "source": [
        "str1=\"welcome to python programming!\"\n",
        "print(str1[0])\n",
        "print(str1[-1])"
      ],
      "metadata": {
        "colab": {
          "base_uri": "https://localhost:8080/"
        },
        "id": "LlmSVocWk3DB",
        "outputId": "fb585419-f0be-4682-b25d-531497141560"
      },
      "execution_count": null,
      "outputs": [
        {
          "output_type": "stream",
          "name": "stdout",
          "text": [
            "w\n",
            "!\n"
          ]
        }
      ]
    },
    {
      "cell_type": "markdown",
      "source": [
        "2) Iterable"
      ],
      "metadata": {
        "id": "EaNUlR3plN4X"
      }
    },
    {
      "cell_type": "code",
      "source": [
        "#Example 1\n",
        "str1=\"programing\"\n",
        "for i in str1:\n",
        "  print(i)"
      ],
      "metadata": {
        "colab": {
          "base_uri": "https://localhost:8080/"
        },
        "id": "sh8gjVQblQ29",
        "outputId": "647f2151-f2dc-4450-b2d3-6c94ccfa37b9"
      },
      "execution_count": null,
      "outputs": [
        {
          "output_type": "stream",
          "name": "stdout",
          "text": [
            "p\n",
            "r\n",
            "o\n",
            "g\n",
            "r\n",
            "a\n",
            "m\n",
            "i\n",
            "n\n",
            "g\n"
          ]
        }
      ]
    },
    {
      "cell_type": "code",
      "source": [
        "#Example 2\n",
        "str1=\"welcome to python\"\n",
        "for i in str1:\n",
        "  print(i,end=\"\")"
      ],
      "metadata": {
        "colab": {
          "base_uri": "https://localhost:8080/"
        },
        "id": "3zRrszeTlcVK",
        "outputId": "c2aa8436-2156-4234-fdbb-24d795202e4d"
      },
      "execution_count": null,
      "outputs": [
        {
          "output_type": "stream",
          "name": "stdout",
          "text": [
            "welcome to python"
          ]
        }
      ]
    },
    {
      "cell_type": "code",
      "source": [
        "#Example 3\n",
        "str1=\"check this\"\n",
        "i=0\n",
        "while(i<len(str1)):\n",
        "  print(str1[i],end=\"\")\n",
        "  i=i+1"
      ],
      "metadata": {
        "colab": {
          "base_uri": "https://localhost:8080/"
        },
        "id": "cJhxozZBln5p",
        "outputId": "f9abf526-b4a3-4cab-8951-ec175f2b0602"
      },
      "execution_count": null,
      "outputs": [
        {
          "output_type": "stream",
          "name": "stdout",
          "text": [
            "check this"
          ]
        }
      ]
    },
    {
      "cell_type": "markdown",
      "source": [
        "3) Immutable: cannot change individual characters of a string"
      ],
      "metadata": {
        "id": "kPR-L8pYmEcH"
      }
    },
    {
      "cell_type": "code",
      "source": [
        "str1=\"Pyhton\"\n",
        "str1[0]='e' #throws TypeError: object does not support item assignment"
      ],
      "metadata": {
        "colab": {
          "base_uri": "https://localhost:8080/",
          "height": 193
        },
        "id": "NcNCIqs_mIU9",
        "outputId": "90f43342-3822-4e20-ab60-b68aed93000a"
      },
      "execution_count": null,
      "outputs": [
        {
          "output_type": "error",
          "ename": "TypeError",
          "evalue": "ignored",
          "traceback": [
            "\u001b[0;31m---------------------------------------------------------------------------\u001b[0m",
            "\u001b[0;31mTypeError\u001b[0m                                 Traceback (most recent call last)",
            "\u001b[0;32m<ipython-input-14-b28779d70555>\u001b[0m in \u001b[0;36m<cell line: 2>\u001b[0;34m()\u001b[0m\n\u001b[1;32m      1\u001b[0m \u001b[0mstr1\u001b[0m\u001b[0;34m=\u001b[0m\u001b[0;34m\"Pyhton\"\u001b[0m\u001b[0;34m\u001b[0m\u001b[0;34m\u001b[0m\u001b[0m\n\u001b[0;32m----> 2\u001b[0;31m \u001b[0mstr1\u001b[0m\u001b[0;34m[\u001b[0m\u001b[0;36m0\u001b[0m\u001b[0;34m]\u001b[0m\u001b[0;34m=\u001b[0m\u001b[0;34m'e'\u001b[0m \u001b[0;31m#throws error\u001b[0m\u001b[0;34m\u001b[0m\u001b[0;34m\u001b[0m\u001b[0m\n\u001b[0m",
            "\u001b[0;31mTypeError\u001b[0m: 'str' object does not support item assignment"
          ]
        }
      ]
    },
    {
      "cell_type": "markdown",
      "source": [
        "#Slicing Operator [start:stop:step] in String"
      ],
      "metadata": {
        "id": "JoOv3fN8mcPX"
      }
    },
    {
      "cell_type": "code",
      "source": [
        "str1=\"python programming\"\n",
        "print(str1[1:4])"
      ],
      "metadata": {
        "colab": {
          "base_uri": "https://localhost:8080/"
        },
        "id": "bfsa5HOcmjk3",
        "outputId": "5cf26a2a-840a-42c3-b5b7-e3646ce45c7c"
      },
      "execution_count": null,
      "outputs": [
        {
          "output_type": "stream",
          "name": "stdout",
          "text": [
            "yth\n"
          ]
        }
      ]
    },
    {
      "cell_type": "code",
      "source": [
        "print(str1[1:16:2])"
      ],
      "metadata": {
        "colab": {
          "base_uri": "https://localhost:8080/"
        },
        "id": "LqXnYQ4Umt6M",
        "outputId": "a72f6aa1-ddae-4028-ae27-c7e7fdfbba3e"
      },
      "execution_count": null,
      "outputs": [
        {
          "output_type": "stream",
          "name": "stdout",
          "text": [
            "yhnpormi\n"
          ]
        }
      ]
    },
    {
      "cell_type": "code",
      "source": [
        "print(str1[-10:-4])  #allows to use -ve indexing"
      ],
      "metadata": {
        "colab": {
          "base_uri": "https://localhost:8080/"
        },
        "id": "Fd0nrrIunGJI",
        "outputId": "6f4fc821-6bcb-4f7e-ebca-ee46312245e2"
      },
      "execution_count": null,
      "outputs": [
        {
          "output_type": "stream",
          "name": "stdout",
          "text": [
            "rogram\n"
          ]
        }
      ]
    },
    {
      "cell_type": "code",
      "source": [
        "str1[1:len(str1):2]"
      ],
      "metadata": {
        "colab": {
          "base_uri": "https://localhost:8080/",
          "height": 35
        },
        "id": "xm5qj0wmncgI",
        "outputId": "4eaf2150-98cc-4aa7-aec5-809b5a7850fd"
      },
      "execution_count": null,
      "outputs": [
        {
          "output_type": "execute_result",
          "data": {
            "text/plain": [
              "'yhnpormig'"
            ],
            "application/vnd.google.colaboratory.intrinsic+json": {
              "type": "string"
            }
          },
          "metadata": {},
          "execution_count": 24
        }
      ]
    },
    {
      "cell_type": "markdown",
      "source": [
        "#Use of (+, *) in Strings"
      ],
      "metadata": {
        "id": "iZphVr7QnndW"
      }
    },
    {
      "cell_type": "markdown",
      "source": [
        "1) Examples on + operator"
      ],
      "metadata": {
        "id": "1F1HgpjfpUJ7"
      }
    },
    {
      "cell_type": "code",
      "source": [
        "# + acts as string concatenation\n",
        "str1=\"Computational Problem\"\n",
        "str2=\"Solving using\"\n",
        "str3=\"Python Porgramming\"\n",
        "str4=\" \"\n",
        "print(str1+str1)    #concatenates the str1 with str1"
      ],
      "metadata": {
        "colab": {
          "base_uri": "https://localhost:8080/"
        },
        "id": "N5JMzlpKntFn",
        "outputId": "3ccec7d8-6de3-479c-c3d6-865e37465177"
      },
      "execution_count": null,
      "outputs": [
        {
          "output_type": "stream",
          "name": "stdout",
          "text": [
            "Computational ProblemComputational Problem\n"
          ]
        }
      ]
    },
    {
      "cell_type": "code",
      "source": [
        "print(str1+str2+str3)   #observe there is no space between str1 and str2"
      ],
      "metadata": {
        "colab": {
          "base_uri": "https://localhost:8080/"
        },
        "id": "D4W3PKg7n3J_",
        "outputId": "c4caba8c-c88f-4c9c-ea5b-b5a7ca772421"
      },
      "execution_count": null,
      "outputs": [
        {
          "output_type": "stream",
          "name": "stdout",
          "text": [
            "Computational ProblemSolving usingPython Porgramming\n"
          ]
        }
      ]
    },
    {
      "cell_type": "code",
      "source": [
        "print(str1+str4+str2+str4+str3) # space is inserted through str4=\" \" variable"
      ],
      "metadata": {
        "colab": {
          "base_uri": "https://localhost:8080/"
        },
        "id": "xfvUMDI3oI9W",
        "outputId": "e756853c-6754-4b2f-b2b9-726ac4a1c411"
      },
      "execution_count": null,
      "outputs": [
        {
          "output_type": "stream",
          "name": "stdout",
          "text": [
            "Computational Problem Solving using Python Porgramming\n"
          ]
        }
      ]
    },
    {
      "cell_type": "code",
      "source": [
        "print(str1+\" \"+str2+\" \"+str3) #space is inserted through empty string literal \" \"\n",
        "print(str1,str2,str3)         #here bydefault print inserts space between the variables"
      ],
      "metadata": {
        "colab": {
          "base_uri": "https://localhost:8080/"
        },
        "id": "esSeUXIbopdp",
        "outputId": "b67061e3-e2cc-4f2c-f42b-3c682057f434"
      },
      "execution_count": null,
      "outputs": [
        {
          "output_type": "stream",
          "name": "stdout",
          "text": [
            "Computational Problem Solving using Python Porgramming\n",
            "Computational Problem Solving using Python Porgramming\n"
          ]
        }
      ]
    },
    {
      "cell_type": "markdown",
      "source": [
        "2) Examples on * operator"
      ],
      "metadata": {
        "id": "ubGbqGNjpra0"
      }
    },
    {
      "cell_type": "code",
      "source": [
        "str1=\"Computational Problem\"\n",
        "str5=str1*2\n",
        "print(str5)"
      ],
      "metadata": {
        "colab": {
          "base_uri": "https://localhost:8080/"
        },
        "id": "Pf0WlAQTpTCy",
        "outputId": "cf490f05-85f9-44c0-eaa5-aa91be463cde"
      },
      "execution_count": null,
      "outputs": [
        {
          "output_type": "stream",
          "name": "stdout",
          "text": [
            "Computational ProblemComputational Problem\n"
          ]
        }
      ]
    },
    {
      "cell_type": "code",
      "source": [
        "str1=\"Computational Problem\"\n",
        "print(str1*str1)    #throws error because the multiplicative operand should be an integer"
      ],
      "metadata": {
        "id": "BooplR8Ep1qQ"
      },
      "execution_count": null,
      "outputs": []
    },
    {
      "cell_type": "code",
      "source": [
        "print(str1*(10>2))"
      ],
      "metadata": {
        "colab": {
          "base_uri": "https://localhost:8080/"
        },
        "id": "Uuxp_bHLqHfT",
        "outputId": "e77ea01d-ffd4-4216-a882-388e10ac53cd"
      },
      "execution_count": null,
      "outputs": [
        {
          "output_type": "stream",
          "name": "stdout",
          "text": [
            "Computational Problem\n"
          ]
        }
      ]
    },
    {
      "cell_type": "code",
      "source": [
        "print(str1*(10<2))    #empty because the condition 10<2 fails, so nothing get replicated"
      ],
      "metadata": {
        "id": "H2pCL6YIqL8D"
      },
      "execution_count": null,
      "outputs": []
    },
    {
      "cell_type": "markdown",
      "source": [
        "#Usage of Membership operators (in, not in) in Strings"
      ],
      "metadata": {
        "id": "63H9prW6vG9O"
      }
    },
    {
      "cell_type": "code",
      "source": [
        "#Example 1\n",
        "str1=\"Welcome to python Programming\"\n",
        "'c' in str1"
      ],
      "metadata": {
        "colab": {
          "base_uri": "https://localhost:8080/"
        },
        "id": "v3avSCn1voUX",
        "outputId": "18786cda-7009-4669-fdb5-b96ed87b8458"
      },
      "execution_count": null,
      "outputs": [
        {
          "output_type": "execute_result",
          "data": {
            "text/plain": [
              "True"
            ]
          },
          "metadata": {},
          "execution_count": 68
        }
      ]
    },
    {
      "cell_type": "code",
      "source": [
        "#Example 2\n",
        "str1=\"Welcome to python Programming\"\n",
        "ss=\"Prog\"     #case sensitive\n",
        "ss in str1"
      ],
      "metadata": {
        "colab": {
          "base_uri": "https://localhost:8080/"
        },
        "id": "Cx0wWyGrv-PN",
        "outputId": "b88eab3d-87bb-412a-9407-916b265e86ca"
      },
      "execution_count": null,
      "outputs": [
        {
          "output_type": "execute_result",
          "data": {
            "text/plain": [
              "True"
            ]
          },
          "metadata": {},
          "execution_count": 70
        }
      ]
    },
    {
      "cell_type": "code",
      "source": [
        "#Example 3\n",
        "str1=\"Welcome to python Programming\"\n",
        "ss=\"prog\"     #case sensitive\n",
        "ss in str1"
      ],
      "metadata": {
        "colab": {
          "base_uri": "https://localhost:8080/"
        },
        "id": "YyMlHo7Ww3Ov",
        "outputId": "4091661e-ea61-4fe0-eca2-8fa541e36b0d"
      },
      "execution_count": null,
      "outputs": [
        {
          "output_type": "execute_result",
          "data": {
            "text/plain": [
              "False"
            ]
          },
          "metadata": {},
          "execution_count": 71
        }
      ]
    },
    {
      "cell_type": "code",
      "source": [
        "#Example 4\n",
        "str1=\"Welcome to python Programming\"\n",
        "'1' not in str1     #left operand should always be string"
      ],
      "metadata": {
        "colab": {
          "base_uri": "https://localhost:8080/"
        },
        "id": "iezxaTypw-oV",
        "outputId": "33d33da2-89d2-4869-b938-f707b61cbe4c"
      },
      "execution_count": null,
      "outputs": [
        {
          "output_type": "execute_result",
          "data": {
            "text/plain": [
              "True"
            ]
          },
          "metadata": {},
          "execution_count": 73
        }
      ]
    },
    {
      "cell_type": "code",
      "source": [
        "# Example 5\n",
        "str1=\"Welcome to python Programming\"\n",
        "for i in str1:\n",
        "  print(i,end=\"\")"
      ],
      "metadata": {
        "colab": {
          "base_uri": "https://localhost:8080/"
        },
        "id": "02rDwC-PxP7z",
        "outputId": "6917040c-515e-43cc-a381-0a517fde12ba"
      },
      "execution_count": null,
      "outputs": [
        {
          "output_type": "stream",
          "name": "stdout",
          "text": [
            "Welcome to python Programming"
          ]
        }
      ]
    },
    {
      "cell_type": "code",
      "source": [
        "# Example 6\n",
        "str1=\"Welcome to python Programming\"\n",
        "for str1 in str1:\n",
        "  print(str1,end=\"\")"
      ],
      "metadata": {
        "colab": {
          "base_uri": "https://localhost:8080/"
        },
        "id": "mT0zymlZxeFj",
        "outputId": "9c2bbfac-bd89-4cf6-aa16-ec9d0ca36269"
      },
      "execution_count": null,
      "outputs": [
        {
          "output_type": "stream",
          "name": "stdout",
          "text": [
            "Welcome to python Programming"
          ]
        }
      ]
    },
    {
      "cell_type": "markdown",
      "source": [
        "#Predefined Functions available for Strings"
      ],
      "metadata": {
        "id": "3FWQc2-6qizH"
      }
    },
    {
      "cell_type": "code",
      "source": [
        "dir(str)      #gives all the pre-defined fucntions supported for strings, please try to explore all"
      ],
      "metadata": {
        "colab": {
          "base_uri": "https://localhost:8080/"
        },
        "id": "d-wCOqFqqpsV",
        "outputId": "5a690db5-aacf-4e65-a5ff-fb614328c53a"
      },
      "execution_count": null,
      "outputs": [
        {
          "output_type": "execute_result",
          "data": {
            "text/plain": [
              "['__add__',\n",
              " '__class__',\n",
              " '__contains__',\n",
              " '__delattr__',\n",
              " '__dir__',\n",
              " '__doc__',\n",
              " '__eq__',\n",
              " '__format__',\n",
              " '__ge__',\n",
              " '__getattribute__',\n",
              " '__getitem__',\n",
              " '__getnewargs__',\n",
              " '__gt__',\n",
              " '__hash__',\n",
              " '__init__',\n",
              " '__init_subclass__',\n",
              " '__iter__',\n",
              " '__le__',\n",
              " '__len__',\n",
              " '__lt__',\n",
              " '__mod__',\n",
              " '__mul__',\n",
              " '__ne__',\n",
              " '__new__',\n",
              " '__reduce__',\n",
              " '__reduce_ex__',\n",
              " '__repr__',\n",
              " '__rmod__',\n",
              " '__rmul__',\n",
              " '__setattr__',\n",
              " '__sizeof__',\n",
              " '__str__',\n",
              " '__subclasshook__',\n",
              " 'capitalize',\n",
              " 'casefold',\n",
              " 'center',\n",
              " 'count',\n",
              " 'encode',\n",
              " 'endswith',\n",
              " 'expandtabs',\n",
              " 'find',\n",
              " 'format',\n",
              " 'format_map',\n",
              " 'index',\n",
              " 'isalnum',\n",
              " 'isalpha',\n",
              " 'isascii',\n",
              " 'isdecimal',\n",
              " 'isdigit',\n",
              " 'isidentifier',\n",
              " 'islower',\n",
              " 'isnumeric',\n",
              " 'isprintable',\n",
              " 'isspace',\n",
              " 'istitle',\n",
              " 'isupper',\n",
              " 'join',\n",
              " 'ljust',\n",
              " 'lower',\n",
              " 'lstrip',\n",
              " 'maketrans',\n",
              " 'partition',\n",
              " 'removeprefix',\n",
              " 'removesuffix',\n",
              " 'replace',\n",
              " 'rfind',\n",
              " 'rindex',\n",
              " 'rjust',\n",
              " 'rpartition',\n",
              " 'rsplit',\n",
              " 'rstrip',\n",
              " 'split',\n",
              " 'splitlines',\n",
              " 'startswith',\n",
              " 'strip',\n",
              " 'swapcase',\n",
              " 'title',\n",
              " 'translate',\n",
              " 'upper',\n",
              " 'zfill']"
            ]
          },
          "metadata": {},
          "execution_count": 41
        }
      ]
    },
    {
      "cell_type": "markdown",
      "source": [
        "1) len()"
      ],
      "metadata": {
        "id": "6gETx181rofd"
      }
    },
    {
      "cell_type": "code",
      "source": [
        "# len()\n",
        "str1=\"python programming\"\n",
        "len(str1)"
      ],
      "metadata": {
        "colab": {
          "base_uri": "https://localhost:8080/"
        },
        "id": "Q2-6jhFxq7Xx",
        "outputId": "0a4a8abc-4429-4023-be81-eb60008474d2"
      },
      "execution_count": null,
      "outputs": [
        {
          "output_type": "execute_result",
          "data": {
            "text/plain": [
              "18"
            ]
          },
          "metadata": {},
          "execution_count": 63
        }
      ]
    },
    {
      "cell_type": "markdown",
      "source": [
        "2) index()"
      ],
      "metadata": {
        "id": "k83Gtc8nrqPl"
      }
    },
    {
      "cell_type": "code",
      "source": [
        "# str_varibale.index('character in quotes or substring') gives the index of 1st occurance of a character\n",
        "str1=\"python programming\"\n",
        "#Example 1:\n",
        "str1.index('r')"
      ],
      "metadata": {
        "colab": {
          "base_uri": "https://localhost:8080/"
        },
        "id": "EdGW4fDcrC_L",
        "outputId": "af69a8f0-685a-4f93-dfde-24c111cb8d0c"
      },
      "execution_count": null,
      "outputs": [
        {
          "output_type": "execute_result",
          "data": {
            "text/plain": [
              "8"
            ]
          },
          "metadata": {},
          "execution_count": 66
        }
      ]
    },
    {
      "cell_type": "code",
      "source": [
        "str1=\"python programming\"\n",
        "#Example 2:\n",
        "str1.index(\"prog\")"
      ],
      "metadata": {
        "colab": {
          "base_uri": "https://localhost:8080/"
        },
        "id": "z-cUPVV5t3_a",
        "outputId": "66e09793-d30b-41e3-881c-9004332086f8"
      },
      "execution_count": null,
      "outputs": [
        {
          "output_type": "execute_result",
          "data": {
            "text/plain": [
              "7"
            ]
          },
          "metadata": {},
          "execution_count": 67
        }
      ]
    },
    {
      "cell_type": "code",
      "source": [
        "#Example 3:\n",
        "str1.index('d')   #throws \"substring error\"  because the character 'd' is not present in the string str1"
      ],
      "metadata": {
        "id": "XrEcH6UFrZMi"
      },
      "execution_count": null,
      "outputs": []
    },
    {
      "cell_type": "markdown",
      "source": [
        "3) count()"
      ],
      "metadata": {
        "id": "B8uyCesdrtCW"
      }
    },
    {
      "cell_type": "code",
      "source": [
        "# string_variable.count('character in quotes')\n",
        "str1.count('p')"
      ],
      "metadata": {
        "colab": {
          "base_uri": "https://localhost:8080/"
        },
        "id": "FILphM_nrvCi",
        "outputId": "4c5e1a44-13cf-438e-f122-57b3ce003fc8"
      },
      "execution_count": null,
      "outputs": [
        {
          "output_type": "execute_result",
          "data": {
            "text/plain": [
              "2"
            ]
          },
          "metadata": {},
          "execution_count": 47
        }
      ]
    },
    {
      "cell_type": "markdown",
      "source": [
        "4) min()"
      ],
      "metadata": {
        "id": "zubM5xfGr565"
      }
    },
    {
      "cell_type": "code",
      "source": [
        "str1=\"Computational Problem\"\n",
        "str2=\"Solving using\"\n",
        "str3=\"Python\"\n",
        "str4=\"programming\"\n",
        "#Example 1:\n",
        "print(min(str1))    #space is shown as min of the string str1 based on its ascii value\n",
        "#Example 2:\n",
        "print(min(str3))    # here in str3, no spaces is present, hence gives the 'P' as min i.e. based on its ascii value which is 80"
      ],
      "metadata": {
        "colab": {
          "base_uri": "https://localhost:8080/"
        },
        "id": "WLP9qDlvr7jx",
        "outputId": "b59b3c62-ce4d-490d-9793-6b4f538ef141"
      },
      "execution_count": null,
      "outputs": [
        {
          "output_type": "stream",
          "name": "stdout",
          "text": [
            " \n",
            "P\n"
          ]
        }
      ]
    },
    {
      "cell_type": "code",
      "source": [
        "chr(80)"
      ],
      "metadata": {
        "colab": {
          "base_uri": "https://localhost:8080/",
          "height": 35
        },
        "id": "JjiMwhz6s9n8",
        "outputId": "2a15b4f0-bb14-4c7b-cb65-7dad70aca7f8"
      },
      "execution_count": null,
      "outputs": [
        {
          "output_type": "execute_result",
          "data": {
            "text/plain": [
              "'P'"
            ],
            "application/vnd.google.colaboratory.intrinsic+json": {
              "type": "string"
            }
          },
          "metadata": {},
          "execution_count": 58
        }
      ]
    },
    {
      "cell_type": "code",
      "source": [
        "ord('P')"
      ],
      "metadata": {
        "colab": {
          "base_uri": "https://localhost:8080/"
        },
        "id": "nudRdEezs3Ma",
        "outputId": "6626621b-6b93-4a62-d399-2a763c47cac9"
      },
      "execution_count": null,
      "outputs": [
        {
          "output_type": "execute_result",
          "data": {
            "text/plain": [
              "80"
            ]
          },
          "metadata": {},
          "execution_count": 57
        }
      ]
    },
    {
      "cell_type": "code",
      "source": [
        "#Example 3:Same min() is used to extract min of different strings\n",
        "print(min(str1,str2,str3,str4))"
      ],
      "metadata": {
        "colab": {
          "base_uri": "https://localhost:8080/"
        },
        "id": "MzsoYXtVtFwj",
        "outputId": "bde79639-18ca-4656-9106-5ef929521ed6"
      },
      "execution_count": null,
      "outputs": [
        {
          "output_type": "stream",
          "name": "stdout",
          "text": [
            "Computational Problem\n"
          ]
        }
      ]
    },
    {
      "cell_type": "markdown",
      "source": [
        "5) max()"
      ],
      "metadata": {
        "id": "WJ62YOfbtYNF"
      }
    },
    {
      "cell_type": "code",
      "source": [
        "str1=\"Computational Problem\"\n",
        "str2=\"Solving using\"\n",
        "str3=\"Python\"\n",
        "str4=\"programming\"\n",
        "#Example 1:\n",
        "print(max(str1))    #based on ascii value\n",
        "#Example 2:\n",
        "print(max(str3))    #based on ascii value"
      ],
      "metadata": {
        "colab": {
          "base_uri": "https://localhost:8080/"
        },
        "id": "l1VtRZ6UtZgd",
        "outputId": "eae3a7c6-2b59-40ba-d050-384948660490"
      },
      "execution_count": null,
      "outputs": [
        {
          "output_type": "stream",
          "name": "stdout",
          "text": [
            "u\n",
            "y\n"
          ]
        }
      ]
    },
    {
      "cell_type": "markdown",
      "source": [
        "6) startswith(prefix,start,end)\n",
        "  \n",
        "  -returns True if string starts with the given prefix otherwise returns False.\n",
        "\n",
        "    prefix – A string that needs to be checked. Can also be a tuple containing multiple strings\n",
        "\n",
        "    start – starting position where prefix is needed to be checked within the string.\n",
        "\n",
        "    end- Ending position where prefix is needed to be checked within the string.\n"
      ],
      "metadata": {
        "id": "D2sFSsvhyMyG"
      }
    },
    {
      "cell_type": "code",
      "source": [
        "#Example 1\n",
        "str1=\"Computational Problem\"\n",
        "str1.startswith('P',14,19)   # for startswith, the start-index of the prefix should be exact, else it returns False even if the string is present"
      ],
      "metadata": {
        "colab": {
          "base_uri": "https://localhost:8080/"
        },
        "id": "kaVbhP_LyVl6",
        "outputId": "e640384c-570d-43ff-ede3-4201c8351356"
      },
      "execution_count": null,
      "outputs": [
        {
          "output_type": "execute_result",
          "data": {
            "text/plain": [
              "True"
            ]
          },
          "metadata": {},
          "execution_count": 82
        }
      ]
    },
    {
      "cell_type": "code",
      "source": [
        "#Example 2\n",
        "str1=\"Computational Problem\"\n",
        "str1.startswith('P',12,19)  #here the start-index is not pointing to the position of 'P' present in the string, hence returns False"
      ],
      "metadata": {
        "id": "YdNm1oPnzWYi"
      },
      "execution_count": null,
      "outputs": []
    },
    {
      "cell_type": "code",
      "source": [
        "#Example 3\n",
        "str1=\"Python programming\"\n",
        "str1.startswith(('P','prog'))    #giving start-index, and end-index is optional for 1st occurance\n",
        "                              # prefic can be a tuple containing many strings"
      ],
      "metadata": {
        "colab": {
          "base_uri": "https://localhost:8080/"
        },
        "id": "ZoX-S4uYzijH",
        "outputId": "bf1374aa-a3fc-4d92-f8c4-5969f807b21b"
      },
      "execution_count": null,
      "outputs": [
        {
          "output_type": "execute_result",
          "data": {
            "text/plain": [
              "True"
            ]
          },
          "metadata": {},
          "execution_count": 4
        }
      ]
    },
    {
      "cell_type": "code",
      "source": [
        "#Example 4\n",
        "str1=\"Python programming\"\n",
        "str1.startswith(('P','GANG'))    #returns true even if one of the string in the tuple exists"
      ],
      "metadata": {
        "colab": {
          "base_uri": "https://localhost:8080/"
        },
        "id": "q4prpO5U0WkR",
        "outputId": "166d95f4-bbc0-4e94-b839-a5e7df7e03ec"
      },
      "execution_count": null,
      "outputs": [
        {
          "output_type": "execute_result",
          "data": {
            "text/plain": [
              "True"
            ]
          },
          "metadata": {},
          "execution_count": 86
        }
      ]
    },
    {
      "cell_type": "code",
      "source": [
        "#Example 5\n",
        "str1=\"Python programming\"\n",
        "str1.startswith(str1)       #passing the str1 itself as prefix"
      ],
      "metadata": {
        "colab": {
          "base_uri": "https://localhost:8080/"
        },
        "id": "7DhXhDEU0hzT",
        "outputId": "6970beed-a84d-4b9f-a7e7-6e6feb8ae234"
      },
      "execution_count": null,
      "outputs": [
        {
          "output_type": "execute_result",
          "data": {
            "text/plain": [
              "True"
            ]
          },
          "metadata": {},
          "execution_count": 87
        }
      ]
    },
    {
      "cell_type": "markdown",
      "source": [
        "7) endswith(search_string,start,end)"
      ],
      "metadata": {
        "id": "Q5a-q5G9IBFw"
      }
    },
    {
      "cell_type": "code",
      "source": [
        "#Example 1\n",
        "str1=\"Python programming\"\n",
        "str1.endswith(str1)"
      ],
      "metadata": {
        "colab": {
          "base_uri": "https://localhost:8080/"
        },
        "id": "P-5j57ExIIak",
        "outputId": "f0441a80-81aa-4dd3-866e-88c1bb6b87f7"
      },
      "execution_count": null,
      "outputs": [
        {
          "output_type": "execute_result",
          "data": {
            "text/plain": [
              "True"
            ]
          },
          "metadata": {},
          "execution_count": 5
        }
      ]
    },
    {
      "cell_type": "code",
      "source": [
        "#Example 2\n",
        "str1=\"Python programming\"\n",
        "str1.endswith('on',0,6)\n"
      ],
      "metadata": {
        "colab": {
          "base_uri": "https://localhost:8080/"
        },
        "id": "z5lRiejPINmc",
        "outputId": "75eb47e1-b9e7-4ae0-ac3b-a89fc2a4b8ea"
      },
      "execution_count": null,
      "outputs": [
        {
          "output_type": "execute_result",
          "data": {
            "text/plain": [
              "True"
            ]
          },
          "metadata": {},
          "execution_count": 8
        }
      ]
    },
    {
      "cell_type": "code",
      "source": [
        "#Example 3\n",
        "str1=\"Python programming\"\n",
        "str1.endswith('ing',0,len(str1))"
      ],
      "metadata": {
        "colab": {
          "base_uri": "https://localhost:8080/"
        },
        "id": "lrYuqCBII3al",
        "outputId": "a3d15b5d-ddea-4c66-b2a9-c86b7b3b6c16"
      },
      "execution_count": null,
      "outputs": [
        {
          "output_type": "execute_result",
          "data": {
            "text/plain": [
              "True"
            ]
          },
          "metadata": {},
          "execution_count": 9
        }
      ]
    },
    {
      "cell_type": "markdown",
      "source": [
        "8) find(sub_string,start,end)\n",
        "    -returns the index of the 1st occurance of the sub-string in a given string"
      ],
      "metadata": {
        "id": "YlQC-VCKuDgA"
      }
    },
    {
      "cell_type": "code",
      "source": [
        "#Example 1\n",
        "str1=\"welcome to python\"\n",
        "str1.find('to',1,len(str1))"
      ],
      "metadata": {
        "colab": {
          "base_uri": "https://localhost:8080/"
        },
        "id": "9jzXRmycuLBQ",
        "outputId": "0885f2ef-b913-4d2b-a4c6-b37a76b862f3"
      },
      "execution_count": 2,
      "outputs": [
        {
          "output_type": "execute_result",
          "data": {
            "text/plain": [
              "8"
            ]
          },
          "metadata": {},
          "execution_count": 2
        }
      ]
    },
    {
      "cell_type": "code",
      "source": [
        "#Example 2\n",
        "str1=\"welcome to python! I am trying to learn python\"\n",
        "str1.find('to',1,len(str1))       #gives the position of only the 1st occurance of the substring"
      ],
      "metadata": {
        "colab": {
          "base_uri": "https://localhost:8080/"
        },
        "id": "6ijf82XhunA2",
        "outputId": "15c1dd23-d8a2-4c58-86b5-e8953397ab1b"
      },
      "execution_count": 3,
      "outputs": [
        {
          "output_type": "execute_result",
          "data": {
            "text/plain": [
              "8"
            ]
          },
          "metadata": {},
          "execution_count": 3
        }
      ]
    },
    {
      "cell_type": "code",
      "source": [
        "#Example 3\n",
        "str1=\"welcome to python! I am trying to learn python\"\n",
        "str1.find('python')       #start ,end index is optional"
      ],
      "metadata": {
        "colab": {
          "base_uri": "https://localhost:8080/"
        },
        "id": "CMD0lT0lvE0X",
        "outputId": "502be976-83a4-4b48-a0dd-ff3049aff2d6"
      },
      "execution_count": 5,
      "outputs": [
        {
          "output_type": "execute_result",
          "data": {
            "text/plain": [
              "11"
            ]
          },
          "metadata": {},
          "execution_count": 5
        }
      ]
    },
    {
      "cell_type": "markdown",
      "source": [
        "9) rfind(sub-string,start,end)"
      ],
      "metadata": {
        "id": "9l-IZNsCu2sL"
      }
    },
    {
      "cell_type": "code",
      "source": [
        "#Example 1\n",
        "str1=\"welcome to python! I am trying to learn python\"\n",
        "str1.rfind('to',1,len(str1))       #gives the position of only the 1st occurance of the substring from the right-side\n",
        "                                    #however the index returned is positive-index"
      ],
      "metadata": {
        "colab": {
          "base_uri": "https://localhost:8080/"
        },
        "id": "AWq_mqigu7lt",
        "outputId": "732422c7-5ff0-45a4-e37d-f37ace489018"
      },
      "execution_count": 4,
      "outputs": [
        {
          "output_type": "execute_result",
          "data": {
            "text/plain": [
              "31"
            ]
          },
          "metadata": {},
          "execution_count": 4
        }
      ]
    },
    {
      "cell_type": "code",
      "source": [
        "#Example 2\n",
        "str1=\"welcome to python! I am trying to learn python\"\n",
        "str1.rfind('python')       #start ,end index is optional"
      ],
      "metadata": {
        "colab": {
          "base_uri": "https://localhost:8080/"
        },
        "id": "v2rf5A0bvscW",
        "outputId": "10bbdd5c-fa83-4a05-a203-9a580efb6eb9"
      },
      "execution_count": 6,
      "outputs": [
        {
          "output_type": "execute_result",
          "data": {
            "text/plain": [
              "40"
            ]
          },
          "metadata": {},
          "execution_count": 6
        }
      ]
    },
    {
      "cell_type": "markdown",
      "source": [
        "10) strip('character')\n",
        "    -takes the string and retruns a string without the specified 'character', i.e, strips out the specified character\n",
        "    -"
      ],
      "metadata": {
        "id": "q0EmfthJv6Da"
      }
    },
    {
      "cell_type": "code",
      "source": [
        "#Example 1\n",
        "str1=\"welcome to python! I am trying to learn python\"\n",
        "str1.strip(\"python\")            #tries to strip from both the ends\n",
        "                                #observe the output, since 'python' appeared only at the right-end, but not in the left-end, it stripped only the right end side"
      ],
      "metadata": {
        "colab": {
          "base_uri": "https://localhost:8080/",
          "height": 35
        },
        "id": "crdwr6jSwXl_",
        "outputId": "22249b8a-59a3-476e-8143-7095f130a92f"
      },
      "execution_count": 7,
      "outputs": [
        {
          "output_type": "execute_result",
          "data": {
            "text/plain": [
              "'welcome to python! I am trying to learn '"
            ],
            "application/vnd.google.colaboratory.intrinsic+json": {
              "type": "string"
            }
          },
          "metadata": {},
          "execution_count": 7
        }
      ]
    },
    {
      "cell_type": "code",
      "source": [
        "#Example 2\n",
        "str1=\"welcome to python! I am trying to learn python\"\n",
        "str1.lstrip(\"python\")           #please observe the output, their is not 'python at the left-end"
      ],
      "metadata": {
        "colab": {
          "base_uri": "https://localhost:8080/",
          "height": 35
        },
        "id": "wFkDL-9RwkCo",
        "outputId": "e8042935-b29c-4f5a-8e1f-61724cca32f4"
      },
      "execution_count": 8,
      "outputs": [
        {
          "output_type": "execute_result",
          "data": {
            "text/plain": [
              "'welcome to python! I am trying to learn python'"
            ],
            "application/vnd.google.colaboratory.intrinsic+json": {
              "type": "string"
            }
          },
          "metadata": {},
          "execution_count": 8
        }
      ]
    },
    {
      "cell_type": "code",
      "source": [
        "#Example 3\n",
        "str1=\"welcome to python! I am trying to learn python\"\n",
        "str1.rstrip(\"python\")           #please observe the output, 'python' is stripped from the right-end"
      ],
      "metadata": {
        "colab": {
          "base_uri": "https://localhost:8080/",
          "height": 35
        },
        "id": "j4RoYRwpw2Xg",
        "outputId": "4cf5afca-426e-45b4-aea1-1537ed434778"
      },
      "execution_count": 9,
      "outputs": [
        {
          "output_type": "execute_result",
          "data": {
            "text/plain": [
              "'welcome to python! I am trying to learn '"
            ],
            "application/vnd.google.colaboratory.intrinsic+json": {
              "type": "string"
            }
          },
          "metadata": {},
          "execution_count": 9
        }
      ]
    },
    {
      "cell_type": "code",
      "source": [
        "#Example 4\n",
        "str1=\"welcome to python! I am trying to learn python\"\n",
        "str1.strip(\"not\")           #please observe the output, it has stripped 'n', later 'o' from the right-end"
      ],
      "metadata": {
        "colab": {
          "base_uri": "https://localhost:8080/",
          "height": 35
        },
        "id": "ExwPE56FzgfF",
        "outputId": "f3495537-e178-4b11-f45b-f6ad18eaafef"
      },
      "execution_count": 11,
      "outputs": [
        {
          "output_type": "execute_result",
          "data": {
            "text/plain": [
              "'welcome to python! I am trying to learn pyth'"
            ],
            "application/vnd.google.colaboratory.intrinsic+json": {
              "type": "string"
            }
          },
          "metadata": {},
          "execution_count": 11
        }
      ]
    },
    {
      "cell_type": "code",
      "source": [
        "#Example 5\n",
        "str1=\"welcome to python! I am trying to learn python\"\n",
        "str1.strip(\"thn\")           #please observe the output, 't' is not at end, next it looks for 'h' it is not at the end, later looks for 'n'\n",
        "                            #'n' is present at the right-end, so only 'n' is stripped"
      ],
      "metadata": {
        "colab": {
          "base_uri": "https://localhost:8080/",
          "height": 35
        },
        "id": "833Wy1cRz30-",
        "outputId": "dc0ef911-ce59-4070-940b-479ab8b67ecb"
      },
      "execution_count": 12,
      "outputs": [
        {
          "output_type": "execute_result",
          "data": {
            "text/plain": [
              "'welcome to python! I am trying to learn pytho'"
            ],
            "application/vnd.google.colaboratory.intrinsic+json": {
              "type": "string"
            }
          },
          "metadata": {},
          "execution_count": 12
        }
      ]
    },
    {
      "cell_type": "code",
      "source": [
        "#Example 6\n",
        "str1=\"!!!!!!!!!!!!!!!!!!!!welcome to python!!!!!!!!!!\"\n",
        "str1.strip(\"!\")                 #strips all occurance of ! from both left-end and right-end of the string"
      ],
      "metadata": {
        "colab": {
          "base_uri": "https://localhost:8080/",
          "height": 35
        },
        "id": "srjo5AEw0bac",
        "outputId": "b806e6ac-f5dc-40be-fbd0-403ec31f3c27"
      },
      "execution_count": 13,
      "outputs": [
        {
          "output_type": "execute_result",
          "data": {
            "text/plain": [
              "'welcome to python'"
            ],
            "application/vnd.google.colaboratory.intrinsic+json": {
              "type": "string"
            }
          },
          "metadata": {},
          "execution_count": 13
        }
      ]
    },
    {
      "cell_type": "code",
      "source": [
        "#Example 7\n",
        "str1=\"!!!!!!!!!!!!!!!!!!!!welcome to python!!!!!!!!!!\"\n",
        "str1.lstrip(\"!\")                 #strips all occurance of ! from  left-end of the string"
      ],
      "metadata": {
        "colab": {
          "base_uri": "https://localhost:8080/",
          "height": 35
        },
        "id": "5zzxfE7S0rPj",
        "outputId": "f44ee990-68e4-4e2a-fb7e-01524090449d"
      },
      "execution_count": 14,
      "outputs": [
        {
          "output_type": "execute_result",
          "data": {
            "text/plain": [
              "'welcome to python!!!!!!!!!!'"
            ],
            "application/vnd.google.colaboratory.intrinsic+json": {
              "type": "string"
            }
          },
          "metadata": {},
          "execution_count": 14
        }
      ]
    },
    {
      "cell_type": "code",
      "source": [
        "#Example 8\n",
        "str1=\"!!!!!!!!!!!!!!!!!!!!welcome to python!!!!!!!!!!\"\n",
        "str1.rstrip(\"!\")                 #strips all occurance of ! from  right-end of the string"
      ],
      "metadata": {
        "colab": {
          "base_uri": "https://localhost:8080/",
          "height": 35
        },
        "id": "b_q2Mcxj0zVJ",
        "outputId": "05d68fea-014c-472e-b569-5433918b77d8"
      },
      "execution_count": 15,
      "outputs": [
        {
          "output_type": "execute_result",
          "data": {
            "text/plain": [
              "'!!!!!!!!!!!!!!!!!!!!welcome to python'"
            ],
            "application/vnd.google.colaboratory.intrinsic+json": {
              "type": "string"
            }
          },
          "metadata": {},
          "execution_count": 15
        }
      ]
    },
    {
      "cell_type": "markdown",
      "source": [
        "11) replace('sub-string1','with sub-string2',#occurance_count)"
      ],
      "metadata": {
        "id": "3bGYvTfA1KsL"
      }
    },
    {
      "cell_type": "code",
      "source": [
        "#Example 1\n",
        "str1=\"!!!!!!!!!!!!!!!!!!!!welcome to python!!!!!!!!!!\"\n",
        "str1.replace(\"!\",'*')                 #replaces all the occurances of '!' with '*'\n",
        "                                      #does not affect the original string str1"
      ],
      "metadata": {
        "colab": {
          "base_uri": "https://localhost:8080/",
          "height": 35
        },
        "id": "mgHxffpV1aX7",
        "outputId": "bbf9de5d-b334-4265-9444-800605ca9a6c"
      },
      "execution_count": 16,
      "outputs": [
        {
          "output_type": "execute_result",
          "data": {
            "text/plain": [
              "'********************welcome to python**********'"
            ],
            "application/vnd.google.colaboratory.intrinsic+json": {
              "type": "string"
            }
          },
          "metadata": {},
          "execution_count": 16
        }
      ]
    },
    {
      "cell_type": "code",
      "source": [
        "#Example 2\n",
        "str1=\"!!!!!!!!!!!!!!!!!!!!welcome to python!!!!!!!!!!\"\n",
        "str1.replace(\"!\",'*',1)                 #replaces only 1st occurance of '!' with '*'"
      ],
      "metadata": {
        "colab": {
          "base_uri": "https://localhost:8080/",
          "height": 35
        },
        "id": "p3MV10fL1zSx",
        "outputId": "acfd4470-d024-4d4f-c06c-f5b6c0f3d930"
      },
      "execution_count": 18,
      "outputs": [
        {
          "output_type": "execute_result",
          "data": {
            "text/plain": [
              "'*!!!!!!!!!!!!!!!!!!!welcome to python!!!!!!!!!!'"
            ],
            "application/vnd.google.colaboratory.intrinsic+json": {
              "type": "string"
            }
          },
          "metadata": {},
          "execution_count": 18
        }
      ]
    },
    {
      "cell_type": "code",
      "source": [
        "#Example 3\n",
        "str1=\"!!!!!!!!!!!!!!!!!!!!welcome to python!!!!!!!!!!\"\n",
        "str1.replace(\"!\",'*',5)                 #replaces first-five occurances of '!' with '*'\n",
        "                                      #does not affect the original string str1"
      ],
      "metadata": {
        "colab": {
          "base_uri": "https://localhost:8080/",
          "height": 35
        },
        "id": "C9needZW18S-",
        "outputId": "e2a9cf8d-f2fa-4693-ba45-76ba9e2f5983"
      },
      "execution_count": 19,
      "outputs": [
        {
          "output_type": "execute_result",
          "data": {
            "text/plain": [
              "'*****!!!!!!!!!!!!!!!welcome to python!!!!!!!!!!'"
            ],
            "application/vnd.google.colaboratory.intrinsic+json": {
              "type": "string"
            }
          },
          "metadata": {},
          "execution_count": 19
        }
      ]
    },
    {
      "cell_type": "code",
      "source": [
        "#Example 4\n",
        "str1=\"!!!!!!!!!!!!!!!!!!!!welcome to python!!!!!!!!!!\"\n",
        "str1.replace(\"*\",'$')                 #no occurance of '*' in the str1, so no replacement, and does not through any error, just returns the original string str1\n",
        "                                      #does not affect the original string str1"
      ],
      "metadata": {
        "colab": {
          "base_uri": "https://localhost:8080/",
          "height": 35
        },
        "id": "fHQrEaEq2CKD",
        "outputId": "685de059-e54f-416e-95ae-37c13bf21898"
      },
      "execution_count": 20,
      "outputs": [
        {
          "output_type": "execute_result",
          "data": {
            "text/plain": [
              "'!!!!!!!!!!!!!!!!!!!!welcome to python!!!!!!!!!!'"
            ],
            "application/vnd.google.colaboratory.intrinsic+json": {
              "type": "string"
            }
          },
          "metadata": {},
          "execution_count": 20
        }
      ]
    },
    {
      "cell_type": "markdown",
      "source": [
        "12) title()\n",
        "\n",
        "    - this function  returns a string where the first character in every word is upper case."
      ],
      "metadata": {
        "id": "APY6cpv-2cBx"
      }
    },
    {
      "cell_type": "code",
      "source": [
        "#Example 1\n",
        "str1=\"welcome to python! I am trying to learn python\"\n",
        "str1.title()        #every letter of the word in the string is capatialized"
      ],
      "metadata": {
        "colab": {
          "base_uri": "https://localhost:8080/",
          "height": 35
        },
        "id": "9Zy16EJ22Vaq",
        "outputId": "3c6c9d74-4762-43fc-937b-5663eddbfc3b"
      },
      "execution_count": 21,
      "outputs": [
        {
          "output_type": "execute_result",
          "data": {
            "text/plain": [
              "'Welcome To Python! I Am Trying To Learn Python'"
            ],
            "application/vnd.google.colaboratory.intrinsic+json": {
              "type": "string"
            }
          },
          "metadata": {},
          "execution_count": 21
        }
      ]
    },
    {
      "cell_type": "markdown",
      "source": [
        "13) capitalize()\n",
        "    \n",
        "    -this function returns a string where the first character is upper case, and the rest is lower case.\n"
      ],
      "metadata": {
        "id": "LjDn8dDe23G4"
      }
    },
    {
      "cell_type": "code",
      "source": [
        "#Example 1\n",
        "str1=\"welcome to python! I am trying to learn python\"\n",
        "str1.capitalize()        #only first letter of the word in the string is capatialized"
      ],
      "metadata": {
        "colab": {
          "base_uri": "https://localhost:8080/",
          "height": 35
        },
        "id": "JUrKS55q28fg",
        "outputId": "b9b5470f-1e75-44e9-c097-250b7305515a"
      },
      "execution_count": 22,
      "outputs": [
        {
          "output_type": "execute_result",
          "data": {
            "text/plain": [
              "'Welcome to python! i am trying to learn python'"
            ],
            "application/vnd.google.colaboratory.intrinsic+json": {
              "type": "string"
            }
          },
          "metadata": {},
          "execution_count": 22
        }
      ]
    },
    {
      "cell_type": "markdown",
      "source": [
        "14) join(string2)\n",
        "\n",
        "  - joins every string-2 character with the string-1 characters"
      ],
      "metadata": {
        "id": "52QzR0Z73aWn"
      }
    },
    {
      "cell_type": "code",
      "source": [
        "#Example 1\n",
        "string1=\"check\"\n",
        "string2=\"this\"\n",
        "string1.join(string2)           #here, string-1 acts as a seperator for every charcter present in string-2\n",
        "                                #original string-2 will not be affected"
      ],
      "metadata": {
        "colab": {
          "base_uri": "https://localhost:8080/",
          "height": 35
        },
        "id": "aPNIcxbI3XCD",
        "outputId": "e7997735-5f22-4adc-b19d-78cb6e258de2"
      },
      "execution_count": 23,
      "outputs": [
        {
          "output_type": "execute_result",
          "data": {
            "text/plain": [
              "'tcheckhcheckichecks'"
            ],
            "application/vnd.google.colaboratory.intrinsic+json": {
              "type": "string"
            }
          },
          "metadata": {},
          "execution_count": 23
        }
      ]
    },
    {
      "cell_type": "code",
      "source": [
        "#Example 2\n",
        "str1=\" \"\n",
        "str2=\"welcome\"\n",
        "str1.join(str2)"
      ],
      "metadata": {
        "colab": {
          "base_uri": "https://localhost:8080/",
          "height": 35
        },
        "id": "hHoW1gtR4BMj",
        "outputId": "7fa9c7e0-6dde-4c77-9ec4-1f7c603fd388"
      },
      "execution_count": 25,
      "outputs": [
        {
          "output_type": "execute_result",
          "data": {
            "text/plain": [
              "'w e l c o m e'"
            ],
            "application/vnd.google.colaboratory.intrinsic+json": {
              "type": "string"
            }
          },
          "metadata": {},
          "execution_count": 25
        }
      ]
    },
    {
      "cell_type": "markdown",
      "source": [
        "15) split(string,occurance_count)\n",
        "\n",
        "    -splits the string into a list depending on the split-string"
      ],
      "metadata": {
        "id": "P53Ys5jM4ggd"
      }
    },
    {
      "cell_type": "code",
      "source": [
        "#Example 1\n",
        "str1=\"welcome to python! I am trying to learn python\"\n",
        "str1.split('to')"
      ],
      "metadata": {
        "colab": {
          "base_uri": "https://localhost:8080/"
        },
        "id": "SFJLWbrG4obM",
        "outputId": "173b472e-dc0f-4164-c134-b1ab9a639c4b"
      },
      "execution_count": 27,
      "outputs": [
        {
          "output_type": "execute_result",
          "data": {
            "text/plain": [
              "['welcome ', ' python! I am trying ', ' learn python']"
            ]
          },
          "metadata": {},
          "execution_count": 27
        }
      ]
    },
    {
      "cell_type": "code",
      "source": [
        "#Example 2\n",
        "str1=\"welcome to python! I am trying to learn python\"\n",
        "str1.split('')              #throws value-error : empty seperator not allowed"
      ],
      "metadata": {
        "colab": {
          "base_uri": "https://localhost:8080/",
          "height": 210
        },
        "id": "yGkh2HZU43KV",
        "outputId": "499439c6-cbb2-43d9-8eba-bf8502125893"
      },
      "execution_count": 28,
      "outputs": [
        {
          "output_type": "error",
          "ename": "ValueError",
          "evalue": "ignored",
          "traceback": [
            "\u001b[0;31m---------------------------------------------------------------------------\u001b[0m",
            "\u001b[0;31mValueError\u001b[0m                                Traceback (most recent call last)",
            "\u001b[0;32m<ipython-input-28-c95ab3d84588>\u001b[0m in \u001b[0;36m<cell line: 3>\u001b[0;34m()\u001b[0m\n\u001b[1;32m      1\u001b[0m \u001b[0;31m#Example 2\u001b[0m\u001b[0;34m\u001b[0m\u001b[0;34m\u001b[0m\u001b[0m\n\u001b[1;32m      2\u001b[0m \u001b[0mstr1\u001b[0m\u001b[0;34m=\u001b[0m\u001b[0;34m\"welcome to python! I am trying to learn python\"\u001b[0m\u001b[0;34m\u001b[0m\u001b[0;34m\u001b[0m\u001b[0m\n\u001b[0;32m----> 3\u001b[0;31m \u001b[0mstr1\u001b[0m\u001b[0;34m.\u001b[0m\u001b[0msplit\u001b[0m\u001b[0;34m(\u001b[0m\u001b[0;34m''\u001b[0m\u001b[0;34m)\u001b[0m\u001b[0;34m\u001b[0m\u001b[0;34m\u001b[0m\u001b[0m\n\u001b[0m",
            "\u001b[0;31mValueError\u001b[0m: empty separator"
          ]
        }
      ]
    },
    {
      "cell_type": "code",
      "source": [
        "#Example 3\n",
        "str1=\"welcome to python! I am trying to learn python\"\n",
        "str1.split(' ')           #for every space, the string is split"
      ],
      "metadata": {
        "colab": {
          "base_uri": "https://localhost:8080/"
        },
        "id": "oXl8C7XR5CEV",
        "outputId": "f5bba28c-740f-4451-ba06-21b751d5a8b5"
      },
      "execution_count": 29,
      "outputs": [
        {
          "output_type": "execute_result",
          "data": {
            "text/plain": [
              "['welcome', 'to', 'python!', 'I', 'am', 'trying', 'to', 'learn', 'python']"
            ]
          },
          "metadata": {},
          "execution_count": 29
        }
      ]
    },
    {
      "cell_type": "code",
      "source": [
        "#Example 4\n",
        "str1=\"welcome to python! I am trying to learn python\"\n",
        "str1.split('do')          #'do' is not present, so it returns just the original string without throwing any error"
      ],
      "metadata": {
        "colab": {
          "base_uri": "https://localhost:8080/"
        },
        "id": "qiuAXWkL5KG3",
        "outputId": "a9d0dd2f-1a53-4b53-c739-a414fa6c1404"
      },
      "execution_count": 30,
      "outputs": [
        {
          "output_type": "execute_result",
          "data": {
            "text/plain": [
              "['welcome to python! I am trying to learn python']"
            ]
          },
          "metadata": {},
          "execution_count": 30
        }
      ]
    },
    {
      "cell_type": "code",
      "source": [
        "#Example 5\n",
        "str1=\"welcome to python! I am trying to learn python\"\n",
        "str1.split('to',1)          #splits the string only on the 1st occurance of the string 'to'"
      ],
      "metadata": {
        "colab": {
          "base_uri": "https://localhost:8080/"
        },
        "id": "d_UYhopE50ja",
        "outputId": "8d960462-6f3c-4df7-d1da-6493471a584a"
      },
      "execution_count": 31,
      "outputs": [
        {
          "output_type": "execute_result",
          "data": {
            "text/plain": [
              "['welcome ', ' python! I am trying to learn python']"
            ]
          },
          "metadata": {},
          "execution_count": 31
        }
      ]
    },
    {
      "cell_type": "code",
      "source": [
        "#try for other functions\n",
        "isspace()\n",
        "ljust()\n",
        "rjust()\n",
        "center()\n",
        "zfill()\n",
        "isnumeric()\n",
        "isalpha()\n",
        "isdigit()\n",
        "isupper()\n",
        "islower()\n",
        "upper()\n",
        "lower()"
      ],
      "metadata": {
        "id": "93l4z5KS6GhZ"
      },
      "execution_count": null,
      "outputs": []
    }
  ]
}