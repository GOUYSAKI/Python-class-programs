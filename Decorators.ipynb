{
  "nbformat": 4,
  "nbformat_minor": 0,
  "metadata": {
    "colab": {
      "provenance": []
    },
    "kernelspec": {
      "name": "python3",
      "display_name": "Python 3"
    },
    "language_info": {
      "name": "python"
    }
  },
  "cells": [
    {
      "cell_type": "markdown",
      "source": [
        "# Decorators"
      ],
      "metadata": {
        "id": "wl2-ePkvEPxF"
      }
    },
    {
      "cell_type": "markdown",
      "source": [
        "* Decorators allows a user to add new functionality to an existing object without modifying its structure.\n",
        "* Decorators are usually called before the definition of a function you want to decorate.\n",
        "* In Decorators, functions are taken as the argument into\n",
        "another function and then called inside the wrapper\n",
        "function."
      ],
      "metadata": {
        "id": "MEn2DHXJEUbT"
      }
    },
    {
      "cell_type": "markdown",
      "source": [
        "* In short, implementation of function call, callback and closures together, where a function call is called inside nested function through callback"
      ],
      "metadata": {
        "id": "fSvu2QNNHthh"
      }
    },
    {
      "cell_type": "code",
      "source": [
        "#example 1: Simple example of decorators\n",
        "def outer_func(deco_func):                  #outer function\n",
        "  def inner_func():                         #wrapper/inner function\n",
        "    print(\"************************\")\n",
        "    deco_func()                             #function to be decorated\n",
        "    print(\"************************\")\n",
        "  return inner_func()\n",
        "\n",
        "def deco_func():\n",
        "  print(\"inside beautiful decoration\")\n",
        "#main code-------------------\n",
        "outer_func(deco_func)"
      ],
      "metadata": {
        "colab": {
          "base_uri": "https://localhost:8080/"
        },
        "id": "ZGvRwVzGNiUA",
        "outputId": "d6c0d93a-d4f4-4d8f-d9ff-4a96241b5c7c"
      },
      "execution_count": 15,
      "outputs": [
        {
          "output_type": "stream",
          "name": "stdout",
          "text": [
            "************************\n",
            "inside beautiful decoration\n",
            "************************\n"
          ]
        }
      ]
    },
    {
      "cell_type": "code",
      "source": [
        "#example 2: Simple example of decorators\n",
        "def outer_func(deco_func):                  #outer function\n",
        "  def inner_func():                         #wrapper/inner function\n",
        "    print(\"************************\")\n",
        "    deco_func()                             #function to be decorated\n",
        "    print(\"************************\")\n",
        "  return inner_func\n",
        "\n",
        "def deco_func():\n",
        "  print(\"inside beautiful decoration\")\n",
        "#main code-------------------\n",
        "fork=outer_func(deco_func)\n",
        "print(type(fork))\n",
        "fork()"
      ],
      "metadata": {
        "colab": {
          "base_uri": "https://localhost:8080/"
        },
        "id": "37hJB_-uHqHL",
        "outputId": "1ce57439-a118-4f0f-a8b4-5f7e4e4d832e"
      },
      "execution_count": 4,
      "outputs": [
        {
          "output_type": "stream",
          "name": "stdout",
          "text": [
            "<class 'function'>\n",
            "************************\n",
            "inside beautiful decoration\n",
            "************************\n"
          ]
        }
      ]
    },
    {
      "cell_type": "code",
      "source": [
        "# example 2: illustration continued\n",
        "def outer_func(deco_func):\n",
        "  def inner_func():\n",
        "    print(\"************************\")\n",
        "    deco_func                           #not calling the function, but jsut specifying the function name. observe the output\n",
        "    print(\"************************\")\n",
        "  return inner_func\n",
        "\n",
        "def deco_func():\n",
        "  print(\"inside beautiful decoration\")\n",
        "#main code-------------------\n",
        "fork=outer_func(deco_func)\n",
        "fork()"
      ],
      "metadata": {
        "colab": {
          "base_uri": "https://localhost:8080/"
        },
        "id": "KxPQx74RKOfc",
        "outputId": "58751c69-17f6-453e-b683-47e291e32c24"
      },
      "execution_count": 5,
      "outputs": [
        {
          "output_type": "stream",
          "name": "stdout",
          "text": [
            "<class 'function'>\n",
            "************************\n",
            "************************\n"
          ]
        }
      ]
    },
    {
      "cell_type": "code",
      "source": [
        "# example 2:\n",
        "def outer_func(decoy):                  #outer function\n",
        "  f1=decoy                              #'decoy' ---> dummy parameter name for the function deco_func\n",
        "  def inner_func():                         #wrapper/inner function\n",
        "    print(\"************************\")\n",
        "    f1()\n",
        "    print(\"************************\")\n",
        "  return inner_func\n",
        "\n",
        "def deco_func():\n",
        "  print(\"inside beautiful decoration\")\n",
        "#main code-------------------\n",
        "fork=outer_func(deco_func)\n",
        "fork()"
      ],
      "metadata": {
        "colab": {
          "base_uri": "https://localhost:8080/"
        },
        "id": "Iwa1GDIlLCU8",
        "outputId": "e09612b2-2541-46e3-d467-a3221398d227"
      },
      "execution_count": 10,
      "outputs": [
        {
          "output_type": "stream",
          "name": "stdout",
          "text": [
            "************************\n",
            "inside beautiful decoration\n",
            "************************\n"
          ]
        }
      ]
    },
    {
      "cell_type": "markdown",
      "source": [
        "# Use of @ for associating functions to  decorators"
      ],
      "metadata": {
        "id": "dYNUfodZXCqw"
      }
    },
    {
      "cell_type": "code",
      "source": [
        "#example 3: another way of implementing decorators using @ symbol\n",
        "def outer_func(decoy):                  #outer function\n",
        "  def inner_func():                         #wrapper/inner function\n",
        "    print(\"************************\")\n",
        "    decoy()\n",
        "    print(\"************************\")\n",
        "  return inner_func\n",
        "\n",
        "@outer_func                         # @ is used to attach a function\n",
        "def deco_func():\n",
        "  print(\"inside beautiful decoration\")\n",
        "#main code-------------------\n",
        "deco_func()"
      ],
      "metadata": {
        "colab": {
          "base_uri": "https://localhost:8080/"
        },
        "id": "YX46SAxPLoEA",
        "outputId": "db9908bf-6f80-45dd-e35b-0c9641e5573d"
      },
      "execution_count": 11,
      "outputs": [
        {
          "output_type": "stream",
          "name": "stdout",
          "text": [
            "************************\n",
            "inside beautiful decoration\n",
            "************************\n"
          ]
        }
      ]
    },
    {
      "cell_type": "code",
      "source": [
        "#example 4: same as example 3 with some math functions\n",
        "import math\n",
        "def calculate(f): #decorator function\n",
        "  def inner1(*args): #*args is variable length argument\n",
        "    print(\"Decorator\")\n",
        "    f(*args) # this is being decorated by decorator\n",
        "    print(\"**************\")\n",
        "  return inner1\n",
        "\n",
        "@calculate\n",
        "def fact(num): #factorial() getting decorated\n",
        "  print(math.factorial(num))\n",
        "\n",
        "@calculate\n",
        "def squareroot(num): #squareroot() getting decorated\n",
        "  print(math.sqrt(num))\n",
        "\n",
        "@calculate\n",
        "def maximum(*num): #maximum() getting decorated\n",
        "  print(max(num[0],num[1],num[2]))\n",
        "\n",
        "fact(5) #calls decorated factorial()\n",
        "squareroot(16) #calls decorated sqrt1()\n",
        "maximum(23,9,78) #calls decorated maximum()"
      ],
      "metadata": {
        "colab": {
          "base_uri": "https://localhost:8080/"
        },
        "id": "A9cB4yOSMUNf",
        "outputId": "b46cc3e8-ee3c-4557-b489-ef1defe07da5"
      },
      "execution_count": 14,
      "outputs": [
        {
          "output_type": "stream",
          "name": "stdout",
          "text": [
            "Decorator\n",
            "120\n",
            "**************\n",
            "Decorator\n",
            "4.0\n",
            "**************\n",
            "Decorator\n",
            "78\n",
            "**************\n"
          ]
        }
      ]
    },
    {
      "cell_type": "code",
      "source": [
        "#example 5: another example of calling decorators using @\n",
        "def f1(deco_func):                  #outer function\n",
        "  def f2():                         #wrapper/inner function\n",
        "    print(\"************************\")\n",
        "    deco_func()                             #function to be decorated\n",
        "    print(\"************************\")\n",
        "  return f2()\n",
        "\n",
        "@f1\n",
        "def deco_func():\n",
        "  print(\"inside beautiful decoration\")\n",
        "\n",
        "#observe that i have not written any function call/invoke explicitly. @ takes care because i have called f2() function in return statement of f1"
      ],
      "metadata": {
        "colab": {
          "base_uri": "https://localhost:8080/"
        },
        "id": "c0Xf2Ur0NpWJ",
        "outputId": "f0ddc440-026a-462d-9521-1f85150cefa0"
      },
      "execution_count": 20,
      "outputs": [
        {
          "output_type": "stream",
          "name": "stdout",
          "text": [
            "************************\n",
            "inside beautiful decoration\n",
            "************************\n"
          ]
        }
      ]
    },
    {
      "cell_type": "code",
      "source": [
        "#example 5: another example of calling decorators using @\n",
        "def f1(deco_func):                  #outer function\n",
        "  def f2():                         #wrapper/inner function\n",
        "    print(\"************************\")\n",
        "    deco_func()                             #function to be decorated\n",
        "    print(\"************************\")\n",
        "  return f2()\n",
        "\n",
        "@f1\n",
        "def deco_func():\n",
        "  print(\"inside beautiful decoration\")\n",
        "  return 1\n",
        "\n",
        "#main code------------------------------\n",
        "deco_func()       #throws error saying NoneType is not callable, because i have addressed the deco_func() to @f1\n",
        "# so this kind of calling works only if the return statement of the outer function contains no inner function call, but just the inner function name"
      ],
      "metadata": {
        "id": "cb8C_qVYOvQ-"
      },
      "execution_count": null,
      "outputs": []
    },
    {
      "cell_type": "markdown",
      "source": [
        "# Chaining Decorators"
      ],
      "metadata": {
        "id": "XhI-7ovnQ2cB"
      }
    },
    {
      "cell_type": "markdown",
      "source": [
        "* decorating a function with multiple decorators"
      ],
      "metadata": {
        "id": "ZYDdr9G9Q7m_"
      }
    },
    {
      "cell_type": "code",
      "source": [
        "#example 1: chaining decorators\n",
        "def outer(deco):\n",
        "  def inner():\n",
        "    print(\"***************************************\")\n",
        "    deco()\n",
        "    print(\"****************************************\")\n",
        "  return inner\n",
        "\n",
        "def outer2(deco):\n",
        "  def inner2():\n",
        "    print(\"@@@@@@@@@@@@@@@@@@@@@@@@@@@@@@@@@@@@@@@@@\")\n",
        "    deco()\n",
        "    print(\"@@@@@@@@@@@@@@@@@@@@@@@@@@@@@@@@@@@@@@@@@\")\n",
        "  return inner2\n",
        "\n",
        "def deco_func():\n",
        "  print(\"inside beautiful decorators\")\n",
        "\n",
        "#main code\n",
        "fork=outer2(outer(deco_func))\n",
        "fork()"
      ],
      "metadata": {
        "colab": {
          "base_uri": "https://localhost:8080/"
        },
        "id": "vEXIkBy8Q65o",
        "outputId": "d1da4700-a084-466d-c9e1-481ae843b4ea"
      },
      "execution_count": 32,
      "outputs": [
        {
          "output_type": "stream",
          "name": "stdout",
          "text": [
            "@@@@@@@@@@@@@@@@@@@@@@@@@@@@@@@@@@@@@@@@@\n",
            "***************************************\n",
            "inside beautiful decorators\n",
            "****************************************\n",
            "@@@@@@@@@@@@@@@@@@@@@@@@@@@@@@@@@@@@@@@@@\n"
          ]
        }
      ]
    },
    {
      "cell_type": "code",
      "source": [
        "#example 2: error example\n",
        "def outer(deco):\n",
        "  def inner():\n",
        "    print(\"***************************************\")\n",
        "    deco()\n",
        "    print(\"****************************************\")\n",
        "  return inner()                  #calling the function inner() not just 'return inner'\n",
        "\n",
        "def outer2(deco):\n",
        "  def inner2():\n",
        "    print(\"@@@@@@@@@@@@@@@@@@@@@@@@@@@@@@@@@@@@@@@@@\")\n",
        "    deco()                                              #throws error saying Nonetype not callable\n",
        "    print(\"@@@@@@@@@@@@@@@@@@@@@@@@@@@@@@@@@@@@@@@@@\")\n",
        "  return inner2()                                       #because i am calling the function here inner2(), and not just 'return inner'\n",
        "\n",
        "def deco_func():\n",
        "  print(\"inside beautiful decorators\")\n",
        "\n",
        "#main code------------\n",
        "outer2(outer(deco_func))"
      ],
      "metadata": {
        "colab": {
          "base_uri": "https://localhost:8080/",
          "height": 425
        },
        "id": "ahJtbnU6Sf28",
        "outputId": "b4928be6-0534-4ea7-f48a-792fe54df4d4"
      },
      "execution_count": 31,
      "outputs": [
        {
          "output_type": "stream",
          "name": "stdout",
          "text": [
            "@@@@@@@@@@@@@@@@@@@@@@@@@@@@@@@@@@@@@@@@@\n",
            "inside beautiful decorators\n",
            "@@@@@@@@@@@@@@@@@@@@@@@@@@@@@@@@@@@@@@@@@\n",
            "***************************************\n"
          ]
        },
        {
          "output_type": "error",
          "ename": "TypeError",
          "evalue": "ignored",
          "traceback": [
            "\u001b[0;31m---------------------------------------------------------------------------\u001b[0m",
            "\u001b[0;31mTypeError\u001b[0m                                 Traceback (most recent call last)",
            "\u001b[0;32m<ipython-input-31-0c44d5af3821>\u001b[0m in \u001b[0;36m<cell line: 19>\u001b[0;34m()\u001b[0m\n\u001b[1;32m     17\u001b[0m \u001b[0;34m\u001b[0m\u001b[0m\n\u001b[1;32m     18\u001b[0m \u001b[0;31m#main code------------\u001b[0m\u001b[0;34m\u001b[0m\u001b[0;34m\u001b[0m\u001b[0m\n\u001b[0;32m---> 19\u001b[0;31m \u001b[0mouter\u001b[0m\u001b[0;34m(\u001b[0m\u001b[0mouter2\u001b[0m\u001b[0;34m(\u001b[0m\u001b[0mdeco_func\u001b[0m\u001b[0;34m)\u001b[0m\u001b[0;34m)\u001b[0m\u001b[0;34m\u001b[0m\u001b[0;34m\u001b[0m\u001b[0m\n\u001b[0m",
            "\u001b[0;32m<ipython-input-31-0c44d5af3821>\u001b[0m in \u001b[0;36mouter\u001b[0;34m(deco)\u001b[0m\n\u001b[1;32m      4\u001b[0m     \u001b[0mdeco\u001b[0m\u001b[0;34m(\u001b[0m\u001b[0;34m)\u001b[0m\u001b[0;34m\u001b[0m\u001b[0;34m\u001b[0m\u001b[0m\n\u001b[1;32m      5\u001b[0m     \u001b[0mprint\u001b[0m\u001b[0;34m(\u001b[0m\u001b[0;34m\"****************************************\"\u001b[0m\u001b[0;34m)\u001b[0m\u001b[0;34m\u001b[0m\u001b[0;34m\u001b[0m\u001b[0m\n\u001b[0;32m----> 6\u001b[0;31m   \u001b[0;32mreturn\u001b[0m \u001b[0minner\u001b[0m\u001b[0;34m(\u001b[0m\u001b[0;34m)\u001b[0m\u001b[0;34m\u001b[0m\u001b[0;34m\u001b[0m\u001b[0m\n\u001b[0m\u001b[1;32m      7\u001b[0m \u001b[0;34m\u001b[0m\u001b[0m\n\u001b[1;32m      8\u001b[0m \u001b[0;32mdef\u001b[0m \u001b[0mouter2\u001b[0m\u001b[0;34m(\u001b[0m\u001b[0mdeco\u001b[0m\u001b[0;34m)\u001b[0m\u001b[0;34m:\u001b[0m\u001b[0;34m\u001b[0m\u001b[0;34m\u001b[0m\u001b[0m\n",
            "\u001b[0;32m<ipython-input-31-0c44d5af3821>\u001b[0m in \u001b[0;36minner\u001b[0;34m()\u001b[0m\n\u001b[1;32m      2\u001b[0m   \u001b[0;32mdef\u001b[0m \u001b[0minner\u001b[0m\u001b[0;34m(\u001b[0m\u001b[0;34m)\u001b[0m\u001b[0;34m:\u001b[0m\u001b[0;34m\u001b[0m\u001b[0;34m\u001b[0m\u001b[0m\n\u001b[1;32m      3\u001b[0m     \u001b[0mprint\u001b[0m\u001b[0;34m(\u001b[0m\u001b[0;34m\"***************************************\"\u001b[0m\u001b[0;34m)\u001b[0m\u001b[0;34m\u001b[0m\u001b[0;34m\u001b[0m\u001b[0m\n\u001b[0;32m----> 4\u001b[0;31m     \u001b[0mdeco\u001b[0m\u001b[0;34m(\u001b[0m\u001b[0;34m)\u001b[0m\u001b[0;34m\u001b[0m\u001b[0;34m\u001b[0m\u001b[0m\n\u001b[0m\u001b[1;32m      5\u001b[0m     \u001b[0mprint\u001b[0m\u001b[0;34m(\u001b[0m\u001b[0;34m\"****************************************\"\u001b[0m\u001b[0;34m)\u001b[0m\u001b[0;34m\u001b[0m\u001b[0;34m\u001b[0m\u001b[0m\n\u001b[1;32m      6\u001b[0m   \u001b[0;32mreturn\u001b[0m \u001b[0minner\u001b[0m\u001b[0;34m(\u001b[0m\u001b[0;34m)\u001b[0m\u001b[0;34m\u001b[0m\u001b[0;34m\u001b[0m\u001b[0m\n",
            "\u001b[0;31mTypeError\u001b[0m: 'NoneType' object is not callable"
          ]
        }
      ]
    },
    {
      "cell_type": "code",
      "source": [
        "#example 3: chaining decorators different result pattern\n",
        "def outer(deco):\n",
        "  def inner():\n",
        "    print(\"***************************************\")\n",
        "    deco()\n",
        "    print(\"****************************************\")\n",
        "  return inner\n",
        "\n",
        "def outer2(deco):\n",
        "  def inner2():\n",
        "    print(\"@@@@@@@@@@@@@@@@@@@@@@@@@@@@@@@@@@@@@@@@@\")\n",
        "    deco()\n",
        "    print(\"@@@@@@@@@@@@@@@@@@@@@@@@@@@@@@@@@@@@@@@@@\")\n",
        "  return inner2\n",
        "\n",
        "@outer2\n",
        "def deco_func():\n",
        "  print(\"inside beautiful decorators\")\n",
        "\n",
        "#main code\n",
        "fork=outer2(outer(deco_func))\n",
        "fork()"
      ],
      "metadata": {
        "colab": {
          "base_uri": "https://localhost:8080/"
        },
        "id": "yxUbgXo6TtWx",
        "outputId": "0fd92a7a-dc44-46a1-e584-f339e7e578ea"
      },
      "execution_count": 35,
      "outputs": [
        {
          "output_type": "stream",
          "name": "stdout",
          "text": [
            "@@@@@@@@@@@@@@@@@@@@@@@@@@@@@@@@@@@@@@@@@\n",
            "***************************************\n",
            "@@@@@@@@@@@@@@@@@@@@@@@@@@@@@@@@@@@@@@@@@\n",
            "inside beautiful decorators\n",
            "@@@@@@@@@@@@@@@@@@@@@@@@@@@@@@@@@@@@@@@@@\n",
            "****************************************\n",
            "@@@@@@@@@@@@@@@@@@@@@@@@@@@@@@@@@@@@@@@@@\n"
          ]
        }
      ]
    },
    {
      "cell_type": "code",
      "source": [
        "#example 4: chaining decorators with different result pattern\n",
        "def outer(deco):\n",
        "  def inner():\n",
        "    print(\"***************************************\")\n",
        "    deco()\n",
        "    print(\"****************************************\")\n",
        "  return inner\n",
        "\n",
        "def outer2(deco):\n",
        "  def inner2():\n",
        "    print(\"@@@@@@@@@@@@@@@@@@@@@@@@@@@@@@@@@@@@@@@@@\")\n",
        "    deco()\n",
        "    print(\"@@@@@@@@@@@@@@@@@@@@@@@@@@@@@@@@@@@@@@@@@\")\n",
        "  return inner2\n",
        "\n",
        "@outer\n",
        "def deco_func():\n",
        "  print(\"inside beautiful decorators\")\n",
        "\n",
        "#main code\n",
        "fork=outer2(outer(deco_func))\n",
        "fork()"
      ],
      "metadata": {
        "colab": {
          "base_uri": "https://localhost:8080/"
        },
        "id": "8DJg6DhaUKsI",
        "outputId": "c257dbb2-2ef3-41d1-f5cc-5443b2746d3c"
      },
      "execution_count": 36,
      "outputs": [
        {
          "output_type": "stream",
          "name": "stdout",
          "text": [
            "@@@@@@@@@@@@@@@@@@@@@@@@@@@@@@@@@@@@@@@@@\n",
            "***************************************\n",
            "***************************************\n",
            "inside beautiful decorators\n",
            "****************************************\n",
            "****************************************\n",
            "@@@@@@@@@@@@@@@@@@@@@@@@@@@@@@@@@@@@@@@@@\n"
          ]
        }
      ]
    },
    {
      "cell_type": "code",
      "source": [
        "#example 5: associating function to be decorated to different decorators and observing the change in the printing pattern\n",
        "def outer(deco):\n",
        "  def inner():\n",
        "    print(\"***************************************\")\n",
        "    deco()\n",
        "    print(\"****************************************\")\n",
        "  return inner\n",
        "\n",
        "def outer2(deco):\n",
        "  def inner2():\n",
        "    print(\"@@@@@@@@@@@@@@@@@@@@@@@@@@@@@@@@@@@@@@@@@\")\n",
        "    deco()\n",
        "    print(\"@@@@@@@@@@@@@@@@@@@@@@@@@@@@@@@@@@@@@@@@@\")\n",
        "  return inner2\n",
        "\n",
        "@outer2\n",
        "def deco_func():\n",
        "  print(\"inside beautiful decorators\")\n",
        "\n",
        "#main code----------------------------\n",
        "fork=outer(deco_func)           #calling only one decortor function but the results seen is different.\n",
        "fork()\n",
        "#reason is deco_func() is associated to outer2 decorators, but i am calling the outer decorator,\n",
        "#hence the outer function executes the outer2 decorator which has deco_func() association 1st, before it can do decoration from its decorator"
      ],
      "metadata": {
        "colab": {
          "base_uri": "https://localhost:8080/"
        },
        "id": "U-9IVhRFUaSX",
        "outputId": "8a1dd18f-dd64-48f3-d408-8c293e8ca4f8"
      },
      "execution_count": 50,
      "outputs": [
        {
          "output_type": "stream",
          "name": "stdout",
          "text": [
            "***************************************\n",
            "@@@@@@@@@@@@@@@@@@@@@@@@@@@@@@@@@@@@@@@@@\n",
            "inside beautiful decorators\n",
            "@@@@@@@@@@@@@@@@@@@@@@@@@@@@@@@@@@@@@@@@@\n",
            "****************************************\n"
          ]
        }
      ]
    }
  ]
}