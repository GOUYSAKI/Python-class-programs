{
  "nbformat": 4,
  "nbformat_minor": 0,
  "metadata": {
    "colab": {
      "provenance": []
    },
    "kernelspec": {
      "name": "python3",
      "display_name": "Python 3"
    },
    "language_info": {
      "name": "python"
    }
  },
  "cells": [
    {
      "cell_type": "markdown",
      "source": [
        "* Errors are classified into 2 groups:\n",
        "\n",
        "    a) syntax error:-w.r.t deviation in the language rule. Also called as parsing error.\n",
        "    \n",
        "    b) semantic errors:- w.r.t the typo's/grammar"
      ],
      "metadata": {
        "id": "p4vmFDQRp-DP"
      }
    },
    {
      "cell_type": "markdown",
      "source": [
        "# Exceptions\n",
        "Exception:\n",
        "\tIt is an event that occurs during the execution of a program that disrupts the normal flow of execution of instructions. In Python, this represents RunTime Error\n",
        "\n",
        "\n",
        "Exceptions are classified into two types:\n",
        "\n",
        "\t  1. System Defined Exceptions or standard exceptions/Builtin exceptions\n",
        "\t\tNameError, ValueError, ZeroDivisionError,ImportError, KeyError, IndexError, TypeError, FileNotFoundError,AttributeError\n",
        "\n",
        "\tHierarchy of Exception classes (Simplified) are as below:\n",
        "\tKeyboardInterrupt-------->BaseException<--------Exception <------ NameError, TypeError, ZeroDivisionError, ImportError, TypeError, ValueError, ImportError, AttributeError, AssertionError\n",
        "\n",
        "\n",
        "\t2. User Defined exceptions\n",
        "\t\tAny user-defined class is written for handling the exceptions"
      ],
      "metadata": {
        "id": "vdaL4J31qZoI"
      }
    },
    {
      "cell_type": "markdown",
      "source": [
        "Order of built-in Exception identifiers:\n",
        "\n",
        "    try: contains regular statements of the program\n",
        "    raise: to force a specified exception to occur\n",
        "    except: to catch an exception\n",
        "    else:- to specify what to do if exception is not found\n",
        "    finally:- last block to be executed irrespective of exception found/not\n",
        "\n",
        "\n"
      ],
      "metadata": {
        "id": "KJM_R07st4mU"
      }
    },
    {
      "cell_type": "code",
      "source": [
        "# example 1: for value error\n",
        "while True:\n",
        "  try:\n",
        "    x = int(input(\"Please enter a number: \"))\n",
        "    print(\"value entered=\",x)\n",
        "    break\n",
        "  except ValueError:\n",
        "    print(\"Oops!  That was no valid number.  Try again...\")"
      ],
      "metadata": {
        "colab": {
          "base_uri": "https://localhost:8080/"
        },
        "id": "N3XJt7owqkVs",
        "outputId": "e94d2ea9-f15f-4000-a095-472ee4256f55"
      },
      "execution_count": 3,
      "outputs": [
        {
          "output_type": "stream",
          "name": "stdout",
          "text": [
            "Please enter a number: ert\n",
            "Oops!  That was no valid number.  Try again...\n",
            "Please enter a number: hgfgh\n",
            "Oops!  That was no valid number.  Try again...\n",
            "Please enter a number: 45\n",
            "value entered= 45\n"
          ]
        }
      ]
    },
    {
      "cell_type": "code",
      "source": [
        "try:\n",
        "    x = int(input(\"Please enter a number: \"))\n",
        "    print(\"value entered=\",x)\n",
        "except ValueError:\n",
        "    print(\"Oops!  That was no valid number.  Try again...\")"
      ],
      "metadata": {
        "id": "5Ba0NWmyeZvE"
      },
      "execution_count": null,
      "outputs": []
    },
    {
      "cell_type": "code",
      "source": [
        "#example 2: for zeroDivisionError\n",
        "a=int(input(\"Enter the number\"))\n",
        "b=int(input(\"Enter another number\"))\t\t#enter 0 and observe the output\n",
        "try:\n",
        "\tc=a/b\t\t\t\t#This code might throw error\n",
        "except ZeroDivisionError:\n",
        "\tprint(\"Division not possible\")\n",
        "else:\n",
        "\tprint(c)\n",
        "finally:\n",
        "\tprint(\"thanks a lot!!\")"
      ],
      "metadata": {
        "colab": {
          "base_uri": "https://localhost:8080/"
        },
        "id": "7dWbxq7tvExD",
        "outputId": "d8b1fd80-c0b5-4d70-d354-6e2af1a2d67a"
      },
      "execution_count": 7,
      "outputs": [
        {
          "output_type": "stream",
          "name": "stdout",
          "text": [
            "Enter the number3\n",
            "Enter another number2\n",
            "1.5\n",
            "thanks a lot!!\n"
          ]
        }
      ]
    },
    {
      "cell_type": "code",
      "source": [
        "#example3: value error\n",
        "try:\n",
        "\ta=int(input(\"Enter the number\"))    #These 3 lines might cause an exception\n",
        "\tb=int(input(\"Enter another number\"))\t\t#enter one\n",
        "\tc=a/b\n",
        "except ZeroDivisionError:\n",
        "\tprint(\"Division not possible\")\n",
        "except ValueError:\t\t#added now. comment these two lines and observe the output\n",
        "\tprint(\"value cannot be string\")\n",
        "else:\n",
        "\tprint(c)\n",
        "finally:\n",
        "\tprint(\"thanks a lot!!\")\n"
      ],
      "metadata": {
        "colab": {
          "base_uri": "https://localhost:8080/"
        },
        "id": "ekIa9g6evUz4",
        "outputId": "b17b5f39-bcd9-41e7-9258-c51163463c7c"
      },
      "execution_count": 9,
      "outputs": [
        {
          "output_type": "stream",
          "name": "stdout",
          "text": [
            "Enter the number1\n",
            "Enter another number0\n",
            "Division not possible\n",
            "thanks a lot!!\n"
          ]
        }
      ]
    },
    {
      "cell_type": "code",
      "source": [
        "#Example 4: Usage of except Exception:\n",
        "try:\n",
        "\ta=int(input(\"Enter the number\"))\n",
        "\tb=int(input(\"Enter another number\"))\n",
        "\tc=a/b\n",
        "except ZeroDivisionError:\n",
        "\tprint(\"Division not possible\")\n",
        "except Exception: \t\t#changed here... Since ValueError is inherited from Exception, value error is handled here\n",
        "\tprint(\"value cannot be string\")\n",
        "else:\n",
        "\tprint(c)\n",
        "finally:                  #executes irrespective of whether execption is rasied or not\n",
        "\tprint(\"thanks a lot!!\")"
      ],
      "metadata": {
        "colab": {
          "base_uri": "https://localhost:8080/"
        },
        "id": "u4dmhyG-wAfr",
        "outputId": "c7d9d5f1-5bae-4f50-8155-d53170a18d15"
      },
      "execution_count": 10,
      "outputs": [
        {
          "output_type": "stream",
          "name": "stdout",
          "text": [
            "Enter the numberadadsdf\n",
            "value cannot be string\n",
            "thanks a lot!!\n"
          ]
        }
      ]
    },
    {
      "cell_type": "code",
      "source": [
        "#Example 5: Usage of parameterized tuple\n",
        "try:\n",
        "\ta=int(input(\"Enter the number\"))    #These 3 lines might cause an exception\n",
        "\tb=int(input(\"Enter another number\"))\n",
        "\tc=a/b\n",
        "except (ZeroDivisionError,ValueError):\t\t#more than one can be specified as a tuple\n",
        "\tprint(\"Division not possible\")\n",
        "\n",
        "else:\n",
        "\tprint(c)\n",
        "finally:\n",
        "\tprint(\"thanks a lot!!\")"
      ],
      "metadata": {
        "colab": {
          "base_uri": "https://localhost:8080/"
        },
        "id": "8zZgNcJ-wqSl",
        "outputId": "5b40ebfc-4377-4419-c923-983045a9a54a"
      },
      "execution_count": null,
      "outputs": [
        {
          "output_type": "stream",
          "name": "stdout",
          "text": [
            "Enter the number2\n",
            "Enter another numbera\n",
            "Division not possible\n",
            "thanks a lot!!\n"
          ]
        }
      ]
    },
    {
      "cell_type": "code",
      "source": [
        "#Example 6: Usage of except: this is a default block\n",
        "\n",
        "try:\n",
        "\ta=int(input(\"Enter the number\"))    #These 3 lines might cause an exception\n",
        "\tb=int(input(\"Enter another number\"))\n",
        "  #Once the exception thrown in try block, below statements in try block are not executed\n",
        "\tc=a/b\n",
        "except ZeroDivisionError:\n",
        "\tprint(\"Division not possible\")\n",
        "except:\t\t# called catch-all exception clause. cannot appear before any named exception\n",
        "#All exceptions are handled here. Default except block. Should always be at the end. If this is the only except block , all exceptions are handled.\n",
        "#If many other except clauses there and this is the first, then it is a syntax error\n",
        "\tprint(\"value cannot be string\")\n",
        "else:\n",
        "\tprint(c)\n",
        "finally:\n",
        "\tprint(\"thanks a lot!!\")"
      ],
      "metadata": {
        "colab": {
          "base_uri": "https://localhost:8080/"
        },
        "id": "Af3tOuRLw4Kl",
        "outputId": "842b24f3-a968-4402-bb7e-c8b802f69715"
      },
      "execution_count": null,
      "outputs": [
        {
          "output_type": "stream",
          "name": "stdout",
          "text": [
            "Enter the numbera\n",
            "value cannot be string\n",
            "thanks a lot!!\n"
          ]
        }
      ]
    },
    {
      "cell_type": "code",
      "source": [
        "#Example 7: use of raise: to forcefully raise an error\n",
        "try:\n",
        "  a = int(input(\"enter the number=\"))\n",
        "  b = int(input(\"enter one more=\"))\n",
        "  if b==0:\n",
        "    raise NameError         #Same as NameError()\n",
        "  else:\n",
        "    c = a/b\n",
        "    print(\"in try\")\n",
        "except Exception as e:\n",
        "  print(e.__class__.__name__)           #if you dont know what error to print/to know what error it prints\n",
        "  #weprint(e)\n",
        "else:\n",
        "  print(\"in else\")\n",
        "finally:\n",
        "\tprint(\"execution ended\")"
      ],
      "metadata": {
        "colab": {
          "base_uri": "https://localhost:8080/"
        },
        "id": "KWF_kgkkxfjP",
        "outputId": "cd1f0520-1024-4905-8b1d-ff7f4ed97b77"
      },
      "execution_count": 13,
      "outputs": [
        {
          "output_type": "stream",
          "name": "stdout",
          "text": [
            "enter the number=1\n",
            "enter one more=0\n",
            "NameError\n",
            "execution ended\n"
          ]
        }
      ]
    },
    {
      "cell_type": "code",
      "source": [
        "#example 7: continued\n",
        "try:\n",
        "  a = int(input(\"enter the number=\"))\n",
        "  b = int(input(\"enter one more=\"))\n",
        "  if b==0:\n",
        "    raise NameError(\"check this\")#Same as NameError()\n",
        "  else:\n",
        "    c = a/b\n",
        "    print(\"in try\")\n",
        "except Exception as e:\n",
        "  print(e.__class__.__name__)\n",
        "  print(e)\n",
        "else:\n",
        "\tprint(\"in else\")\n",
        "finally:\n",
        "\tprint(\"execution ended\")"
      ],
      "metadata": {
        "colab": {
          "base_uri": "https://localhost:8080/"
        },
        "id": "seYoLEqvyqaA",
        "outputId": "6a700c2d-c854-4d48-f130-9899113151f8"
      },
      "execution_count": 14,
      "outputs": [
        {
          "output_type": "stream",
          "name": "stdout",
          "text": [
            "enter the number=1\n",
            "enter one more=0\n",
            "NameError\n",
            "check this\n",
            "execution ended\n"
          ]
        }
      ]
    },
    {
      "cell_type": "code",
      "source": [
        "#example 8: order  of except execution\n",
        "try:\n",
        "   j=2/0\n",
        "except Exception as e: #this except clause executed. Because this is the generalized class\n",
        "  print(\"in exception:\",e)\n",
        "except ZeroDivisionError as z:\n",
        "  print(\"in zerodivisionexception:\",z)"
      ],
      "metadata": {
        "colab": {
          "base_uri": "https://localhost:8080/"
        },
        "id": "02QJ9ocBzpCy",
        "outputId": "cc8ff39c-5b03-4a78-fd11-7771ee6fd654"
      },
      "execution_count": null,
      "outputs": [
        {
          "output_type": "stream",
          "name": "stdout",
          "text": [
            "in exception division by zero\n"
          ]
        }
      ]
    },
    {
      "cell_type": "code",
      "source": [
        "#example 8: order  of except execution continued\n",
        "try:\n",
        "   j=2/0\n",
        "except Exception as e:\n",
        "  print(\"in exception:\",e)\t\t#this works. First caught except block\n",
        "except:\n",
        "\tprint(\"in default \")"
      ],
      "metadata": {
        "colab": {
          "base_uri": "https://localhost:8080/"
        },
        "id": "3Y8ACGU00GU-",
        "outputId": "812aec82-05fb-4974-ff66-a05231d1f194"
      },
      "execution_count": null,
      "outputs": [
        {
          "output_type": "stream",
          "name": "stdout",
          "text": [
            "in exception: division by zero\n"
          ]
        }
      ]
    },
    {
      "cell_type": "code",
      "source": [
        "#example 8: order  of except execution continued\n",
        "try:\n",
        "   j=2/0\n",
        "except BaseException as e:\t\t#exception thrown is first caught here, but if you change the order, then \"Exception block is executed 1st\"\n",
        "  print(\"in baseexception:\",e)\n",
        "except Exception as a :\n",
        "\tprint(\"in exception:\",a)\n"
      ],
      "metadata": {
        "colab": {
          "base_uri": "https://localhost:8080/"
        },
        "id": "J0ghsg6r0SAq",
        "outputId": "95de7535-3bd3-4fbc-cbf2-7c10dbdcb248"
      },
      "execution_count": 15,
      "outputs": [
        {
          "output_type": "stream",
          "name": "stdout",
          "text": [
            "in baseexception: division by zero\n"
          ]
        }
      ]
    },
    {
      "cell_type": "code",
      "source": [
        "#example 8: order  of except execution continued\n",
        "try:\n",
        "   j=2/0\n",
        "\n",
        "except Exception as a :         #exception thrown is first caught here, but if you change the order, then \"BaseException block is executed 1st\"\n",
        "\tprint(\"in exception:\",a)\n",
        "except BaseException as e:\n",
        "  print(\"in baseexception:\",e)\n"
      ],
      "metadata": {
        "colab": {
          "base_uri": "https://localhost:8080/"
        },
        "id": "HJIzZ5010o9V",
        "outputId": "362ff359-c71b-49c7-f3c9-7a3bf0b96e34"
      },
      "execution_count": null,
      "outputs": [
        {
          "output_type": "stream",
          "name": "stdout",
          "text": [
            "in exception: division by zero\n"
          ]
        }
      ]
    },
    {
      "cell_type": "code",
      "source": [
        "#example 09: use of args inexception\n",
        "try:\n",
        "   j=2/0\n",
        "except Exception as e:\t\t#this works\n",
        "  print(\"in exception:\",e.args)\t\t#Outputs in the form of a tuple\n",
        "except:\n",
        "\tprint(\"in default \")"
      ],
      "metadata": {
        "colab": {
          "base_uri": "https://localhost:8080/"
        },
        "id": "-5Ni7VBy032I",
        "outputId": "e0bb4be7-ac42-464a-f43f-84b32c7367c4"
      },
      "execution_count": null,
      "outputs": [
        {
          "output_type": "stream",
          "name": "stdout",
          "text": [
            "in exception: ('division by zero',)\n"
          ]
        }
      ]
    },
    {
      "cell_type": "code",
      "source": [
        "#to find out the type of exception\n",
        "import math\n",
        "\n",
        "try:\n",
        "\tnum=int(input(\"enter the num\"))       #give -ve number to see the exception\n",
        "\tsq=math.sqrt(num)\n",
        "except Exception as e:\n",
        "\tprint(\"Exception is of\",e.__class__.__name__)\n",
        "else:\n",
        "\tprint(sq)"
      ],
      "metadata": {
        "id": "ni33_HPp1g2i"
      },
      "execution_count": null,
      "outputs": []
    },
    {
      "cell_type": "code",
      "source": [
        "#Example 10: use of user-defined statements in raise\n",
        "try:\n",
        "  raise  Exception(\"test\",\"check\")\n",
        "#forcefully raise exception here\n",
        "except Exception as e:\n",
        "  print(e)\n",
        "  print(e.args)\t\t#whatever arguments passed during the construction\n",
        "  #of an object, are in the form of tuple\n",
        "  print(type(e))\n",
        "  x,y=e.args\n",
        "  print(x,y)"
      ],
      "metadata": {
        "colab": {
          "base_uri": "https://localhost:8080/"
        },
        "id": "nxLWS6722C0Z",
        "outputId": "75ee6671-154d-4a6f-9775-6bb407862317"
      },
      "execution_count": 19,
      "outputs": [
        {
          "output_type": "stream",
          "name": "stdout",
          "text": [
            "('test', 'check')\n",
            "('test', 'check')\n",
            "<class 'Exception'>\n",
            "test check\n"
          ]
        }
      ]
    },
    {
      "cell_type": "code",
      "source": [
        "#Example 11: writing an exception class\n",
        "class MyException(Exception):\t\t#User defined exception must derive from Exception or BaseException\n",
        "\tdef __init__(self,msg):\n",
        "\t\tself.msg=msg\n",
        "\t#def __str__(self):\n",
        "\t  #return \"Hello, b is really 3\"\n",
        "\n",
        "a=3\n",
        "b=int(input(\"enter the number\"))\n",
        "try:\n",
        "\tif(b==3):\n",
        "\t\traise MyException(\"b is 3\")\t\t#__init__() called.\n",
        "except MyException as m:\n",
        "\tprint(m)\t\t\t#__str__() is called implicitly. So the value stored in instance variable is printed. uncomment above __str__() definition and observe the output\n",
        "else:\n",
        "\tprint(a/b)"
      ],
      "metadata": {
        "colab": {
          "base_uri": "https://localhost:8080/"
        },
        "id": "i429D57l30JJ",
        "outputId": "06961d43-14b9-4f70-83e2-119675627545"
      },
      "execution_count": null,
      "outputs": [
        {
          "output_type": "stream",
          "name": "stdout",
          "text": [
            "enter the number3\n",
            "b is 3\n"
          ]
        }
      ]
    },
    {
      "cell_type": "code",
      "execution_count": null,
      "metadata": {
        "colab": {
          "base_uri": "https://localhost:8080/"
        },
        "id": "FlrCd1WVp0wE",
        "outputId": "a60e3d4d-509b-4454-e239-d899ed71ae50"
      },
      "outputs": [
        {
          "output_type": "stream",
          "name": "stdout",
          "text": [
            "clearing\n",
            "B\n",
            "C\n",
            "D\n",
            "C\n"
          ]
        }
      ],
      "source": [
        "#Example 12: exception works differently w.r.t inheritence in classes\n",
        "class B(Exception):\n",
        "  pass\n",
        "\n",
        "class C(B):\n",
        "  pass\n",
        "\n",
        "class D(C):\n",
        "  pass\n",
        "\n",
        "class E(D):             # jsut class E: would give TypeError: exceptions must derive from BaseException\n",
        "  print(\"clearing\")\n",
        "\n",
        "for cls in [B, C, D,E]:\n",
        "  try:\n",
        "    raise cls()\n",
        "  except D:                     #remove this asnd see the result\n",
        "    print(\"D\")\n",
        "  except C:\n",
        "    print(\"C\")\n",
        "  except B:\n",
        "    print(\"B\")"
      ]
    },
    {
      "cell_type": "code",
      "source": [
        "#Example 13: exception works differently w.r.t inheritence in classes\n",
        "class B(Exception):\n",
        "  pass\n",
        "\n",
        "class C(B):\n",
        "  pass\n",
        "\n",
        "class D(C):\n",
        "  pass\n",
        "\n",
        "for cls in [B, C, D]:\n",
        "  try:\n",
        "    raise cls()\n",
        "  except B:\n",
        "    print(\"B\")\n",
        "  except C:\n",
        "    print(\"C\")\n",
        "  except D:\n",
        "    print(\"D\")"
      ],
      "metadata": {
        "colab": {
          "base_uri": "https://localhost:8080/"
        },
        "id": "Pkh0qHY1scjk",
        "outputId": "c144599e-bab8-4a0c-ad70-dae20a3c09d9"
      },
      "execution_count": null,
      "outputs": [
        {
          "output_type": "stream",
          "name": "stdout",
          "text": [
            "B\n",
            "B\n",
            "B\n"
          ]
        }
      ]
    }
  ]
}