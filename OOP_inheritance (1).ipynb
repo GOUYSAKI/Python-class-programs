{
  "nbformat": 4,
  "nbformat_minor": 0,
  "metadata": {
    "colab": {
      "provenance": []
    },
    "kernelspec": {
      "name": "python3",
      "display_name": "Python 3"
    },
    "language_info": {
      "name": "python"
    }
  },
  "cells": [
    {
      "cell_type": "markdown",
      "source": [
        "* Inheritance: Obtaining or acquiring the properties of another class\n",
        "* Deriving the new Object from a Parent object\n",
        "* New object is called derived object/subclass/child class\n",
        "* Parent object is called as parent class/Super class"
      ],
      "metadata": {
        "id": "tSuBBPfZ2B7r"
      }
    },
    {
      "cell_type": "markdown",
      "source": [
        "Types of Inheritance\n",
        "\n",
        "\t1. Single level inheritance\n",
        "\t\tSub classes inherit the features of one super class.\n",
        "\t\tA------->B\n",
        "\n",
        "\t2. Multi Level inheritance\n",
        "\t\tA class is inherited from another class which is in turn inherited from another class and so on. This can be extended to any number of levels\n",
        "\t\tc-------->B-------->A\n",
        "\n",
        "\t3. Multiple inheritance\n",
        "\t\tA class can have more than one super class and inherit the features from all parent classes\n",
        "\t\tB----------->A1\n",
        "\t\t|\n",
        "\t\t|\n",
        "\t\t|\n",
        "\t\t> A2\n",
        "\t4.Hierarchical inheritance\n",
        "\t\tOne class serves as super class for more than one sub classes\n",
        "\t\tC--------->A<------D  \n",
        "\n",
        "\t5. Hybrid inheritance\n",
        "\t\tA mix of two or more above types of inheritance. Also known as Diamond shaped inheritance\n"
      ],
      "metadata": {
        "id": "x_XXYczE2R1e"
      }
    },
    {
      "cell_type": "markdown",
      "source": [
        "* Inheritance indicates that one class gets most or all of its features from a parent class. When this kind of specialization occurs, there are three ways that parent and child can interact.\n",
        "\n",
        "\t1. Action of the child imply an action of the parent\n",
        "\t2. Action of the child override the action of the parent\n",
        "\t3. Action of the child alter the action of the parent"
      ],
      "metadata": {
        "id": "qiDeAAe-3D7U"
      }
    },
    {
      "cell_type": "code",
      "source": [
        "class Parent:\n",
        "  def classroom(self):\n",
        "    print(\"inside classroom\")\n",
        "\n",
        "class Child(Parent):\n",
        "  def disp(self):\n",
        "    #Parent.classroom(self)\n",
        "    print(\"inside displa function of child class\")\n",
        "    self.classroom()\n",
        "    return \"success\"\n",
        "\n",
        "c=Child()\n",
        "print(c.disp())"
      ],
      "metadata": {
        "colab": {
          "base_uri": "https://localhost:8080/"
        },
        "id": "H58c_Oj2fXO6",
        "outputId": "ad597459-c1ad-4e57-904c-93fecb4c2ef1"
      },
      "execution_count": null,
      "outputs": [
        {
          "output_type": "stream",
          "name": "stdout",
          "text": [
            "inside displa function of child class\n",
            "inside classroom\n",
            "success\n"
          ]
        }
      ]
    },
    {
      "cell_type": "markdown",
      "source": [
        "#1. Action of the child imply an action of the parent\n"
      ],
      "metadata": {
        "id": "3Aa_aT-w3WxX"
      }
    },
    {
      "cell_type": "code",
      "execution_count": null,
      "metadata": {
        "colab": {
          "base_uri": "https://localhost:8080/"
        },
        "id": "sf0M6W_117s2",
        "outputId": "05305e61-7852-4f50-cf4f-eada81803108"
      },
      "outputs": [
        {
          "output_type": "stream",
          "name": "stdout",
          "text": [
            "inside parent class\n"
          ]
        }
      ],
      "source": [
        "class Parent:\n",
        "  def disp(self):\n",
        "    print(\"inside parent class\")\n",
        "\n",
        "class child(Parent):\n",
        "\tpass\n",
        "\n",
        "\n",
        "c=child()\n",
        "c.disp()"
      ]
    },
    {
      "cell_type": "code",
      "source": [
        "class Parent:\n",
        "  def disp(self):\n",
        "    print(\"inside parent class\")\n",
        "  @staticmethod\n",
        "  def canteen():\n",
        "    print(\"inside canteen\")\n",
        "\n",
        "class child(Parent):\n",
        "  def __init__(self):\n",
        "    self.disp()       #Parent.disp(self)    explain encapsulation for this line--interaction only through objects\n",
        "    self.canteen()      #Parent.canteen()\n",
        "    Parent.disp(self)        #explain encapsulation for this line--interaction only through objects\n",
        "\n",
        "c=child()\n",
        "#c.disp()\n",
        "#c.canteen()"
      ],
      "metadata": {
        "colab": {
          "base_uri": "https://localhost:8080/"
        },
        "id": "dzHIye1xJgox",
        "outputId": "56eccbd2-85d9-4e58-a136-4e03ff8a12dc"
      },
      "execution_count": null,
      "outputs": [
        {
          "output_type": "stream",
          "name": "stdout",
          "text": [
            "inside parent class\n",
            "inside canteen\n"
          ]
        }
      ]
    },
    {
      "cell_type": "markdown",
      "source": [
        "#2. Action of the child override the action of the parent\n"
      ],
      "metadata": {
        "id": "BgQWREpF4N05"
      }
    },
    {
      "cell_type": "code",
      "source": [
        "class Parent:\n",
        "\tdef disp(self):\n",
        "\t\tprint(\"inside parent class\")\n",
        "\n",
        "class Child(Parent):\n",
        "\tdef disp(self):\n",
        "\t\tprint(\"inside child class\")\n",
        "p=Parent()\n",
        "p.disp()\n",
        "c=Child()\n",
        "c.disp()"
      ],
      "metadata": {
        "colab": {
          "base_uri": "https://localhost:8080/"
        },
        "id": "mm-wqCWA4PsY",
        "outputId": "ddb36e1b-dd40-4c32-9c87-1631df53aa8e"
      },
      "execution_count": null,
      "outputs": [
        {
          "output_type": "stream",
          "name": "stdout",
          "text": [
            "inside parent class\n",
            "inside child class\n"
          ]
        }
      ]
    },
    {
      "cell_type": "markdown",
      "source": [
        "#3. Action of the child alter the action of the parent\n"
      ],
      "metadata": {
        "id": "MA1WTkE34yUz"
      }
    },
    {
      "cell_type": "code",
      "source": [
        "class Parent:\n",
        "\tdef disp(self):\n",
        "\t\tprint(\"inside parent class\")\n",
        "\n",
        "class Child(Parent):\n",
        "  def disp(self):\n",
        "    #super().disp()\n",
        "    #Parent.disp(self)           #self.disp() throws for infinite times of calling child's class function disp(self)\n",
        "    print(\"hello child\")\n",
        "    self.disp()\n",
        "    print(\"inside child class\")\n",
        "#main code-----------------------\n",
        "c=Child()\n",
        "c.disp()"
      ],
      "metadata": {
        "id": "cLsoiDud40Hi",
        "colab": {
          "base_uri": "https://localhost:8080/",
          "height": 1000
        },
        "outputId": "5c7b5cac-244b-431e-f01e-15b280fb4189"
      },
      "execution_count": null,
      "outputs": [
        {
          "output_type": "stream",
          "name": "stdout",
          "text": [
            "hello child\n",
            "hello child\n",
            "hello child\n",
            "hello child\n",
            "hello child\n",
            "hello child\n",
            "hello child\n",
            "hello child\n",
            "hello child\n",
            "hello child\n",
            "hello child\n",
            "hello child\n",
            "hello child\n",
            "hello child\n",
            "hello child\n",
            "hello child\n",
            "hello child\n",
            "hello child\n",
            "hello child\n",
            "hello child\n",
            "hello child\n",
            "hello child\n",
            "hello child\n",
            "hello child\n",
            "hello child\n",
            "hello child\n",
            "hello child\n",
            "hello child\n",
            "hello child\n",
            "hello child\n",
            "hello child\n",
            "hello child\n",
            "hello child\n",
            "hello child\n",
            "hello child\n",
            "hello child\n",
            "hello child\n",
            "hello child\n",
            "hello child\n",
            "hello child\n",
            "hello child\n",
            "hello child\n",
            "hello child\n",
            "hello child\n",
            "hello child\n",
            "hello child\n",
            "hello child\n",
            "hello child\n",
            "hello child\n",
            "hello child\n",
            "hello child\n",
            "hello child\n",
            "hello child\n",
            "hello child\n",
            "hello child\n",
            "hello child\n",
            "hello child\n",
            "hello child\n",
            "hello child\n",
            "hello child\n",
            "hello child\n",
            "hello child\n",
            "hello child\n",
            "hello child\n",
            "hello child\n",
            "hello child\n",
            "hello child\n",
            "hello child\n",
            "hello child\n",
            "hello child\n",
            "hello child\n",
            "hello child\n",
            "hello child\n",
            "hello child\n",
            "hello child\n",
            "hello child\n",
            "hello child\n",
            "hello child\n",
            "hello child\n",
            "hello child\n",
            "hello child\n",
            "hello child\n",
            "hello child\n",
            "hello child\n",
            "hello child\n",
            "hello child\n",
            "hello child\n",
            "hello child\n",
            "hello child\n",
            "hello child\n",
            "hello child\n",
            "hello child\n",
            "hello child\n",
            "hello child\n",
            "hello child\n",
            "hello child\n",
            "hello child\n",
            "hello child\n",
            "hello child\n",
            "hello child\n",
            "hello child\n",
            "hello child\n",
            "hello child\n",
            "hello child\n",
            "hello child\n",
            "hello child\n",
            "hello child\n",
            "hello child\n",
            "hello child\n",
            "hello child\n",
            "hello child\n",
            "hello child\n",
            "hello child\n",
            "hello child\n",
            "hello child\n",
            "hello child\n",
            "hello child\n",
            "hello child\n",
            "hello child\n",
            "hello child\n",
            "hello child\n",
            "hello child\n",
            "hello child\n",
            "hello child\n",
            "hello child\n",
            "hello child\n",
            "hello child\n",
            "hello child\n",
            "hello child\n",
            "hello child\n",
            "hello child\n",
            "hello child\n",
            "hello child\n",
            "hello child\n",
            "hello child\n",
            "hello child\n",
            "hello child\n",
            "hello child\n",
            "hello child\n",
            "hello child\n",
            "hello child\n",
            "hello child\n",
            "hello child\n",
            "hello child\n",
            "hello child\n",
            "hello child\n",
            "hello child\n",
            "hello child\n",
            "hello child\n",
            "hello child\n",
            "hello child\n",
            "hello child\n",
            "hello child\n",
            "hello child\n",
            "hello child\n",
            "hello child\n",
            "hello child\n",
            "hello child\n",
            "hello child\n",
            "hello child\n",
            "hello child\n",
            "hello child\n",
            "hello child\n",
            "hello child\n",
            "hello child\n",
            "hello child\n",
            "hello child\n",
            "hello child\n",
            "hello child\n",
            "hello child\n",
            "hello child\n",
            "hello child\n",
            "hello child\n",
            "hello child\n",
            "hello child\n",
            "hello child\n",
            "hello child\n",
            "hello child\n",
            "hello child\n",
            "hello child\n",
            "hello child\n",
            "hello child\n",
            "hello child\n",
            "hello child\n",
            "hello child\n",
            "hello child\n",
            "hello child\n",
            "hello child\n",
            "hello child\n",
            "hello child\n",
            "hello child\n",
            "hello child\n",
            "hello child\n",
            "hello child\n",
            "hello child\n",
            "hello child\n",
            "hello child\n",
            "hello child\n",
            "hello child\n",
            "hello child\n",
            "hello child\n",
            "hello child\n",
            "hello child\n",
            "hello child\n",
            "hello child\n",
            "hello child\n",
            "hello child\n",
            "hello child\n",
            "hello child\n",
            "hello child\n",
            "hello child\n",
            "hello child\n",
            "hello child\n",
            "hello child\n",
            "hello child\n",
            "hello child\n",
            "hello child\n",
            "hello child\n",
            "hello child\n",
            "hello child\n",
            "hello child\n",
            "hello child\n",
            "hello child\n",
            "hello child\n",
            "hello child\n",
            "hello child\n",
            "hello child\n",
            "hello child\n",
            "hello child\n",
            "hello child\n",
            "hello child\n",
            "hello child\n",
            "hello child\n",
            "hello child\n",
            "hello child\n",
            "hello child\n",
            "hello child\n",
            "hello child\n",
            "hello child\n",
            "hello child\n",
            "hello child\n",
            "hello child\n",
            "hello child\n",
            "hello child\n",
            "hello child\n",
            "hello child\n",
            "hello child\n",
            "hello child\n",
            "hello child\n",
            "hello child\n",
            "hello child\n",
            "hello child\n",
            "hello child\n",
            "hello child\n",
            "hello child\n",
            "hello child\n",
            "hello child\n",
            "hello child\n",
            "hello child\n",
            "hello child\n",
            "hello child\n",
            "hello child\n",
            "hello child\n",
            "hello child\n",
            "hello child\n",
            "hello child\n",
            "hello child\n",
            "hello child\n",
            "hello child\n",
            "hello child\n",
            "hello child\n",
            "hello child\n",
            "hello child\n",
            "hello child\n",
            "hello child\n",
            "hello child\n",
            "hello child\n",
            "hello child\n",
            "hello child\n",
            "hello child\n",
            "hello child\n",
            "hello child\n",
            "hello child\n",
            "hello child\n",
            "hello child\n",
            "hello child\n",
            "hello child\n",
            "hello child\n",
            "hello child\n",
            "hello child\n",
            "hello child\n",
            "hello child\n",
            "hello child\n",
            "hello child\n",
            "hello child\n",
            "hello child\n",
            "hello child\n",
            "hello child\n",
            "hello child\n",
            "hello child\n",
            "hello child\n",
            "hello child\n",
            "hello child\n",
            "hello child\n",
            "hello child\n",
            "hello child\n",
            "hello child\n",
            "hello child\n",
            "hello child\n",
            "hello child\n",
            "hello child\n",
            "hello child\n",
            "hello child\n",
            "hello child\n",
            "hello child\n",
            "hello child\n",
            "hello child\n",
            "hello child\n",
            "hello child\n",
            "hello child\n",
            "hello child\n",
            "hello child\n",
            "hello child\n",
            "hello child\n",
            "hello child\n",
            "hello child\n",
            "hello child\n",
            "hello child\n",
            "hello child\n",
            "hello child\n",
            "hello child\n",
            "hello child\n",
            "hello child\n",
            "hello child\n",
            "hello child\n",
            "hello child\n",
            "hello child\n",
            "hello child\n",
            "hello child\n",
            "hello child\n",
            "hello child\n",
            "hello child\n",
            "hello child\n",
            "hello child\n",
            "hello child\n",
            "hello child\n",
            "hello child\n",
            "hello child\n",
            "hello child\n",
            "hello child\n",
            "hello child\n",
            "hello child\n",
            "hello child\n",
            "hello child\n",
            "hello child\n",
            "hello child\n",
            "hello child\n",
            "hello child\n",
            "hello child\n",
            "hello child\n",
            "hello child\n",
            "hello child\n",
            "hello child\n",
            "hello child\n",
            "hello child\n",
            "hello child\n",
            "hello child\n",
            "hello child\n",
            "hello child\n",
            "hello child\n",
            "hello child\n",
            "hello child\n",
            "hello child\n",
            "hello child\n",
            "hello child\n",
            "hello child\n",
            "hello child\n",
            "hello child\n",
            "hello child\n",
            "hello child\n",
            "hello child\n",
            "hello child\n",
            "hello child\n",
            "hello child\n",
            "hello child\n",
            "hello child\n",
            "hello child\n",
            "hello child\n",
            "hello child\n",
            "hello child\n",
            "hello child\n",
            "hello child\n",
            "hello child\n",
            "hello child\n",
            "hello child\n",
            "hello child\n",
            "hello child\n",
            "hello child\n",
            "hello child\n",
            "hello child\n",
            "hello child\n",
            "hello child\n",
            "hello child\n",
            "hello child\n",
            "hello child\n",
            "hello child\n",
            "hello child\n",
            "hello child\n",
            "hello child\n",
            "hello child\n",
            "hello child\n",
            "hello child\n",
            "hello child\n",
            "hello child\n",
            "hello child\n",
            "hello child\n",
            "hello child\n",
            "hello child\n",
            "hello child\n",
            "hello child\n",
            "hello child\n",
            "hello child\n",
            "hello child\n",
            "hello child\n",
            "hello child\n",
            "hello child\n",
            "hello child\n",
            "hello child\n",
            "hello child\n",
            "hello child\n",
            "hello child\n",
            "hello child\n",
            "hello child\n",
            "hello child\n",
            "hello child\n",
            "hello child\n",
            "hello child\n",
            "hello child\n",
            "hello child\n",
            "hello child\n",
            "hello child\n",
            "hello child\n",
            "hello child\n",
            "hello child\n",
            "hello child\n",
            "hello child\n",
            "hello child\n",
            "hello child\n",
            "hello child\n",
            "hello child\n",
            "hello child\n",
            "hello child\n",
            "hello child\n",
            "hello child\n",
            "hello child\n",
            "hello child\n",
            "hello child\n",
            "hello child\n",
            "hello child\n",
            "hello child\n",
            "hello child\n",
            "hello child\n",
            "hello child\n",
            "hello child\n",
            "hello child\n",
            "hello child\n",
            "hello child\n",
            "hello child\n",
            "hello child\n",
            "hello child\n",
            "hello child\n",
            "hello child\n",
            "hello child\n",
            "hello child\n",
            "hello child\n",
            "hello child\n",
            "hello child\n",
            "hello child\n",
            "hello child\n",
            "hello child\n",
            "hello child\n",
            "hello child\n",
            "hello child\n",
            "hello child\n",
            "hello child\n",
            "hello child\n",
            "hello child\n",
            "hello child\n",
            "hello child\n",
            "hello child\n",
            "hello child\n",
            "hello child\n",
            "hello child\n",
            "hello child\n",
            "hello child\n",
            "hello child\n",
            "hello child\n",
            "hello child\n",
            "hello child\n",
            "hello child\n",
            "hello child\n",
            "hello child\n",
            "hello child\n",
            "hello child\n",
            "hello child\n",
            "hello child\n",
            "hello child\n",
            "hello child\n",
            "hello child\n",
            "hello child\n",
            "hello child\n",
            "hello child\n",
            "hello child\n",
            "hello child\n",
            "hello child\n",
            "hello child\n",
            "hello child\n",
            "hello child\n",
            "hello child\n",
            "hello child\n",
            "hello child\n",
            "hello child\n",
            "hello child\n",
            "hello child\n",
            "hello child\n",
            "hello child\n",
            "hello child\n",
            "hello child\n",
            "hello child\n",
            "hello child\n",
            "hello child\n",
            "hello child\n",
            "hello child\n",
            "hello child\n",
            "hello child\n",
            "hello child\n",
            "hello child\n",
            "hello child\n",
            "hello child\n",
            "hello child\n",
            "hello child\n",
            "hello child\n",
            "hello child\n",
            "hello child\n",
            "hello child\n",
            "hello child\n",
            "hello child\n",
            "hello child\n",
            "hello child\n",
            "hello child\n",
            "hello child\n",
            "hello child\n",
            "hello child\n",
            "hello child\n",
            "hello child\n",
            "hello child\n",
            "hello child\n",
            "hello child\n",
            "hello child\n",
            "hello child\n",
            "hello child\n",
            "hello child\n",
            "hello child\n",
            "hello child\n",
            "hello child\n",
            "hello child\n",
            "hello child\n",
            "hello child\n",
            "hello child\n",
            "hello child\n",
            "hello child\n",
            "hello child\n",
            "hello child\n",
            "hello child\n",
            "hello child\n",
            "hello child\n",
            "hello child\n",
            "hello child\n",
            "hello child\n",
            "hello child\n",
            "hello child\n",
            "hello child\n",
            "hello child\n",
            "hello child\n",
            "hello child\n",
            "hello child\n",
            "hello child\n",
            "hello child\n",
            "hello child\n",
            "hello child\n",
            "hello child\n",
            "hello child\n",
            "hello child\n",
            "hello child\n",
            "hello child\n",
            "hello child\n",
            "hello child\n",
            "hello child\n",
            "hello child\n",
            "hello child\n",
            "hello child\n",
            "hello child\n",
            "hello child\n",
            "hello child\n",
            "hello child\n",
            "hello child\n",
            "hello child\n",
            "hello child\n",
            "hello child\n",
            "hello child\n",
            "hello child\n",
            "hello child\n",
            "hello child\n",
            "hello child\n",
            "hello child\n",
            "hello child\n",
            "hello child\n",
            "hello child\n",
            "hello child\n",
            "hello child\n",
            "hello child\n",
            "hello child\n",
            "hello child\n",
            "hello child\n",
            "hello child\n",
            "hello child\n",
            "hello child\n",
            "hello child\n",
            "hello child\n",
            "hello child\n",
            "hello child\n",
            "hello child\n",
            "hello child\n",
            "hello child\n",
            "hello child\n",
            "hello child\n",
            "hello child\n",
            "hello child\n",
            "hello child\n",
            "hello child\n",
            "hello child\n",
            "hello child\n",
            "hello child\n",
            "hello child\n",
            "hello child\n",
            "hello child\n",
            "hello child\n",
            "hello child\n",
            "hello child\n",
            "hello child\n",
            "hello child\n",
            "hello child\n",
            "hello child\n",
            "hello child\n",
            "hello child\n",
            "hello child\n",
            "hello child\n",
            "hello child\n",
            "hello child\n",
            "hello child\n",
            "hello child\n",
            "hello child\n",
            "hello child\n",
            "hello child\n",
            "hello child\n",
            "hello child\n",
            "hello child\n",
            "hello child\n",
            "hello child\n",
            "hello child\n",
            "hello child\n",
            "hello child\n",
            "hello child\n",
            "hello child\n",
            "hello child\n",
            "hello child\n",
            "hello child\n",
            "hello child\n",
            "hello child\n",
            "hello child\n",
            "hello child\n",
            "hello child\n",
            "hello child\n",
            "hello child\n",
            "hello child\n",
            "hello child\n",
            "hello child\n",
            "hello child\n",
            "hello child\n",
            "hello child\n",
            "hello child\n",
            "hello child\n",
            "hello child\n",
            "hello child\n",
            "hello child\n",
            "hello child\n",
            "hello child\n",
            "hello child\n",
            "hello child\n",
            "hello child\n",
            "hello child\n",
            "hello child\n",
            "hello child\n",
            "hello child\n",
            "hello child\n",
            "hello child\n",
            "hello child\n",
            "hello child\n",
            "hello child\n",
            "hello child\n",
            "hello child\n",
            "hello child\n",
            "hello child\n",
            "hello child\n",
            "hello child\n",
            "hello child\n",
            "hello child\n",
            "hello child\n",
            "hello child\n",
            "hello child\n",
            "hello child\n",
            "hello child\n",
            "hello child\n",
            "hello child\n",
            "hello child\n",
            "hello child\n",
            "hello child\n",
            "hello child\n",
            "hello child\n",
            "hello child\n",
            "hello child\n",
            "hello child\n",
            "hello child\n",
            "hello child\n",
            "hello child\n",
            "hello child\n",
            "hello child\n",
            "hello child\n",
            "hello child\n",
            "hello child\n",
            "hello child\n",
            "hello child\n",
            "hello child\n",
            "hello child\n",
            "hello child\n",
            "hello child\n",
            "hello child\n",
            "hello child\n",
            "hello child\n",
            "hello child\n",
            "hello child\n",
            "hello child\n",
            "hello child\n",
            "hello child\n",
            "hello child\n",
            "hello child\n",
            "hello child\n",
            "hello child\n",
            "hello child\n",
            "hello child\n",
            "hello child\n",
            "hello child\n",
            "hello child\n",
            "hello child\n",
            "hello child\n",
            "hello child\n",
            "hello child\n",
            "hello child\n",
            "hello child\n",
            "hello child\n",
            "hello child\n",
            "hello child\n",
            "hello child\n",
            "hello child\n",
            "hello child\n",
            "hello child\n",
            "hello child\n",
            "hello child\n",
            "hello child\n",
            "hello child\n",
            "hello child\n",
            "hello child\n",
            "hello child\n",
            "hello child\n",
            "hello child\n",
            "hello child\n",
            "hello child\n",
            "hello child\n",
            "hello child\n",
            "hello child\n",
            "hello child\n",
            "hello child\n",
            "hello child\n",
            "hello child\n",
            "hello child\n",
            "hello child\n",
            "hello child\n",
            "hello child\n",
            "hello child\n",
            "hello child\n",
            "hello child\n",
            "hello child\n",
            "hello child\n",
            "hello child\n",
            "hello child\n",
            "hello child\n",
            "hello child\n",
            "hello child\n",
            "hello child\n",
            "hello child\n",
            "hello child\n",
            "hello child\n",
            "hello child\n",
            "hello child\n",
            "hello child\n",
            "hello child\n",
            "hello child\n",
            "hello child\n",
            "hello child\n",
            "hello child\n",
            "hello child\n",
            "hello child\n",
            "hello child\n",
            "hello child\n",
            "hello child\n",
            "hello child\n",
            "hello child\n",
            "hello child\n",
            "hello child\n",
            "hello child\n",
            "hello child\n",
            "hello child\n",
            "hello child\n",
            "hello child\n",
            "hello child\n",
            "hello child\n",
            "hello child\n",
            "hello child\n",
            "hello child\n",
            "hello child\n",
            "hello child\n",
            "hello child\n",
            "hello child\n",
            "hello child\n",
            "hello child\n",
            "hello child\n",
            "hello child\n",
            "hello child\n",
            "hello child\n",
            "hello child\n",
            "hello child\n",
            "hello child\n",
            "hello child\n",
            "hello child\n",
            "hello child\n",
            "hello child\n",
            "hello child\n",
            "hello child\n",
            "hello child\n",
            "hello child\n",
            "hello child\n",
            "hello child\n",
            "hello child\n",
            "hello child\n",
            "hello child\n",
            "hello child\n",
            "hello child\n",
            "hello child\n",
            "hello child\n",
            "hello child\n",
            "hello child\n",
            "hello child\n",
            "hello child\n",
            "hello child\n",
            "hello child\n",
            "hello child\n",
            "hello child\n",
            "hello child\n",
            "hello child\n",
            "hello child\n",
            "hello child\n",
            "hello child\n",
            "hello child\n",
            "hello child\n",
            "hello child\n",
            "hello child\n",
            "hello child\n",
            "hello child\n",
            "hello child\n",
            "hello child\n",
            "hello child\n",
            "hello child\n",
            "hello child\n",
            "hello child\n",
            "hello child\n",
            "hello child\n",
            "hello child\n",
            "hello child\n",
            "hello child\n",
            "hello child\n",
            "hello child\n",
            "hello child\n",
            "hello child\n",
            "hello child\n",
            "hello child\n",
            "hello child\n",
            "hello child\n",
            "hello child\n",
            "hello child\n",
            "hello child\n",
            "hello child\n",
            "hello child\n",
            "hello child\n",
            "hello child\n",
            "hello child\n",
            "hello child\n",
            "hello child\n",
            "hello child\n",
            "hello child\n",
            "hello child\n",
            "hello child\n",
            "hello child\n",
            "hello child\n",
            "hello child\n",
            "hello child\n",
            "hello child\n",
            "hello child\n",
            "hello child\n",
            "hello child\n",
            "hello child\n",
            "hello child\n",
            "hello child\n",
            "hello child\n",
            "hello child\n",
            "hello child\n",
            "hello child\n",
            "hello child\n",
            "hello child\n",
            "hello child\n",
            "hello child\n",
            "hello child\n",
            "hello child\n",
            "hello child\n",
            "hello child\n",
            "hello child\n",
            "hello child\n",
            "hello child\n",
            "hello child\n",
            "hello child\n",
            "hello child\n",
            "hello child\n",
            "hello child\n",
            "hello child\n",
            "hello child\n"
          ]
        },
        {
          "output_type": "error",
          "ename": "RecursionError",
          "evalue": "ignored",
          "traceback": [
            "\u001b[0;31m---------------------------------------------------------------------------\u001b[0m",
            "\u001b[0;31mRecursionError\u001b[0m                            Traceback (most recent call last)",
            "\u001b[0;32m/usr/lib/python3.10/threading.py\u001b[0m in \u001b[0;36m_wait_for_tstate_lock\u001b[0;34m(self, block, timeout)\u001b[0m\n\u001b[1;32m   1115\u001b[0m         \u001b[0;32mtry\u001b[0m\u001b[0;34m:\u001b[0m\u001b[0;34m\u001b[0m\u001b[0;34m\u001b[0m\u001b[0m\n\u001b[0;32m-> 1116\u001b[0;31m             \u001b[0;32mif\u001b[0m \u001b[0mlock\u001b[0m\u001b[0;34m.\u001b[0m\u001b[0macquire\u001b[0m\u001b[0;34m(\u001b[0m\u001b[0mblock\u001b[0m\u001b[0;34m,\u001b[0m \u001b[0mtimeout\u001b[0m\u001b[0;34m)\u001b[0m\u001b[0;34m:\u001b[0m\u001b[0;34m\u001b[0m\u001b[0;34m\u001b[0m\u001b[0m\n\u001b[0m\u001b[1;32m   1117\u001b[0m                 \u001b[0mlock\u001b[0m\u001b[0;34m.\u001b[0m\u001b[0mrelease\u001b[0m\u001b[0;34m(\u001b[0m\u001b[0;34m)\u001b[0m\u001b[0;34m\u001b[0m\u001b[0;34m\u001b[0m\u001b[0m\n",
            "\u001b[0;31mRecursionError\u001b[0m: maximum recursion depth exceeded while calling a Python object",
            "\nDuring handling of the above exception, another exception occurred:\n",
            "\u001b[0;31mRecursionError\u001b[0m                            Traceback (most recent call last)",
            "\u001b[0;32m<ipython-input-18-7cbf9b516f1a>\u001b[0m in \u001b[0;36m<cell line: 14>\u001b[0;34m()\u001b[0m\n\u001b[1;32m     12\u001b[0m \u001b[0;31m#main code-----------------------\u001b[0m\u001b[0;34m\u001b[0m\u001b[0;34m\u001b[0m\u001b[0m\n\u001b[1;32m     13\u001b[0m \u001b[0mc\u001b[0m\u001b[0;34m=\u001b[0m\u001b[0mChild\u001b[0m\u001b[0;34m(\u001b[0m\u001b[0;34m)\u001b[0m\u001b[0;34m\u001b[0m\u001b[0;34m\u001b[0m\u001b[0m\n\u001b[0;32m---> 14\u001b[0;31m \u001b[0mc\u001b[0m\u001b[0;34m.\u001b[0m\u001b[0mdisp\u001b[0m\u001b[0;34m(\u001b[0m\u001b[0;34m)\u001b[0m\u001b[0;34m\u001b[0m\u001b[0;34m\u001b[0m\u001b[0m\n\u001b[0m",
            "\u001b[0;32m<ipython-input-18-7cbf9b516f1a>\u001b[0m in \u001b[0;36mdisp\u001b[0;34m(self)\u001b[0m\n\u001b[1;32m      8\u001b[0m     \u001b[0;31m#Parent.disp(self)           #self.disp() throws for infinite times of calling child's class function disp(self)\u001b[0m\u001b[0;34m\u001b[0m\u001b[0;34m\u001b[0m\u001b[0m\n\u001b[1;32m      9\u001b[0m     \u001b[0mprint\u001b[0m\u001b[0;34m(\u001b[0m\u001b[0;34m\"hello child\"\u001b[0m\u001b[0;34m)\u001b[0m\u001b[0;34m\u001b[0m\u001b[0;34m\u001b[0m\u001b[0m\n\u001b[0;32m---> 10\u001b[0;31m     \u001b[0mself\u001b[0m\u001b[0;34m.\u001b[0m\u001b[0mdisp\u001b[0m\u001b[0;34m(\u001b[0m\u001b[0;34m)\u001b[0m\u001b[0;34m\u001b[0m\u001b[0;34m\u001b[0m\u001b[0m\n\u001b[0m\u001b[1;32m     11\u001b[0m     \u001b[0mprint\u001b[0m\u001b[0;34m(\u001b[0m\u001b[0;34m\"inside child class\"\u001b[0m\u001b[0;34m)\u001b[0m\u001b[0;34m\u001b[0m\u001b[0;34m\u001b[0m\u001b[0m\n\u001b[1;32m     12\u001b[0m \u001b[0;31m#main code-----------------------\u001b[0m\u001b[0;34m\u001b[0m\u001b[0;34m\u001b[0m\u001b[0m\n",
            "... last 1 frames repeated, from the frame below ...\n",
            "\u001b[0;32m<ipython-input-18-7cbf9b516f1a>\u001b[0m in \u001b[0;36mdisp\u001b[0;34m(self)\u001b[0m\n\u001b[1;32m      8\u001b[0m     \u001b[0;31m#Parent.disp(self)           #self.disp() throws for infinite times of calling child's class function disp(self)\u001b[0m\u001b[0;34m\u001b[0m\u001b[0;34m\u001b[0m\u001b[0m\n\u001b[1;32m      9\u001b[0m     \u001b[0mprint\u001b[0m\u001b[0;34m(\u001b[0m\u001b[0;34m\"hello child\"\u001b[0m\u001b[0;34m)\u001b[0m\u001b[0;34m\u001b[0m\u001b[0;34m\u001b[0m\u001b[0m\n\u001b[0;32m---> 10\u001b[0;31m     \u001b[0mself\u001b[0m\u001b[0;34m.\u001b[0m\u001b[0mdisp\u001b[0m\u001b[0;34m(\u001b[0m\u001b[0;34m)\u001b[0m\u001b[0;34m\u001b[0m\u001b[0;34m\u001b[0m\u001b[0m\n\u001b[0m\u001b[1;32m     11\u001b[0m     \u001b[0mprint\u001b[0m\u001b[0;34m(\u001b[0m\u001b[0;34m\"inside child class\"\u001b[0m\u001b[0;34m)\u001b[0m\u001b[0;34m\u001b[0m\u001b[0;34m\u001b[0m\u001b[0m\n\u001b[1;32m     12\u001b[0m \u001b[0;31m#main code-----------------------\u001b[0m\u001b[0;34m\u001b[0m\u001b[0;34m\u001b[0m\u001b[0m\n",
            "\u001b[0;31mRecursionError\u001b[0m: maximum recursion depth exceeded while calling a Python object"
          ]
        }
      ]
    },
    {
      "cell_type": "markdown",
      "source": [
        "# Usage of super() for single Inheritence"
      ],
      "metadata": {
        "id": "zV_GUdi36ijp"
      }
    },
    {
      "cell_type": "code",
      "source": [
        "class Parent:\n",
        "\tdef disp(self):\n",
        "\t\tprint(\"inside parent class function\")\n",
        "\n",
        "class Child(Parent):\n",
        "\tdef disp(self):\n",
        "\t\tsuper().disp()\t\t#there is only one parent avaialble. So super() will refer to that class and calls disp()\n",
        "\t\tprint(\"inside child class function\")\n",
        "p=Parent()\n",
        "p.disp()\n",
        "c=Child()\n",
        "c.disp()"
      ],
      "metadata": {
        "colab": {
          "base_uri": "https://localhost:8080/"
        },
        "id": "-2y2ERGh6lpQ",
        "outputId": "e51468c1-f570-4146-aec5-5ab019d04cfe"
      },
      "execution_count": null,
      "outputs": [
        {
          "output_type": "stream",
          "name": "stdout",
          "text": [
            "inside parent class function\n",
            "inside parent class function\n",
            "inside child class function\n"
          ]
        }
      ]
    },
    {
      "cell_type": "markdown",
      "source": [
        "# Usage of super() for Multiple Inheritence"
      ],
      "metadata": {
        "id": "46UdYRZc6-Sa"
      }
    },
    {
      "cell_type": "code",
      "source": [
        "class Father:\n",
        "\tdef disp(self):\n",
        "\t\tprint(\"inside Father class function\")\n",
        "\n",
        "class Child(Father):\t\t#Multiple inheritance\n",
        "\tdef child_disp(self):\n",
        "\t\tsuper().disp()\n",
        "#main code---------------\n",
        "c=Child()\n",
        "c.child_disp()"
      ],
      "metadata": {
        "colab": {
          "base_uri": "https://localhost:8080/"
        },
        "id": "r0KR1spXnB3_",
        "outputId": "0550cf37-cf63-4ce8-e7ba-37d3ece55a9a"
      },
      "execution_count": null,
      "outputs": [
        {
          "output_type": "stream",
          "name": "stdout",
          "text": [
            "inside Father class function\n"
          ]
        }
      ]
    },
    {
      "cell_type": "code",
      "source": [
        "class Father:\n",
        "\tdef disp(self):\n",
        "\t\tprint(\"inside Father class function\")\n",
        "class Mother:\n",
        "\tdef disp(self):\n",
        "\t\tprint(\"inside Mother class function\")\n",
        "\n",
        "class Child(Mother,Father):\t\t#Multiple inheritance\n",
        "\t\t\t\t#reverse the order of A and B specified here and observe the output\n",
        "\tdef child_disp(self):\n",
        "\t\tsuper().disp()\t\t#super() supported only in 3.x and above\n",
        "\t\t#super(Child,self).disp()\t#supported in 2.7\n",
        "\t\t#in both the cases, super() refers to the first parent specified in the list of parent classses. Change the order and observe the output\n",
        "\t\tprint(\"inside child class function\")\n",
        "\n",
        "c=Child()\n",
        "c.child_disp()"
      ],
      "metadata": {
        "colab": {
          "base_uri": "https://localhost:8080/"
        },
        "id": "D3gfJicI7DOv",
        "outputId": "aab797db-0f06-4db6-d5a4-250d40359950"
      },
      "execution_count": null,
      "outputs": [
        {
          "output_type": "stream",
          "name": "stdout",
          "text": [
            "inside Mother class function\n",
            "inside child class function\n"
          ]
        }
      ]
    },
    {
      "cell_type": "code",
      "source": [
        "class Pes:\n",
        "  b=\"python\"      #class attribute\n",
        "  def __init__(self,m):\n",
        "    Pes.a=m             #class attribute\n",
        "  def classroom(self):\n",
        "    print(\"inside classroom\")\n",
        "  def lab(self):\n",
        "    print(\"inside lab\")\n",
        "\n",
        "#-----------main code-------------\n",
        "print(\"b value=\",Pes.b)\n",
        "Pes.__init__(Pes,10)\n",
        "print(\"a value=\",Pes.a)\n",
        "Pes.classroom(Pes)"
      ],
      "metadata": {
        "colab": {
          "base_uri": "https://localhost:8080/"
        },
        "id": "dTWNaTFyEWji",
        "outputId": "c0e63857-5c8c-4299-eb2a-a5ee9bdf9c51"
      },
      "execution_count": null,
      "outputs": [
        {
          "output_type": "stream",
          "name": "stdout",
          "text": [
            "b value= python\n",
            "a value= 10\n",
            "inside classroom\n"
          ]
        }
      ]
    },
    {
      "cell_type": "markdown",
      "source": [
        "# calling the __init__() of the parent class inside the child class"
      ],
      "metadata": {
        "id": "UNtCFfb7-KO2"
      }
    },
    {
      "cell_type": "code",
      "source": [
        "class Parent1:\n",
        "\tdef __init__(self,m):\n",
        "\t\tself.a=m            #object(self) attributes not class(Parent) attributes\n",
        "\n",
        "p=Parent1(10)\n",
        "print(\"a value=\",p.a)\n",
        "\n",
        "#child class has one more instance variable specific to it. Rather than again mentioning all, call the super class constructor.\n",
        "#-----------child1 class and object---------------------------------------\n",
        "class Child1(Parent1):\n",
        "  def __init__(self,m,q):\n",
        "   Parent1.__init__(self,m)              #super().__init__(m,n,o,p)\n",
        "   self.e=q\n",
        "   print(self.a,self.e)\n",
        "\n",
        "\n",
        "#print(Parent1.a)       #thros error because a is a obejct attribute, not class attribute\n",
        "c1=Child1(1,2)\n"
      ],
      "metadata": {
        "colab": {
          "base_uri": "https://localhost:8080/"
        },
        "id": "gLgdRcgkKsZ3",
        "outputId": "f1524bc7-3d70-4bc6-86c1-11c451f152b7"
      },
      "execution_count": null,
      "outputs": [
        {
          "output_type": "stream",
          "name": "stdout",
          "text": [
            "a value= 10\n",
            "1 2\n"
          ]
        }
      ]
    },
    {
      "cell_type": "code",
      "source": [
        "class Parent2:\n",
        "  def __init__(self,m,n):\n",
        "    Parent2.a=m            #class(Parent) attributes, and not object(self) attributes\n",
        "    Parent2.b=n\n",
        "\n",
        "#main code--------------\n",
        "Parent2.__init__(Parent2,\"python\",120)\n",
        "print(Parent2.a)\n",
        "print(Parent2.b)"
      ],
      "metadata": {
        "colab": {
          "base_uri": "https://localhost:8080/"
        },
        "id": "p40R7Ry05yb7",
        "outputId": "cce54be0-50a7-4e12-ba5b-28d3dd147b6e"
      },
      "execution_count": null,
      "outputs": [
        {
          "output_type": "stream",
          "name": "stdout",
          "text": [
            "python\n",
            "120\n"
          ]
        }
      ]
    },
    {
      "cell_type": "code",
      "source": [
        "class Parent2:\n",
        "\tdef __init__(self,m,n):\n",
        "\t\tParent2.a=m            #class(Parent) attributes, and not object(self) attributes\n",
        "\t\tParent2.b=n\n",
        "\n",
        "#-----------child2 class and object---------------------------------------\n",
        "class Child2(Parent2):\n",
        "  def __init__(self,m,n,q):\n",
        "   Parent2.__init__(self,m,n)              #super().__init__(m,n,o,p)\n",
        "   self.e=q\n",
        "  def display(self):\n",
        "    print(\"values display through child's instance=\",self.a,self.b,self.e)\n",
        "    print(\"values display through parent name and child's instance=\",Parent2.a,Parent2.b,self.e)\n",
        "\n",
        "#p=Parent2(10,40)        #initializing the Parent attributes (a,b,c,d) with 10,20,30,40 values\n",
        "c2=Child2(1,2,90)         #the  __init__() of Parent is again initialized with a,b,c,d values passed in the  __init__() of child\n",
        "c3=Child2(100,200,900)\n",
        "c2.display()\n",
        "c3.display()\n"
      ],
      "metadata": {
        "colab": {
          "base_uri": "https://localhost:8080/"
        },
        "id": "uH9lojco4oem",
        "outputId": "321b999d-76df-48ee-96f6-db9c6cdfe3d7"
      },
      "execution_count": null,
      "outputs": [
        {
          "output_type": "stream",
          "name": "stdout",
          "text": [
            "values display through child's instance= 100 200 90\n",
            "values display through parent name and child's instance= 100 200 90\n",
            "values display through child's instance= 100 200 900\n",
            "values display through parent name and child's instance= 100 200 900\n"
          ]
        }
      ]
    },
    {
      "cell_type": "code",
      "source": [
        "class Parent2:\n",
        "\tdef __init__(self,m,n,o,p):\n",
        "\t\tParent2.a=m            #class(Parent) attributes, and not object(self) attributes\n",
        "\t\tParent2.b=n\n",
        "\t\tParent2.c=o\n",
        "\t\tParent2.d=p\n",
        "\n",
        "#child class has one more instance variable specific to it. Rather than again mentioning all, call the super class constructor.\n",
        "#-----------child2 class and object---------------------------------------\n",
        "class Child2(Parent2):\n",
        "  def __init__(self,m,n,o,p,q):\n",
        "   Parent2.__init__(self,m,n,o,p)              #super().__init__(m,n,o,p)\n",
        "   self.e=q\n",
        "  def display(self):\n",
        "    print(\"values display through child's instance=\",self.a,\"--\",self.b,\"--\",self.c,\"--\",self.d,\"--\",self.e)\n",
        "    print(\"values display through parent name and child's instance=\",Parent2.a,\"--\",Parent2.b,\"--\",Parent2.c,\"--\",Parent2.d,\"--\",self.e)\n",
        "\n",
        "#p=Parent2(10,20,30,40)        #initializing the Parent attributes (a,b,c,d) with 10,20,30,40 values\n",
        "c2=Child2(1,2,3,4,90)         #the  __init__() of Parent is again initialized with a,b,c,d values passed in the  __init__() of child\n",
        "p=Parent2(10,20,30,40)\n",
        "c2.display()\n"
      ],
      "metadata": {
        "colab": {
          "base_uri": "https://localhost:8080/"
        },
        "id": "SJxMvP3PAEU9",
        "outputId": "6046b5b6-31d6-4f2f-8c5e-c48eea4bdc82"
      },
      "execution_count": null,
      "outputs": [
        {
          "output_type": "stream",
          "name": "stdout",
          "text": [
            "values display through child's instance= 10 -- 20 -- 30 -- 40 -- 90\n",
            "values display through parent name and child's instance= 10 -- 20 -- 30 -- 40 -- 90\n"
          ]
        }
      ]
    },
    {
      "cell_type": "code",
      "source": [
        "class Parent3:\n",
        "\tdef __init__(self,m,n):\n",
        "\t\tParent3.a=m            #class(Parent) attributes, and not object(self) attributes\n",
        "\t\tParent3.b=n\n",
        "\n",
        "#-----------child3 class and object---------------------------------------\n",
        "class Child3(Parent3):\n",
        "  def __init__(self,m,n,q):   #you can choose not to pass m,n,o,p parameters to init\n",
        "   self.e=q\n",
        "  def display(self):\n",
        "    print(self.e)\n",
        "    print(self.a,self.b,self.e)          #throws error, because no initialization done thorugh child's instance to the parent atribute\n",
        "    print(Parent3.a,Parent3.b,self.e)   #throws error because parent's object is not created to instansiate the attributes of parent class\n",
        "\n",
        "p=Parent3(10,20)     #uncomment this line and the previous line to see the other result\n",
        "c3=Child3(1,4,90)\n",
        "c3.display()"
      ],
      "metadata": {
        "colab": {
          "base_uri": "https://localhost:8080/"
        },
        "id": "kjb1aoLzA4UA",
        "outputId": "ac086721-e4d2-49f5-f39a-ad24bb441403"
      },
      "execution_count": null,
      "outputs": [
        {
          "output_type": "stream",
          "name": "stdout",
          "text": [
            "90\n",
            "10 20 90\n",
            "10 20 90\n"
          ]
        }
      ]
    },
    {
      "cell_type": "code",
      "source": [
        "class Parent4:\n",
        "\tdef __init__(self,m,n):\n",
        "\t\tself.a=m\n",
        "\t\tself.b=n\n",
        "#-----------child4 class and object---------------------------------------\n",
        "class Child4(Parent4):\n",
        "  def __init__(self,m,n,q):\n",
        "   Parent4.__init__(self,m,n)              #super().__init__(m,n,o,p)\n",
        "   self.e=q\n",
        "  def display(self):\n",
        "    print(self.a,self.b,self.e)\n",
        "    #print(Parent4.a,Parent4.b,self.e)   #throws error because parent's object is not created to instansiate the attributes of parent class\n",
        "\n",
        "#----main code--------------\n",
        "c4=Child4(1,2,90)\n",
        "p4=Parent4(100,200)\n",
        "#print(p4.a,p4.b)\n",
        "c4.display()"
      ],
      "metadata": {
        "colab": {
          "base_uri": "https://localhost:8080/"
        },
        "id": "O_WqfrdEC4YC",
        "outputId": "47a63149-ecd8-45a3-be9c-6f29b5f58f3f"
      },
      "execution_count": null,
      "outputs": [
        {
          "output_type": "stream",
          "name": "stdout",
          "text": [
            "1 2 90\n"
          ]
        }
      ]
    },
    {
      "cell_type": "code",
      "source": [
        "class Parent5:\n",
        "  a=100            #class(Parent) attributes, and not object(self) attributes\n",
        "  b=200\n",
        "  def __init__(self): #__init__() of parent will not be called by child's instance\n",
        "    Parent5.a=1000            #function attributes, and not object(self) attributes or class attributes\n",
        "    Parent5.b=2000\n",
        "#-----------child5 class and object---------------------------------------\n",
        "class Child5(Parent5):\n",
        "  def __init__(self,q):\n",
        "   self.e=q\n",
        "  def display(self):\n",
        "    print(self.e)\n",
        "    print(self.a,self.b,self.e)\n",
        "    print(Parent5.a,Parent5.b,self.e)\n",
        "\n",
        "#p=Parent5()     #uncomment this line for the previous line to see the other result\n",
        "c3=Child5(90)\n",
        "c3.display()"
      ],
      "metadata": {
        "colab": {
          "base_uri": "https://localhost:8080/"
        },
        "id": "YmUMmiGFFc-N",
        "outputId": "90cc7cdb-5e80-4ef6-bb62-a37ae481a7ed"
      },
      "execution_count": null,
      "outputs": [
        {
          "output_type": "stream",
          "name": "stdout",
          "text": [
            "90\n",
            "100 200 90\n",
            "100 200 90\n"
          ]
        }
      ]
    },
    {
      "cell_type": "code",
      "source": [
        "class Parent6:\n",
        "  a=100            #class(Parent) attributes, and not object(self) attributes\n",
        "  b=200\n",
        "  def __init__(self): #__init__() of parent will not be called by child's instance\n",
        "    a=1000            #functional attributes of the __init__() function. and is neither class attributes, nor instance attributes\n",
        "    b=2000\n",
        "    print(\"inside init, and the values of a,b are=\",a,b)\n",
        "    print(\"inside init, and the values of parent class of a,b,c,d are=\",Parent6.a,Parent6.b,)\n",
        "    #return a,b,c,d      #__inti__() should return None--so don't try to return anything. It throws error\n",
        "\n",
        "p6=Parent6()\n",
        "print(p6.a,p6.b,)"
      ],
      "metadata": {
        "colab": {
          "base_uri": "https://localhost:8080/"
        },
        "id": "3hAq7jwJXL83",
        "outputId": "bf24e51c-7d73-42c8-be67-d201afb5e25c"
      },
      "execution_count": null,
      "outputs": [
        {
          "output_type": "stream",
          "name": "stdout",
          "text": [
            "inside init, and the values of a,b are= 1000 2000\n",
            "inside init, and the values of parent class of a,b,c,d are= 100 200\n",
            "100 200\n"
          ]
        }
      ]
    },
    {
      "cell_type": "code",
      "source": [
        "class parent7:\n",
        "  a=100\n",
        "  def __init__(self,m,n):\n",
        "    self.b=m\n",
        "    self.a=n\n",
        "class child7(parent7):\n",
        "  def __init__(self,m,n,q):\n",
        "    self.e=q\n",
        "    parent7.__init__(self,m,n)\n",
        "  def display(self):\n",
        "    print(self.a,self.b,self.e)\n",
        "\n",
        "c=child7(\"python\",\"programming\",\"lab\")\n",
        "c.display()\n",
        "print(parent7.a)"
      ],
      "metadata": {
        "colab": {
          "base_uri": "https://localhost:8080/"
        },
        "id": "gmIO3906OpA4",
        "outputId": "b16f902a-7506-469c-f6ad-a2fdfb555ef1"
      },
      "execution_count": null,
      "outputs": [
        {
          "output_type": "stream",
          "name": "stdout",
          "text": [
            "programming python lab\n",
            "100\n"
          ]
        }
      ]
    },
    {
      "cell_type": "markdown",
      "source": [
        "# polymorphism\n",
        "* ability to exhibit behaviors of differrent objects using one common variable"
      ],
      "metadata": {
        "id": "-y6Fc-39iuSd"
      }
    },
    {
      "cell_type": "code",
      "source": [
        "#exisiting operators that shows polyorshism. Example: '+' for int,float,string\n",
        "#existing function that shows polymorshism. Example: len() for list,dict,string"
      ],
      "metadata": {
        "id": "XlGP_BqKnl88"
      },
      "execution_count": null,
      "outputs": []
    },
    {
      "cell_type": "code",
      "source": [
        "class K_section:\n",
        "  def about(self):\n",
        "    print(\"k-section belongs to CET-batch\")\n",
        "\n",
        "class O_section:\n",
        "  def about(self):\n",
        "    print(\"O-section belongs to PESSAT-batch\")\n",
        "\n",
        "K=K_section()\n",
        "O=O_section()\n",
        "my_class=[O,K]\n",
        "for i in my_class:\n",
        "  i.about()\n"
      ],
      "metadata": {
        "colab": {
          "base_uri": "https://localhost:8080/"
        },
        "id": "XNzUSkR_jSw_",
        "outputId": "4700af07-0a95-4638-ef1e-a41ceec70715"
      },
      "execution_count": null,
      "outputs": [
        {
          "output_type": "stream",
          "name": "stdout",
          "text": [
            "O-section belongs to PESSAT-batch\n",
            "k-section belongs to CET-batch\n"
          ]
        }
      ]
    },
    {
      "cell_type": "code",
      "source": [
        "class Pes:\n",
        "  def __init__(self,s_name,batch):\n",
        "    self.section_name=s_name\n",
        "    self.section_batch=batch\n",
        "\n",
        "O=Pes('O-section','PESSAT')\n",
        "K=Pes(100,'CET')\n",
        "my_class=[O,K]\n",
        "for i in my_class:\n",
        "  print(i.section_name,i.section_batch)"
      ],
      "metadata": {
        "id": "D7fvAJ5lltJB"
      },
      "execution_count": null,
      "outputs": []
    },
    {
      "cell_type": "code",
      "source": [
        "class Date:\n",
        "\tdef __init__(self, dd, mm, yy):\n",
        "\t\tself.dd = dd\n",
        "\t\tself.mm = mm\n",
        "\t\tself.yy = yy\n",
        "\t\"\"\"def __str__(self):\n",
        "\t\treturn str(self.dd)+\"-\"+str(self.mm)+\"-\"+str(self.yy)     #\"10-12-2023\n",
        "\"\"\"\n",
        "class Student:\n",
        "  def __init__(self, name, srn,addr, dd, mm, yy):\n",
        "                self.name = name      #abc\n",
        "                self.srn = srn        #12\n",
        "                self.address = addr   #jayanagar\n",
        "                self.date = Date(dd, mm, yy)    #date is an attribute of the object self  \"23-11-2017\"\n",
        "                print(type(self.date))\n",
        "s1 = Student(\"abc\",12,\"jayanagar\",23,11,2017)"
      ],
      "metadata": {
        "colab": {
          "base_uri": "https://localhost:8080/"
        },
        "id": "FMOVfV87kPHb",
        "outputId": "d6d4cc71-723d-43a0-d806-973105886e27"
      },
      "execution_count": null,
      "outputs": [
        {
          "output_type": "stream",
          "name": "stdout",
          "text": [
            "<class '__main__.Date'>\n"
          ]
        }
      ]
    },
    {
      "cell_type": "code",
      "source": [
        "class PESU:\n",
        "  def __init__(self):\n",
        "    PESU.a=100\n",
        "    print(\"inside constructor\")\n",
        "  def __str__(self):\n",
        "    return \"inside string method\"\n",
        "  def __myclass__(self):\n",
        "    print(\"O section\")\n",
        "    print(\"K-section\")\n",
        "#main code\n",
        "p=PESU()\n",
        "#print(p)\n",
        "print(\"type(p)=\",type(p))\n",
        "print(p.a)\n",
        "p.__myclass__()"
      ],
      "metadata": {
        "colab": {
          "base_uri": "https://localhost:8080/"
        },
        "id": "nam2z2YJomHt",
        "outputId": "75776661-4ddf-4ece-a3b6-6735b7394aae"
      },
      "execution_count": null,
      "outputs": [
        {
          "output_type": "stream",
          "name": "stdout",
          "text": [
            "inside constructor\n",
            "type(p)= <class '__main__.PESU'>\n",
            "100\n",
            "O section\n",
            "K-section\n"
          ]
        }
      ]
    },
    {
      "cell_type": "code",
      "source": [
        "class Date:\n",
        "  def __init__(self, dd, mm, yy):\n",
        "    self.dd = dd\n",
        "    self.mm = mm\n",
        "    self.yy = yy\n",
        "  def __str__(self):\n",
        "    return str(self.dd)+\"-\"+str(self.mm)+\"-\"+str(self.yy)\n",
        "# main code-----\n",
        "d=Date(12,12,2023)\n",
        "print(d)"
      ],
      "metadata": {
        "colab": {
          "base_uri": "https://localhost:8080/"
        },
        "id": "Ub4xdVO4VNwl",
        "outputId": "786fc27e-1ed6-49e8-e306-94fcf96c02eb"
      },
      "execution_count": null,
      "outputs": [
        {
          "output_type": "stream",
          "name": "stdout",
          "text": [
            "12-12-2023\n"
          ]
        }
      ]
    },
    {
      "cell_type": "code",
      "source": [
        "#example 7: programming example to demonstrate polymorphism\n",
        "#It also demonstrates how to create an object of one class inside __init__() of other class and not about inheritence\n",
        "class Date:\n",
        "\tdef __init__(self, dd, mm, yy):\n",
        "\t\tself.dd = dd\n",
        "\t\tself.mm = mm\n",
        "\t\tself.yy = yy\n",
        "\tdef __str__(self):\n",
        "\t\treturn str(self.dd)+\"-\"+str(self.mm)+\"-\"+str(self.yy)     #\"10-12-2023\"\n",
        "\n",
        "\tdef addition(self):\n",
        "\t\treturn self.yy+self.mm+self.dd\n",
        "\tdef getmonth(self):\n",
        "                return self.mm\n",
        "\n",
        "#d = Date(4,12,2023)            #Date object creation and printing\n",
        "#print(d)\n",
        "\n",
        "class Student:\n",
        "  def __init__(self, name, srn,addr, dd, mm, yy):\n",
        "                self.name = name      #abc\n",
        "                self.srn = srn        #12\n",
        "                self.address = addr   #jayanagar\n",
        "                self.date = Date(dd, mm, yy)    #date is an attribute of the object self  \"23-11-2017\"\n",
        "  def __str__(self):\n",
        "    return self.name+\" \"+str(self.srn)+\" \"+self.address+\"==>\"+str(self.date)\n",
        "  def addition(self):\n",
        "    return self.date.addition()\n",
        "  def getmonth(self):\n",
        "    return self.date.getmonth()\n",
        "\n",
        "s1 = Student(\"abc\",12,\"jayanagar\",23,11,2017)\n",
        "print(s1)"
      ],
      "metadata": {
        "id": "cFdfK1iSWDhr",
        "colab": {
          "base_uri": "https://localhost:8080/"
        },
        "outputId": "cdbbcb32-5486-4fe0-b4d9-6d8b98c1c8dc"
      },
      "execution_count": null,
      "outputs": [
        {
          "output_type": "stream",
          "name": "stdout",
          "text": [
            "abc 12 jayanagar==>23-11-2017\n"
          ]
        }
      ]
    },
    {
      "cell_type": "markdown",
      "source": [
        "#isinstance(object,class)\n",
        "isinstance() is used to check whether the instance is of specified type or Object. Returns either True or False"
      ],
      "metadata": {
        "id": "ePV4GSHDdGwT"
      }
    },
    {
      "cell_type": "code",
      "source": [
        "class A:\n",
        "\tpass\n",
        "class B:\n",
        "\tpass\n",
        "a1=A()\n",
        "b1=B()\n",
        "print(isinstance(a1,A))\t\t\t#True\n",
        "print(isinstance(b1,A))\t\t\t#False\n"
      ],
      "metadata": {
        "colab": {
          "base_uri": "https://localhost:8080/"
        },
        "id": "ERImRygKdKrZ",
        "outputId": "f38b01af-552d-4a1f-f5ad-7d6327737ce8"
      },
      "execution_count": null,
      "outputs": [
        {
          "output_type": "stream",
          "name": "stdout",
          "text": [
            "True\n",
            "False\n"
          ]
        }
      ]
    },
    {
      "cell_type": "markdown",
      "source": [
        "#issubclass(child_class_name,parent_class_name)\n",
        "It is used to check whether the first argument is a child class or subclass of second argument"
      ],
      "metadata": {
        "id": "-gSfKb8odlwE"
      }
    },
    {
      "cell_type": "code",
      "source": [
        "class A:\n",
        "\tpass\n",
        "class B(A):\t\t#inheritance\n",
        "\tpass\n",
        "a1=A()\n",
        "b1=B()\n",
        "print(type(a1)==A)\t\t\t#True\n",
        "print(type(b1)==A)\t\t\t#False\n",
        "#so use isinstance()\n",
        "print(isinstance(a1,A))\t#True\n",
        "print(isinstance(b1,A))\t#False\n",
        "\n",
        "print(isinstance(B,A))\t#B is a class not an instance\n",
        "#Change first argument to different values and observe the output\n",
        "print(issubclass(B,A))\t\t#True\n",
        "print(isinstance(A,B))\t\t#False"
      ],
      "metadata": {
        "colab": {
          "base_uri": "https://localhost:8080/"
        },
        "id": "u5nDvNpbdieh",
        "outputId": "deaa5b83-1b0e-477f-f6c9-47f972325ceb"
      },
      "execution_count": null,
      "outputs": [
        {
          "output_type": "stream",
          "name": "stdout",
          "text": [
            "True\n",
            "False\n",
            "True\n",
            "True\n",
            "False\n",
            "True\n",
            "False\n"
          ]
        }
      ]
    },
    {
      "cell_type": "markdown",
      "source": [
        "#__bases__\n",
        "To know who is the immediate parent(super class) of the derieved class(child class)\n",
        "\n",
        "    syntax:\n",
        "    classname.__bases__"
      ],
      "metadata": {
        "id": "E5HoOdLXe7Mi"
      }
    },
    {
      "cell_type": "code",
      "source": [
        "class A:\n",
        "\tpass\n",
        "class B(A):\n",
        "\tpass\n",
        "class C(B):\n",
        "\tpass\n",
        "c1=C()\n",
        "b1=B()\n",
        "print(A.__bases__)\n",
        "print(isinstance(c1,A))\t#False\n",
        "print(B.__bases__)\n",
        "\n",
        "print(issubclass(C,A))\t#True\n",
        "print(isinstance(b1,C))\t\t#False\n",
        "print(C.__bases__)"
      ],
      "metadata": {
        "colab": {
          "base_uri": "https://localhost:8080/"
        },
        "id": "7_WxoXWvelfA",
        "outputId": "ef57f49e-d060-4e3e-d508-fb4b7edd2e39"
      },
      "execution_count": null,
      "outputs": [
        {
          "output_type": "stream",
          "name": "stdout",
          "text": [
            "(<class 'object'>,)\n",
            "True\n",
            "(<class '__main__.A'>,)\n",
            "True\n",
            "False\n",
            "(<class '__main__.B'>,)\n"
          ]
        }
      ]
    },
    {
      "cell_type": "markdown",
      "source": [
        "#destructor\n",
        "* Object created first gets deleted first.\n",
        "* But when you run many times, B might be deleted first because of garbage collector in OS. Do not worry much as of now!!"
      ],
      "metadata": {
        "id": "sF5pwJNjfzXX"
      }
    },
    {
      "cell_type": "code",
      "source": [
        "#when there is no inheritence\n",
        "class A:\n",
        "\tdef __init__(self):\n",
        "\t\tprint(\"in construtor\",self.__class__.__name__)\n",
        "\tdef __del__(self):\n",
        "\t\tprint(\"in destructor\",self.__class__)\n",
        "\n",
        "class B:\t\t#No inheritance\n",
        "\tdef __init__(self):\n",
        "\t\tprint(\"in construtor\",self.__class__.__name__)\n",
        "\tdef __del__(self):\n",
        "\t\tprint(\"in destructor\",self.__class__.__name__)\n",
        "\n",
        "a1=A()\t\t#Constructor of A is called\n",
        "b1=B()\t\t#constructor of B is called\n",
        "del a1\n",
        "del b1"
      ],
      "metadata": {
        "colab": {
          "base_uri": "https://localhost:8080/"
        },
        "id": "-UMYAVAff1CA",
        "outputId": "43268c22-27f7-447f-890c-e02796bbbf8f"
      },
      "execution_count": null,
      "outputs": [
        {
          "output_type": "stream",
          "name": "stdout",
          "text": [
            "in construtor A\n",
            "in construtor B\n",
            "in destructor <class '__main__.A'>\n",
            "in destructor B\n"
          ]
        }
      ]
    },
    {
      "cell_type": "code",
      "source": [
        "#order of destruction when there is inheritence\n",
        "class A:\n",
        "\tdef __init__(self):\n",
        "\t\tprint(\"in construtor\",self.__class__.__name__)\n",
        "\tdef __del__(self):\n",
        "\t\tprint(\"in destructor\",self.__class__.__name__)\n",
        "\n",
        "class B(A):\t\t#inheritance\n",
        "\tdef __init__(self):\n",
        "\t\tprint(\"in construtor\",self.__class__.__name__)\n",
        "\tdef __del__(self):\n",
        "\t\tprint(\"in destructor\",self.__class__.__name__)\n",
        "\n",
        "a1=A()\t\t#Constructor of A is called\n",
        "b1=B()\n",
        "del a1\n",
        "del b1"
      ],
      "metadata": {
        "colab": {
          "base_uri": "https://localhost:8080/"
        },
        "id": "O7b0H4XRgXSP",
        "outputId": "2a5bcf12-00a2-4390-82e6-256cb44e69fd"
      },
      "execution_count": null,
      "outputs": [
        {
          "output_type": "stream",
          "name": "stdout",
          "text": [
            "in construtor A\n",
            "in construtor B\n",
            "in destructor A\n",
            "in destructor B\n"
          ]
        }
      ]
    },
    {
      "cell_type": "code",
      "source": [
        "lst1=[int(input(\"enter element\")) for i in range(int(input(\"enter the n value\")))]\n",
        "print(lst1)\n",
        "lst_cnt=set()\n",
        "for i in range(len(lst1)):\n",
        "  lst_cnt.add((lst1[i],lst1.count(lst1[i])))\n",
        "print(lst_cnt)\n",
        "\n",
        "min=(999,999)\n",
        "for i in lst_cnt:\n",
        "  if(i[1]<=min[1] and i[0]<min[0]):\n",
        "    min=i\n",
        "print(min[0])"
      ],
      "metadata": {
        "id": "u_9tjOGestKg"
      },
      "execution_count": null,
      "outputs": []
    }
  ]
}