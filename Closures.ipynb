{
  "nbformat": 4,
  "nbformat_minor": 0,
  "metadata": {
    "colab": {
      "provenance": []
    },
    "kernelspec": {
      "name": "python3",
      "display_name": "Python 3"
    },
    "language_info": {
      "name": "python"
    }
  },
  "cells": [
    {
      "cell_type": "code",
      "source": [
        "# a simple example of writing function definition\n",
        "def f1(n):\n",
        "  print(\"executing f1 function\")\n",
        "  return 1\n",
        "res=f1(5)\n",
        "print(type(res))\n",
        "print(res)"
      ],
      "metadata": {
        "colab": {
          "base_uri": "https://localhost:8080/"
        },
        "id": "rvGwQcXw3KZq",
        "outputId": "fa62ec8c-d37c-4304-e277-02d586cd937c"
      },
      "execution_count": 75,
      "outputs": [
        {
          "output_type": "stream",
          "name": "stdout",
          "text": [
            "executing f1 function\n",
            "<class 'int'>\n",
            "1\n"
          ]
        }
      ]
    },
    {
      "cell_type": "markdown",
      "source": [
        "# Closures"
      ],
      "metadata": {
        "id": "csyqaMR1HqJp"
      }
    },
    {
      "cell_type": "markdown",
      "source": [
        "Closure is a nested function, that allows us to access variables of the outer function even after the outer function is closed.\n"
      ],
      "metadata": {
        "id": "a7R-Sfdd0_cE"
      }
    },
    {
      "cell_type": "code",
      "source": [
        "# a simple example of writing nested functions\n",
        "#example 1:\n",
        "def f1(n):\n",
        "  i=n         #i is a local variable of outer function f1(n)\n",
        "  def f2():\n",
        "    j=100     # j is a local variable of the inner function\n",
        "    k=999     # k is a local variable of the inner function\n",
        "    print(\"inner function j value=\",j)\n",
        "    print(\"outer function i value=\",i)\n",
        "  #end of inner function definition f2()\n",
        "  print(\"outer function i value=\",i)    #statement of the outer function\n",
        "\n",
        "# main code-----------------\n",
        "f1(9)"
      ],
      "metadata": {
        "colab": {
          "base_uri": "https://localhost:8080/"
        },
        "id": "g9ba1Uu-36kn",
        "outputId": "dc75b8cc-10b0-42af-d758-ce392da9b93a"
      },
      "execution_count": 32,
      "outputs": [
        {
          "output_type": "stream",
          "name": "stdout",
          "text": [
            "outer function i value= 9\n"
          ]
        }
      ]
    },
    {
      "cell_type": "code",
      "source": [
        "#example 1: illustration continued\n",
        "def f1(n):\n",
        "  i=n                                     #i is a variable of outer function f1(n)\n",
        "  def f2():\n",
        "    j=100                                 # j is a variable of the inner function\n",
        "    k=999                                 # k is a local variable of the inner function\n",
        "    print(\"outer function i value\",i)\n",
        "    print(\"inner function j value=\",j)\n",
        "    print(\"inner function k value=\",k)\n",
        "  #---end of function definition f2()\n",
        "  f2()                                    #calling/invoking f2() in the outer function\n",
        "  print(\"outer function i value\",i)       #statement of the outer function\n",
        "\n",
        "# main code-----------------\n",
        "f1(9)       #invoking outer function"
      ],
      "metadata": {
        "colab": {
          "base_uri": "https://localhost:8080/"
        },
        "id": "sTld-gRM7EWw",
        "outputId": "65d24014-fc0c-4e8a-cc88-67c538ce8a94"
      },
      "execution_count": 33,
      "outputs": [
        {
          "output_type": "stream",
          "name": "stdout",
          "text": [
            "outer function i value 9\n",
            "inner function j value= 100\n",
            "inner function k value= 999\n",
            "outer function i value 9\n"
          ]
        }
      ]
    },
    {
      "cell_type": "code",
      "source": [
        "#example 1: illustration continued\n",
        "def f1(n):\n",
        "  i=n                                     #i is a variable of outer function f1(n)\n",
        "  def f2():\n",
        "    j=100+i                               # inner function using the local variable of the outer function\n",
        "    k=999\n",
        "    print(\"inner function j value=\",j)\n",
        "    print(\"inner function k value=\",k)\n",
        "  #---end of function definition f2()\n",
        "  f2()                                    #calling/invoking f2() in the outer function\n",
        "  print(\"outer function i value\",i)       #statement of the outer function\n",
        "\n",
        "# main code-----------------\n",
        "f1(9)       #invoking outer function"
      ],
      "metadata": {
        "colab": {
          "base_uri": "https://localhost:8080/"
        },
        "id": "jMiFtw6h8tQ8",
        "outputId": "46755bfd-1a4b-4dab-f7d8-f4b73224b486"
      },
      "execution_count": 29,
      "outputs": [
        {
          "output_type": "stream",
          "name": "stdout",
          "text": [
            "inner function j value= 109\n",
            "inner function k value= 999\n",
            "outer function i value 9\n"
          ]
        }
      ]
    },
    {
      "cell_type": "code",
      "source": [
        "#example 1: illustration continued\n",
        "def f1(n):\n",
        "  i=n                                     #i is a variable of outer function f1(n)\n",
        "  def f2():\n",
        "    j=100\n",
        "    k=999                                 # here all i,j,k are local variables of the inner function\n",
        "    i=7\n",
        "    print(\"inner function i value=\",i)   # inner function's 'i' variable dominates the outer function's 'i' variable\n",
        "    print(\"inner function j value=\",j)\n",
        "    print(\"inner function k value=\",k)\n",
        "  #---end of function definition f2()\n",
        "  f2()                                    #calling/invoking f2() in the outer function\n",
        "  print(\"outer function i value\",i)       #statement of the outer function\n",
        "\n",
        "# main code-----------------\n",
        "f1(9)       #invoking outer function"
      ],
      "metadata": {
        "colab": {
          "base_uri": "https://localhost:8080/"
        },
        "id": "O1CmBufu9rDI",
        "outputId": "08163c8a-4801-40f0-8a60-4bd8144330df"
      },
      "execution_count": 30,
      "outputs": [
        {
          "output_type": "stream",
          "name": "stdout",
          "text": [
            "inner function i value= 7\n",
            "inner function j value= 100\n",
            "inner function k value= 999\n",
            "outer function i value 9\n"
          ]
        }
      ]
    },
    {
      "cell_type": "code",
      "source": [
        "#example 1: illustration continued\n",
        "def f1(n):\n",
        "  i=n                                     #i is a variable of outer function f1(n)\n",
        "  def f2():\n",
        "    j=100\n",
        "    k=999                                 # here all i,j,k are local variables of the inner function\n",
        "    i=j+1000\n",
        "    print(\"inner function i value=\",i)   # inner function's 'i' variable dominates the outer function's 'i' variable\n",
        "    print(\"inner function j value=\",j)\n",
        "    print(\"inner function k value=\",k)\n",
        "  #---end of function definition f2()\n",
        "  f2()                                    #calling/invoking f2() in the outer function\n",
        "  print(\"outer function i value\",i)       #statement of the outer function\n",
        "\n",
        "# main code-----------------\n",
        "f1(9)       #invoking outer function"
      ],
      "metadata": {
        "colab": {
          "base_uri": "https://localhost:8080/"
        },
        "id": "92fTGV3VATLA",
        "outputId": "40252c22-052b-4cca-e76e-571070fe0ffb"
      },
      "execution_count": 36,
      "outputs": [
        {
          "output_type": "stream",
          "name": "stdout",
          "text": [
            "inner function i value= 1100\n",
            "inner function j value= 100\n",
            "inner function k value= 999\n",
            "outer function i value 9\n"
          ]
        }
      ]
    },
    {
      "cell_type": "code",
      "source": [
        "#example 1: illustration continued\n",
        "def f1(n):\n",
        "  i=n                                     #i is a variable of outer function f1(n)\n",
        "  def f2():\n",
        "    j=100\n",
        "    k=999\n",
        "    i=7+i           #throws error saying 'i' referenced before assignment\n",
        "    print(\"inner function i value=\",i)   # inner function's 'i' variable dominates the outer function's 'i' variable\n",
        "    print(\"inner function j value=\",j)\n",
        "    print(\"inner function k value=\",k)\n",
        "  #---end of function definition f2()\n",
        "  f2()                                    #calling/invoking f2() in the outer function\n",
        "  print(\"outer function i value\",i)       #statement of the outer function\n",
        "\n",
        "# main code-----------------\n",
        "f1(9)       #invoking outer function"
      ],
      "metadata": {
        "colab": {
          "base_uri": "https://localhost:8080/",
          "height": 355
        },
        "id": "GCNs_8cN_Y_E",
        "outputId": "de1b0d23-e3ad-48e4-d61a-e8c9a9e3abfc"
      },
      "execution_count": 34,
      "outputs": [
        {
          "output_type": "error",
          "ename": "UnboundLocalError",
          "evalue": "ignored",
          "traceback": [
            "\u001b[0;31m---------------------------------------------------------------------------\u001b[0m",
            "\u001b[0;31mUnboundLocalError\u001b[0m                         Traceback (most recent call last)",
            "\u001b[0;32m<ipython-input-34-77e42bd455b6>\u001b[0m in \u001b[0;36m<cell line: 16>\u001b[0;34m()\u001b[0m\n\u001b[1;32m     14\u001b[0m \u001b[0;34m\u001b[0m\u001b[0m\n\u001b[1;32m     15\u001b[0m \u001b[0;31m# main code-----------------\u001b[0m\u001b[0;34m\u001b[0m\u001b[0;34m\u001b[0m\u001b[0m\n\u001b[0;32m---> 16\u001b[0;31m \u001b[0mf1\u001b[0m\u001b[0;34m(\u001b[0m\u001b[0;36m9\u001b[0m\u001b[0;34m)\u001b[0m       \u001b[0;31m#invoking outer function\u001b[0m\u001b[0;34m\u001b[0m\u001b[0;34m\u001b[0m\u001b[0m\n\u001b[0m",
            "\u001b[0;32m<ipython-input-34-77e42bd455b6>\u001b[0m in \u001b[0;36mf1\u001b[0;34m(n)\u001b[0m\n\u001b[1;32m     10\u001b[0m     \u001b[0mprint\u001b[0m\u001b[0;34m(\u001b[0m\u001b[0;34m\"inner function k value=\"\u001b[0m\u001b[0;34m,\u001b[0m\u001b[0mk\u001b[0m\u001b[0;34m)\u001b[0m\u001b[0;34m\u001b[0m\u001b[0;34m\u001b[0m\u001b[0m\n\u001b[1;32m     11\u001b[0m   \u001b[0;31m#---end of function definition f2()\u001b[0m\u001b[0;34m\u001b[0m\u001b[0;34m\u001b[0m\u001b[0m\n\u001b[0;32m---> 12\u001b[0;31m   \u001b[0mf2\u001b[0m\u001b[0;34m(\u001b[0m\u001b[0;34m)\u001b[0m                                    \u001b[0;31m#calling/invoking f2() in the outer function\u001b[0m\u001b[0;34m\u001b[0m\u001b[0;34m\u001b[0m\u001b[0m\n\u001b[0m\u001b[1;32m     13\u001b[0m   \u001b[0mprint\u001b[0m\u001b[0;34m(\u001b[0m\u001b[0;34m\"outer function i value\"\u001b[0m\u001b[0;34m,\u001b[0m\u001b[0mi\u001b[0m\u001b[0;34m)\u001b[0m       \u001b[0;31m#statement of the outer function\u001b[0m\u001b[0;34m\u001b[0m\u001b[0;34m\u001b[0m\u001b[0m\n\u001b[1;32m     14\u001b[0m \u001b[0;34m\u001b[0m\u001b[0m\n",
            "\u001b[0;32m<ipython-input-34-77e42bd455b6>\u001b[0m in \u001b[0;36mf2\u001b[0;34m()\u001b[0m\n\u001b[1;32m      5\u001b[0m     \u001b[0mj\u001b[0m\u001b[0;34m=\u001b[0m\u001b[0;36m100\u001b[0m\u001b[0;34m\u001b[0m\u001b[0;34m\u001b[0m\u001b[0m\n\u001b[1;32m      6\u001b[0m     \u001b[0mk\u001b[0m\u001b[0;34m=\u001b[0m\u001b[0;36m999\u001b[0m                                 \u001b[0;31m# here all i,j,k are local variables of the inner function\u001b[0m\u001b[0;34m\u001b[0m\u001b[0;34m\u001b[0m\u001b[0m\n\u001b[0;32m----> 7\u001b[0;31m     \u001b[0mi\u001b[0m\u001b[0;34m=\u001b[0m\u001b[0;36m7\u001b[0m\u001b[0;34m+\u001b[0m\u001b[0mi\u001b[0m\u001b[0;34m\u001b[0m\u001b[0;34m\u001b[0m\u001b[0m\n\u001b[0m\u001b[1;32m      8\u001b[0m     \u001b[0mprint\u001b[0m\u001b[0;34m(\u001b[0m\u001b[0;34m\"inner function i value=\"\u001b[0m\u001b[0;34m,\u001b[0m\u001b[0mi\u001b[0m\u001b[0;34m)\u001b[0m   \u001b[0;31m# inner function's 'i' variable dominates the outer function's 'i' variable\u001b[0m\u001b[0;34m\u001b[0m\u001b[0;34m\u001b[0m\u001b[0m\n\u001b[1;32m      9\u001b[0m     \u001b[0mprint\u001b[0m\u001b[0;34m(\u001b[0m\u001b[0;34m\"inner function j value=\"\u001b[0m\u001b[0;34m,\u001b[0m\u001b[0mj\u001b[0m\u001b[0;34m)\u001b[0m\u001b[0;34m\u001b[0m\u001b[0;34m\u001b[0m\u001b[0m\n",
            "\u001b[0;31mUnboundLocalError\u001b[0m: local variable 'i' referenced before assignment"
          ]
        }
      ]
    },
    {
      "cell_type": "code",
      "source": [
        "#example 1: illustration continued\n",
        "def f1(n):\n",
        "  i=n                                     #i is a variable of outer function f1(n)\n",
        "  def f2():\n",
        "    nonlocal i\n",
        "    j=100\n",
        "    i=j+1000\n",
        "    k=999                                 # here all i,j,k are local variables of the inner function\n",
        "    i=0\n",
        "    print(\"outer/inner function i value ?=\",i)   # inner function's 'i' variable dominates the outer function's 'i' variable\n",
        "    print(\"inner function j value=\",j)\n",
        "    print(\"inner function k value=\",k)\n",
        "  #---end of function definition f2()\n",
        "  f2()                                    #calling/invoking f2() in the outer function\n",
        "  print(\"outer function i value\",i)       #statement of the outer function\n",
        "\n",
        "# main code-----------------\n",
        "f1(9)       #invoking outer function"
      ],
      "metadata": {
        "colab": {
          "base_uri": "https://localhost:8080/"
        },
        "id": "HGhxUHMX_095",
        "outputId": "86ee957e-cd5a-4806-8b50-0bf1d8823dc8"
      },
      "execution_count": 41,
      "outputs": [
        {
          "output_type": "stream",
          "name": "stdout",
          "text": [
            "outer/inner function i value ?= 0\n",
            "inner function j value= 100\n",
            "inner function k value= 999\n",
            "outer function i value 0\n"
          ]
        }
      ]
    },
    {
      "cell_type": "code",
      "source": [
        "#example 1: illustration continued\n",
        "def f1(n):\n",
        "  i=n                                     #i is a variable of outer function f1(n)\n",
        "  def f2():\n",
        "    i=7         #trying to define a local variable 'i' and then specifying the nonlocal statement for variable 'i' of outer function with the same name throws error. so avoid such declarations\n",
        "    nonlocal i\n",
        "    j=100\n",
        "    i=j+1000\n",
        "    k=999                                 # here all i,j,k are local variables of the inner function\n",
        "    print(\"outer function i value=\",i)   # inner function's 'i' variable dominates the outer function's 'i' variable\n",
        "    print(\"inner function j value=\",j)\n",
        "    print(\"inner function k value=\",k)\n",
        "  #---end of function definition f2()\n",
        "  f2()                                    #calling/invoking f2() in the outer function\n",
        "  print(\"outer function i value\",i)       #statement of the outer function\n",
        "\n",
        "# main code-----------------\n",
        "f1(9)       #invoking outer function"
      ],
      "metadata": {
        "colab": {
          "base_uri": "https://localhost:8080/",
          "height": 140
        },
        "id": "ZInYx3WNBis-",
        "outputId": "39929888-6b8c-40cd-a077-79283c5abe2d"
      },
      "execution_count": 40,
      "outputs": [
        {
          "output_type": "error",
          "ename": "SyntaxError",
          "evalue": "ignored",
          "traceback": [
            "\u001b[0;36m  File \u001b[0;32m\"<ipython-input-40-8772d4c8ca17>\"\u001b[0;36m, line \u001b[0;32m6\u001b[0m\n\u001b[0;31m    nonlocal i\u001b[0m\n\u001b[0m    ^\u001b[0m\n\u001b[0;31mSyntaxError\u001b[0m\u001b[0;31m:\u001b[0m name 'i' is assigned to before nonlocal declaration\n"
          ]
        }
      ]
    },
    {
      "cell_type": "code",
      "source": [
        "# example 2: a simple example of nested function invoking inner function through return statement of the outer function\n",
        "def f1(text):\n",
        "  def f2():\n",
        "    print(text)\n",
        "  #end of inner function definition f2()\n",
        "  return f2()       #invoking the innfer function f2() in the return statement of the outer function\n",
        "\n",
        "#main code---------------------------------\n",
        "f1(\"welcome to the closure concept\")"
      ],
      "metadata": {
        "colab": {
          "base_uri": "https://localhost:8080/"
        },
        "id": "_uO8zB_JDR9D",
        "outputId": "fb8fafae-ada0-49ee-9f4d-b38c26fc494e"
      },
      "execution_count": 42,
      "outputs": [
        {
          "output_type": "stream",
          "name": "stdout",
          "text": [
            "welcome to the closure concept\n"
          ]
        }
      ]
    },
    {
      "cell_type": "code",
      "source": [
        "#example 3: outer function specifying the inner function name as a variable in its return statement\n",
        "def f1(text):\n",
        "  def f2():\n",
        "    print(text)\n",
        "  #end of inner function definition f2()\n",
        "  return f2                 #this kind of invoking f2 function is different compare to the previous example\n",
        "print(f1(\"welcome to the closure concept\"))             #prints nothing because the innfer function f2() is not invoked\n",
        "f1(\"welcome to the closure concept\")                    #prints nothing because the inner function f2() is not invoked"
      ],
      "metadata": {
        "colab": {
          "base_uri": "https://localhost:8080/"
        },
        "id": "8n7f7GigDmgJ",
        "outputId": "33c53f53-46b4-478f-9b58-82f8b9537ca1"
      },
      "execution_count": 44,
      "outputs": [
        {
          "output_type": "stream",
          "name": "stdout",
          "text": [
            "<function f1.<locals>.f2 at 0x78522200a8c0>\n"
          ]
        }
      ]
    },
    {
      "cell_type": "code",
      "source": [
        "#example 3: continued\n",
        "#solution to the previous style of code\n",
        "def f1(text):\n",
        "  def f2():\n",
        "    print(text)\n",
        "  #end of inner function definition f2()\n",
        "  return f2                 #this kind of invoking f2 function is different compare to the previous example\n",
        "fork=f1(\"welcome to the closure concept\")\n",
        "print(type(fork))\n",
        "print(type(fork()))         #fork()  --this statement will invoke the inner function 'f2' which is in the return statement of the outer function\n",
        "fork()"
      ],
      "metadata": {
        "colab": {
          "base_uri": "https://localhost:8080/"
        },
        "id": "vd0rjDBWEuXM",
        "outputId": "d5ca0ce0-a1c9-4f0d-cf5d-33da56c6acae"
      },
      "execution_count": 47,
      "outputs": [
        {
          "output_type": "stream",
          "name": "stdout",
          "text": [
            "<class 'function'>\n",
            "welcome to the closure concept\n",
            "<class 'NoneType'>\n",
            "welcome to the closure concept\n"
          ]
        }
      ]
    },
    {
      "cell_type": "code",
      "source": [
        "#example 3: continued\n",
        "#trying to find the id's of the inner function name used in the return statement of f1\n",
        "def f1(text):\n",
        "  def f2():\n",
        "    print(text)\n",
        "  #end of inner function definition f2()\n",
        "  print(\"id of inner function f2=\",id(f2))\n",
        "  return f2                 #this kind of invoking f2 function is different compare to the previous example\n",
        "fork=f1(\"welcome to the closure concept\")\n",
        "print(\"id of the fork=\",id(fork))        #fork()  --this statement will invoke the inner function 'f2' which is in the return statement of the outer function\n",
        "fork()"
      ],
      "metadata": {
        "colab": {
          "base_uri": "https://localhost:8080/"
        },
        "id": "TPvQNsVSJDEj",
        "outputId": "9b6e89ae-13a3-4feb-f1fd-808db006fcc9"
      },
      "execution_count": 50,
      "outputs": [
        {
          "output_type": "stream",
          "name": "stdout",
          "text": [
            "id of inner function f2= 132294153409952\n",
            "id of the fork= 132294153409952\n",
            "welcome to the closure concept\n"
          ]
        }
      ]
    },
    {
      "cell_type": "code",
      "source": [
        "#example 4: reference to outer function even after deletion of it because the current invoke entry will be made in the stack with current state of variables\n",
        "def f1():\n",
        "  def f2():\n",
        "    print(\"Hello\")\n",
        "    print(\"world\")\n",
        "  return f2\n",
        "c=f1() #refers to f2()\n",
        "del f1\n",
        "c() #still works"
      ],
      "metadata": {
        "colab": {
          "base_uri": "https://localhost:8080/"
        },
        "id": "4tE9IBjaKIFh",
        "outputId": "275c0e34-715a-482d-ec65-2f42a857a914"
      },
      "execution_count": 51,
      "outputs": [
        {
          "output_type": "stream",
          "name": "stdout",
          "text": [
            "Hello\n",
            "world\n"
          ]
        }
      ]
    },
    {
      "cell_type": "code",
      "source": [
        "#example 5: deleting the outer function definition and then invoking it\n",
        "def f1():\n",
        "  def f2():\n",
        "    print(\"Hello\")\n",
        "    print(\"world\")\n",
        "  return f2\n",
        "del f1\n",
        "c=f1() #throws error\n",
        "c()"
      ],
      "metadata": {
        "colab": {
          "base_uri": "https://localhost:8080/",
          "height": 227
        },
        "id": "vPvYrgUEKgdW",
        "outputId": "71fd17e2-2707-4db7-a8fc-1039136c3fd2"
      },
      "execution_count": 52,
      "outputs": [
        {
          "output_type": "error",
          "ename": "NameError",
          "evalue": "ignored",
          "traceback": [
            "\u001b[0;31m---------------------------------------------------------------------------\u001b[0m",
            "\u001b[0;31mNameError\u001b[0m                                 Traceback (most recent call last)",
            "\u001b[0;32m<ipython-input-52-57667338f586>\u001b[0m in \u001b[0;36m<cell line: 8>\u001b[0;34m()\u001b[0m\n\u001b[1;32m      6\u001b[0m   \u001b[0;32mreturn\u001b[0m \u001b[0mf2\u001b[0m\u001b[0;34m\u001b[0m\u001b[0;34m\u001b[0m\u001b[0m\n\u001b[1;32m      7\u001b[0m \u001b[0;32mdel\u001b[0m \u001b[0mf1\u001b[0m\u001b[0;34m\u001b[0m\u001b[0;34m\u001b[0m\u001b[0m\n\u001b[0;32m----> 8\u001b[0;31m \u001b[0mc\u001b[0m\u001b[0;34m=\u001b[0m\u001b[0mf1\u001b[0m\u001b[0;34m(\u001b[0m\u001b[0;34m)\u001b[0m \u001b[0;31m#refers to f2()\u001b[0m\u001b[0;34m\u001b[0m\u001b[0;34m\u001b[0m\u001b[0m\n\u001b[0m\u001b[1;32m      9\u001b[0m \u001b[0mc\u001b[0m\u001b[0;34m(\u001b[0m\u001b[0;34m)\u001b[0m \u001b[0;31m#still works\u001b[0m\u001b[0;34m\u001b[0m\u001b[0;34m\u001b[0m\u001b[0m\n",
            "\u001b[0;31mNameError\u001b[0m: name 'f1' is not defined"
          ]
        }
      ]
    },
    {
      "cell_type": "code",
      "source": [
        "#example 6: trying to delete the function call    -- which is not possible\n",
        "def f1():\n",
        "  def f2():\n",
        "    print(\"Hello\")\n",
        "    print(\"world\")\n",
        "  return f2\n",
        "c=f1() #refers to f2()\n",
        "del f1()              #error---- because we cannot delete a function call\n",
        "c() #still works"
      ],
      "metadata": {
        "colab": {
          "base_uri": "https://localhost:8080/",
          "height": 140
        },
        "id": "-PbZ0QL8KzCN",
        "outputId": "f3c1bc7d-aed7-49ee-afa3-5a9875a76b77"
      },
      "execution_count": 54,
      "outputs": [
        {
          "output_type": "error",
          "ename": "SyntaxError",
          "evalue": "ignored",
          "traceback": [
            "\u001b[0;36m  File \u001b[0;32m\"<ipython-input-54-c13dc676ccae>\"\u001b[0;36m, line \u001b[0;32m8\u001b[0m\n\u001b[0;31m    del f1()\u001b[0m\n\u001b[0m        ^\u001b[0m\n\u001b[0;31mSyntaxError\u001b[0m\u001b[0;31m:\u001b[0m cannot delete function call\n"
          ]
        }
      ]
    },
    {
      "cell_type": "code",
      "source": [
        "#example 7: tyring to delete the inner function definition of the outer function ---not possible\n",
        "def f1():\n",
        "  def f2():\n",
        "    print(\"Hello\")\n",
        "    print(\"world\")\n",
        "  return f2\n",
        "c=f1()\n",
        "c()\n",
        "del f2                      #throws error\n",
        "# reason: the scope of the inner function definition and calls lies within the outer function"
      ],
      "metadata": {
        "colab": {
          "base_uri": "https://localhost:8080/",
          "height": 245
        },
        "id": "ZHnVwGilLIht",
        "outputId": "0e7b9163-1a1e-4873-9773-56e8b2bbb6d4"
      },
      "execution_count": 58,
      "outputs": [
        {
          "output_type": "stream",
          "name": "stdout",
          "text": [
            "Hello\n",
            "world\n"
          ]
        },
        {
          "output_type": "error",
          "ename": "NameError",
          "evalue": "ignored",
          "traceback": [
            "\u001b[0;31m---------------------------------------------------------------------------\u001b[0m",
            "\u001b[0;31mNameError\u001b[0m                                 Traceback (most recent call last)",
            "\u001b[0;32m<ipython-input-58-7c3ced9ff66e>\u001b[0m in \u001b[0;36m<cell line: 9>\u001b[0;34m()\u001b[0m\n\u001b[1;32m      7\u001b[0m \u001b[0mc\u001b[0m\u001b[0;34m=\u001b[0m\u001b[0mf1\u001b[0m\u001b[0;34m(\u001b[0m\u001b[0;34m)\u001b[0m \u001b[0;31m#refers to f2()\u001b[0m\u001b[0;34m\u001b[0m\u001b[0;34m\u001b[0m\u001b[0m\n\u001b[1;32m      8\u001b[0m \u001b[0mc\u001b[0m\u001b[0;34m(\u001b[0m\u001b[0;34m)\u001b[0m \u001b[0;31m#still works\u001b[0m\u001b[0;34m\u001b[0m\u001b[0;34m\u001b[0m\u001b[0m\n\u001b[0;32m----> 9\u001b[0;31m \u001b[0;32mdel\u001b[0m \u001b[0mf2\u001b[0m\u001b[0;34m\u001b[0m\u001b[0;34m\u001b[0m\u001b[0m\n\u001b[0m",
            "\u001b[0;31mNameError\u001b[0m: name 'f2' is not defined"
          ]
        }
      ]
    },
    {
      "cell_type": "markdown",
      "source": [
        "# other examples to explore"
      ],
      "metadata": {
        "id": "sNfTlzPvN4n0"
      }
    },
    {
      "cell_type": "code",
      "source": [
        "#example 1: to see the order of execution of print statements\n",
        "def f1(n):\n",
        "  i=n                                     #i is a variable of outer function f1(n)\n",
        "  def f2():\n",
        "    j=100\n",
        "    k=999\n",
        "    print(\"outer function i value=\",i)\n",
        "    print(\"inner function j value=\",j)\n",
        "    print(\"inner function k value=\",k)\n",
        "  #---end of function definition f2()\n",
        "  print(\"id of f2=\",id(f2))\n",
        "  return f2\n",
        "  print(\"outer function i value\",i)       #statement of the outer function\n",
        "\n",
        "# main code-----------------\n",
        "fork=f1(9)       #invoking outer function, observe the output w.r.t to the order of print statements executed\n",
        "print(\"id of f1=\",id(f1))\n",
        "print(\"id of fork=\",id(fork))\n",
        "fork()"
      ],
      "metadata": {
        "colab": {
          "base_uri": "https://localhost:8080/"
        },
        "id": "GV42p5ojN3-V",
        "outputId": "319b3aeb-8af3-4481-8033-da132fd91960"
      },
      "execution_count": 65,
      "outputs": [
        {
          "output_type": "stream",
          "name": "stdout",
          "text": [
            "id of f2= 132294154660176\n",
            "id of f1= 132294154658592\n",
            "id of fork= 132294154660176\n",
            "outer function i value= 9\n",
            "inner function j value= 100\n",
            "inner function k value= 999\n"
          ]
        }
      ]
    },
    {
      "cell_type": "code",
      "source": [
        "#example 2: to check the id's of the function and its calling object\n",
        "def f1():\n",
        "  def f2():\n",
        "    print(\"inner function\")\n",
        "  #---end of function definition f2()\n",
        "  print(\"id of f2=\",id(f2))\n",
        "  return f2()                                    #calling/invoking f2() in the outer function\n",
        "# main code-----------------\n",
        "fork=f1\n",
        "print(\"id of f1=\",id(f1))\n",
        "print(\"id of fork=\",id(fork))\n",
        "print(\"type of fork=\",type(fork))\n",
        "fork()"
      ],
      "metadata": {
        "colab": {
          "base_uri": "https://localhost:8080/"
        },
        "id": "7hS_im2OPgwS",
        "outputId": "70a35a26-8002-4ece-c7e4-7460ab466e99"
      },
      "execution_count": 70,
      "outputs": [
        {
          "output_type": "stream",
          "name": "stdout",
          "text": [
            "id of f1= 132294154659744\n",
            "id of fork= 132294154659744\n",
            "type of fork= <class 'function'>\n",
            "id of f2= 132294154663488\n",
            "inner function\n"
          ]
        }
      ]
    },
    {
      "cell_type": "code",
      "source": [
        "#example 3: another example\n",
        "def f1():\n",
        "  def f2():\n",
        "    print(\"inner function\")\n",
        "  #---end of function definition f2()\n",
        "  return f2()                                    #calling/invoking f2() in the outer function\n",
        "# main code-----------------\n",
        "fork=f1()\n",
        "print(\"id of f1=\",id(f1))\n",
        "print(\"id of fork=\",id(fork))\n",
        "print(\"type of fork=\",type(fork))\n",
        "fork()          #because the 'type' of the variable fork is not 'function'"
      ],
      "metadata": {
        "colab": {
          "base_uri": "https://localhost:8080/",
          "height": 279
        },
        "id": "YjJSf4GqP8cf",
        "outputId": "2b32486d-6740-41f8-ff4b-7e6963135806"
      },
      "execution_count": 69,
      "outputs": [
        {
          "output_type": "stream",
          "name": "stdout",
          "text": [
            "inner function\n",
            "id of f1= 132294154172112\n",
            "id of fork= 100926274696160\n",
            "type of fork= <class 'NoneType'>\n"
          ]
        },
        {
          "output_type": "error",
          "ename": "TypeError",
          "evalue": "ignored",
          "traceback": [
            "\u001b[0;31m---------------------------------------------------------------------------\u001b[0m",
            "\u001b[0;31mTypeError\u001b[0m                                 Traceback (most recent call last)",
            "\u001b[0;32m<ipython-input-69-d9976f0dff36>\u001b[0m in \u001b[0;36m<cell line: 12>\u001b[0;34m()\u001b[0m\n\u001b[1;32m     10\u001b[0m \u001b[0mprint\u001b[0m\u001b[0;34m(\u001b[0m\u001b[0;34m\"id of fork=\"\u001b[0m\u001b[0;34m,\u001b[0m\u001b[0mid\u001b[0m\u001b[0;34m(\u001b[0m\u001b[0mfork\u001b[0m\u001b[0;34m)\u001b[0m\u001b[0;34m)\u001b[0m\u001b[0;34m\u001b[0m\u001b[0;34m\u001b[0m\u001b[0m\n\u001b[1;32m     11\u001b[0m \u001b[0mprint\u001b[0m\u001b[0;34m(\u001b[0m\u001b[0;34m\"type of fork=\"\u001b[0m\u001b[0;34m,\u001b[0m\u001b[0mtype\u001b[0m\u001b[0;34m(\u001b[0m\u001b[0mfork\u001b[0m\u001b[0;34m)\u001b[0m\u001b[0;34m)\u001b[0m\u001b[0;34m\u001b[0m\u001b[0;34m\u001b[0m\u001b[0m\n\u001b[0;32m---> 12\u001b[0;31m \u001b[0mfork\u001b[0m\u001b[0;34m(\u001b[0m\u001b[0;34m)\u001b[0m\u001b[0;34m\u001b[0m\u001b[0;34m\u001b[0m\u001b[0m\n\u001b[0m",
            "\u001b[0;31mTypeError\u001b[0m: 'NoneType' object is not callable"
          ]
        }
      ]
    },
    {
      "cell_type": "code",
      "source": [
        "# example:\n",
        "def f1(n):\n",
        "  print(\"executing f1 function\")\n",
        "  return f1\n",
        "res=f1(5)\n",
        "print(type(res))\n",
        "print(res(5))"
      ],
      "metadata": {
        "id": "lmQ6VjGjRww8"
      },
      "execution_count": null,
      "outputs": []
    }
  ]
}