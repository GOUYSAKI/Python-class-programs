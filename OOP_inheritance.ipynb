{
  "nbformat": 4,
  "nbformat_minor": 0,
  "metadata": {
    "colab": {
      "provenance": []
    },
    "kernelspec": {
      "name": "python3",
      "display_name": "Python 3"
    },
    "language_info": {
      "name": "python"
    }
  },
  "cells": [
    {
      "cell_type": "markdown",
      "source": [
        "* Inheritance: Obtaining or acquiring the properties of another class\n",
        "* Deriving the new Object from a Parent object\n",
        "* New object is called derived object/subclass/child class\n",
        "* Parent object is called as parent class/Super class"
      ],
      "metadata": {
        "id": "tSuBBPfZ2B7r"
      }
    },
    {
      "cell_type": "markdown",
      "source": [
        "Types of Inheritance\n",
        "\n",
        "\t1. Single level inheritance\n",
        "\t\tSub classes inherit the features of one super class.\n",
        "\t\tA------->B\n",
        "\n",
        "\t2. Multi Level inheritance\n",
        "\t\tA class is inherited from another class which is in turn inherited from another class and so on. This can be extended to any number of levels\n",
        "\t\tc-------->B-------->A\n",
        "\n",
        "\t3. Multiple inheritance\n",
        "\t\tA class can have more than one super class and inherit the features from all parent classes\n",
        "\t\tB----------->A1\n",
        "\t\t|\n",
        "\t\t|\n",
        "\t\t|\n",
        "\t\t> A2\n",
        "\t4.Hierarchical inheritance\n",
        "\t\tOne class serves as super class for more than one sub classes\n",
        "\t\tC--------->A<------D  \n",
        "\n",
        "\t5. Hybrid inheritance\n",
        "\t\tA mix of two or more above types of inheritance. Also known as Diamond shaped inheritance\n"
      ],
      "metadata": {
        "id": "x_XXYczE2R1e"
      }
    },
    {
      "cell_type": "markdown",
      "source": [
        "* Inheritance indicates that one class gets most or all of its features from a parent class. When this kind of specialization occurs, there are three ways that parent and child can interact.\n",
        "\n",
        "\t1. Action of the child imply an action of the parent\n",
        "\t2. Action of the child override the action of the parent\n",
        "\t3. Action of the child alter the action of the parent"
      ],
      "metadata": {
        "id": "qiDeAAe-3D7U"
      }
    },
    {
      "cell_type": "code",
      "source": [
        "class Parent:\n",
        "  def classroom(self):\n",
        "    print(\"inside classroom\")\n",
        "\n",
        "class Child(Parent):\n",
        "  def disp(self):\n",
        "    #Parent.classroom(self)\n",
        "    print(\"inside displa function of child class\")\n",
        "    self.classroom()\n",
        "    return \"success\"\n",
        "\n",
        "c=Child()\n",
        "print(c.disp())"
      ],
      "metadata": {
        "colab": {
          "base_uri": "https://localhost:8080/"
        },
        "id": "H58c_Oj2fXO6",
        "outputId": "28803f50-8ce6-478b-9921-9f4a5b38d272"
      },
      "execution_count": 39,
      "outputs": [
        {
          "output_type": "stream",
          "name": "stdout",
          "text": [
            "inside displa function of child class\n",
            "inside classroom\n",
            "success\n"
          ]
        }
      ]
    },
    {
      "cell_type": "markdown",
      "source": [
        "#1. Action of the child imply an action of the parent\n"
      ],
      "metadata": {
        "id": "3Aa_aT-w3WxX"
      }
    },
    {
      "cell_type": "code",
      "execution_count": 41,
      "metadata": {
        "colab": {
          "base_uri": "https://localhost:8080/"
        },
        "id": "sf0M6W_117s2",
        "outputId": "05305e61-7852-4f50-cf4f-eada81803108"
      },
      "outputs": [
        {
          "output_type": "stream",
          "name": "stdout",
          "text": [
            "inside parent class\n"
          ]
        }
      ],
      "source": [
        "class Parent:\n",
        "  def disp(self):\n",
        "    print(\"inside parent class\")\n",
        "\n",
        "class child(Parent):\n",
        "\tpass\n",
        "\n",
        "\n",
        "c=child()\n",
        "c.disp()"
      ]
    },
    {
      "cell_type": "code",
      "source": [
        "class Parent:\n",
        "  def disp(self):\n",
        "    print(\"inside parent class\")\n",
        "  @staticmethod\n",
        "  def canteen():\n",
        "    print(\"inside canteen\")\n",
        "\n",
        "class child(Parent):\n",
        "  def __init__(self):\n",
        "    self.disp()       #Parent.disp(self)    explain encapsulation for this line--interaction only through objects\n",
        "    self.canteen()      #Parent.canteen()\n",
        "    Parent.disp(self)        #explain encapsulation for this line--interaction only through objects\n",
        "\n",
        "c=child()\n",
        "#c.disp()\n",
        "#c.canteen()"
      ],
      "metadata": {
        "colab": {
          "base_uri": "https://localhost:8080/"
        },
        "id": "dzHIye1xJgox",
        "outputId": "56eccbd2-85d9-4e58-a136-4e03ff8a12dc"
      },
      "execution_count": null,
      "outputs": [
        {
          "output_type": "stream",
          "name": "stdout",
          "text": [
            "inside parent class\n",
            "inside canteen\n"
          ]
        }
      ]
    },
    {
      "cell_type": "markdown",
      "source": [
        "#2. Action of the child override the action of the parent\n"
      ],
      "metadata": {
        "id": "BgQWREpF4N05"
      }
    },
    {
      "cell_type": "code",
      "source": [
        "class Parent:\n",
        "\tdef disp(self):\n",
        "\t\tprint(\"inside parent class\")\n",
        "\n",
        "class Child(Parent):\n",
        "\tdef disp(self):\n",
        "\t\tprint(\"inside child class\")\n",
        "p=Parent()\n",
        "p.disp()\n",
        "c=Child()\n",
        "c.disp()"
      ],
      "metadata": {
        "colab": {
          "base_uri": "https://localhost:8080/"
        },
        "id": "mm-wqCWA4PsY",
        "outputId": "ddb36e1b-dd40-4c32-9c87-1631df53aa8e"
      },
      "execution_count": null,
      "outputs": [
        {
          "output_type": "stream",
          "name": "stdout",
          "text": [
            "inside parent class\n",
            "inside child class\n"
          ]
        }
      ]
    },
    {
      "cell_type": "markdown",
      "source": [
        "#3. Action of the child alter the action of the parent\n"
      ],
      "metadata": {
        "id": "MA1WTkE34yUz"
      }
    },
    {
      "cell_type": "code",
      "source": [
        "class Parent:\n",
        "\tdef disp(self):\n",
        "\t\tprint(\"inside parent class\")\n",
        "\n",
        "class Child(Parent):\n",
        "  def disp(self):\n",
        "    Parent.disp(self)           #self.disp() throws for infinite times of calling child's class function disp(self)\n",
        "    print(\"inside child class\")\n",
        "\n",
        "p=Parent()\n",
        "p.disp()\n",
        "c=Child()\n",
        "c.disp()"
      ],
      "metadata": {
        "colab": {
          "base_uri": "https://localhost:8080/"
        },
        "id": "cLsoiDud40Hi",
        "outputId": "dd8c1d77-0618-45a0-9a3f-e35946ad5faf"
      },
      "execution_count": null,
      "outputs": [
        {
          "output_type": "stream",
          "name": "stdout",
          "text": [
            "inside parent class\n",
            "inside parent class\n",
            "inside child class\n"
          ]
        }
      ]
    },
    {
      "cell_type": "markdown",
      "source": [
        "# Usage of super() for single Inheritence"
      ],
      "metadata": {
        "id": "zV_GUdi36ijp"
      }
    },
    {
      "cell_type": "code",
      "source": [
        "class Parent:\n",
        "\tdef disp(self):\n",
        "\t\tprint(\"inside parent class function\")\n",
        "\n",
        "class Child(Parent):\n",
        "\tdef disp(self):\n",
        "\t\tsuper().disp()\t\t#there is only one parent avaialble. So super() will refer to that class and calls disp()\n",
        "\t\tprint(\"inside child class function\")\n",
        "p=Parent()\n",
        "p.disp()\n",
        "c=Child()\n",
        "c.disp()"
      ],
      "metadata": {
        "colab": {
          "base_uri": "https://localhost:8080/"
        },
        "id": "-2y2ERGh6lpQ",
        "outputId": "e51468c1-f570-4146-aec5-5ab019d04cfe"
      },
      "execution_count": null,
      "outputs": [
        {
          "output_type": "stream",
          "name": "stdout",
          "text": [
            "inside parent class function\n",
            "inside parent class function\n",
            "inside child class function\n"
          ]
        }
      ]
    },
    {
      "cell_type": "markdown",
      "source": [
        "# Usage of super() for Multiple Inheritence"
      ],
      "metadata": {
        "id": "46UdYRZc6-Sa"
      }
    },
    {
      "cell_type": "code",
      "source": [
        "class Father:\n",
        "\tdef disp(self):\n",
        "\t\tprint(\"inside Father class function\")\n",
        "class Mother:\n",
        "\tdef disp(self):\n",
        "\t\tprint(\"inside Mother class function\")\n",
        "\n",
        "class Child(Mother,Father):\t\t#Multiple inheritance\n",
        "\t\t\t\t#reverse the order of A and B specified here and observe the output\n",
        "\tdef child_disp(self):\n",
        "\t\tsuper().disp()\t\t#super() supported only in 3.x and above\n",
        "\t\t#super(Child,self).disp()\t#supported in 2.7\n",
        "\t\t#in both the cases, super() refers to the first parent specified in the list of parent classses. Change the order and observe the output\n",
        "\t\tprint(\"inside child class function\")\n",
        "\n",
        "c=Child()\n",
        "c.child_disp()"
      ],
      "metadata": {
        "colab": {
          "base_uri": "https://localhost:8080/"
        },
        "id": "D3gfJicI7DOv",
        "outputId": "aab797db-0f06-4db6-d5a4-250d40359950"
      },
      "execution_count": null,
      "outputs": [
        {
          "output_type": "stream",
          "name": "stdout",
          "text": [
            "inside Mother class function\n",
            "inside child class function\n"
          ]
        }
      ]
    },
    {
      "cell_type": "markdown",
      "source": [
        "# calling the __init__() of the parent class inside the child class"
      ],
      "metadata": {
        "id": "UNtCFfb7-KO2"
      }
    },
    {
      "cell_type": "code",
      "source": [
        "#Assume the parent class has thousands of instance variables(or attributes)\n",
        "\n",
        "class Parent1:\n",
        "\tdef __init__(self,m,n,o,p):\n",
        "\t\tself.a=m            #object(self) attributes not class(Parent) attributes\n",
        "\t\tself.b=n\n",
        "\t\tself.c=o\n",
        "\t\tself.d=p\n",
        "\n",
        "\n",
        "#child class has one more instance variable specific to it. Rather than again mentioning all, call the super class constructor.\n",
        "#-----------child1 class and object---------------------------------------\n",
        "class Child1(Parent1):\n",
        "  def __init__(self,m,n,o,p,q):\n",
        "   Parent1.__init__(self,m,n,o,p)              #super().__init__(m,n,o,p)\n",
        "   self.e=q\n",
        "  def display(self):\n",
        "    print(self.a,\"--\",self.b,\"--\",self.c,\"--\",self.d,\"--\",self.e)\n",
        "\n",
        "p=Parent1(10,20,30,40)\n",
        "c1=Child1(1,2,3,4,90)\n",
        "c1.display()\n"
      ],
      "metadata": {
        "colab": {
          "base_uri": "https://localhost:8080/"
        },
        "id": "3IuLrR3h-P3B",
        "outputId": "1c92c9bf-e54c-4b35-821c-102c412aa376"
      },
      "execution_count": null,
      "outputs": [
        {
          "output_type": "stream",
          "name": "stdout",
          "text": [
            "1 -- 2 -- 3 -- 4 -- 90\n"
          ]
        }
      ]
    },
    {
      "cell_type": "code",
      "source": [
        "class Parent2:\n",
        "\tdef __init__(self,m,n,o,p):\n",
        "\t\tParent2.a=m            #class(Parent) attributes, and not object(self) attributes\n",
        "\t\tParent2.b=n\n",
        "\t\tParent2.c=o\n",
        "\t\tParent2.d=p\n",
        "\n",
        "#child class has one more instance variable specific to it. Rather than again mentioning all, call the super class constructor.\n",
        "#-----------child2 class and object---------------------------------------\n",
        "class Child2(Parent2):\n",
        "  def __init__(self,m,n,o,p,q):\n",
        "   Parent2.__init__(self,m,n,o,p)              #super().__init__(m,n,o,p)\n",
        "   self.e=q\n",
        "  def display(self):\n",
        "    print(\"values display through child's instance=\",self.a,\"--\",self.b,\"--\",self.c,\"--\",self.d,\"--\",self.e)\n",
        "    print(\"values display through parent name and child's instance=\",Parent2.a,\"--\",Parent2.b,\"--\",Parent2.c,\"--\",Parent2.d,\"--\",self.e)\n",
        "\n",
        "p=Parent2(10,20,30,40)        #initializing the Parent attributes (a,b,c,d) with 10,20,30,40 values\n",
        "c2=Child2(1,2,3,4,90)         #the  __init__() of Parent is again initialized with a,b,c,d values passed in the  __init__() of child\n",
        "c2.display()"
      ],
      "metadata": {
        "colab": {
          "base_uri": "https://localhost:8080/"
        },
        "id": "SJxMvP3PAEU9",
        "outputId": "7314d142-3f4c-4319-eb4f-2ccec072f2af"
      },
      "execution_count": null,
      "outputs": [
        {
          "output_type": "stream",
          "name": "stdout",
          "text": [
            "values display through child's instance= 1 -- 2 -- 3 -- 4 -- 90\n",
            "values display through parent name and child's instance= 1 -- 2 -- 3 -- 4 -- 90\n"
          ]
        }
      ]
    },
    {
      "cell_type": "code",
      "source": [
        "class Parent3:\n",
        "\tdef __init__(self,m,n,o,p):\n",
        "\t\tParent3.a=m            #class(Parent) attributes, and not object(self) attributes\n",
        "\t\tParent3.b=n\n",
        "\t\tParent3.c=o\n",
        "\t\tParent3.d=p\n",
        "\n",
        "\n",
        "#-----------child3 class and object---------------------------------------\n",
        "class Child3(Parent3):\n",
        "  def __init__(self,m,n,o,p,q):\n",
        "   self.e=q\n",
        "  def display(self):\n",
        "    print(self.e)\n",
        "    #print(self.a,\"--\",self.b,\"--\",self.c,\"--\",self.d,\"--\",self.e)          #throws error, because no initialization done thorugh child's instance to the parent atribute\n",
        "    #print(Parent3.a,\"--\",Parent3.b,\"--\",Parent3.c,\"--\",Parent3.d,\"--\",self.e)   #throws error because parent's object is not created to instansiate the attributes of parent class\n",
        "\n",
        "#p=Parent3(10,20,30,40)     #uncomment this line and the previous line to see the other result\n",
        "c3=Child3(1,2,3,4,90)\n",
        "c3.display()"
      ],
      "metadata": {
        "colab": {
          "base_uri": "https://localhost:8080/"
        },
        "id": "kjb1aoLzA4UA",
        "outputId": "1a0767ef-fe5e-485a-cc41-3b19268f2041"
      },
      "execution_count": null,
      "outputs": [
        {
          "output_type": "stream",
          "name": "stdout",
          "text": [
            "90\n"
          ]
        }
      ]
    },
    {
      "cell_type": "code",
      "source": [
        "class Parent4:\n",
        "\tdef __init__(self,m,n,o,p):\n",
        "\t\tself.a=m\n",
        "\t\tself.b=n\n",
        "\t\tself.c=o\n",
        "\t\tself.d=p\n",
        "\n",
        "#-----------child4 class and object---------------------------------------\n",
        "class Child4(Parent4):\n",
        "  def __init__(self,m,n,o,p,q):\n",
        "   Parent4.__init__(self,m,n,o,p)              #super().__init__(m,n,o,p)\n",
        "   self.e=q\n",
        "  def display(self):\n",
        "    print(self.a,\"--\",self.b,\"--\",self.c,\"--\",self.d,\"--\",self.e)\n",
        "    #print(Parent4.a,\"--\",Parent4.b,\"--\",Parent4.c,\"--\",Parent4.d,\"--\",self.e)   #throws error because parent's object is not created to instansiate the attributes of parent class\n",
        "\n",
        "#----main code--------------\n",
        "c4=Child4(1,2,3,4,90)\n",
        "c4.display()"
      ],
      "metadata": {
        "colab": {
          "base_uri": "https://localhost:8080/"
        },
        "id": "O_WqfrdEC4YC",
        "outputId": "a7a050fc-3331-4ef1-bf5b-cd37dca8fedb"
      },
      "execution_count": null,
      "outputs": [
        {
          "output_type": "stream",
          "name": "stdout",
          "text": [
            "1 -- 2 -- 3 -- 4 -- 90\n"
          ]
        }
      ]
    },
    {
      "cell_type": "code",
      "source": [
        "class Parent5:\n",
        "  a=100            #class(Parent) attributes, and not object(self) attributes\n",
        "  b=200\n",
        "  c=300\n",
        "  d=400\n",
        "  def __init__(self): #__init__() of parent will not be called by child's instance\n",
        "    Parent5.a=1000            #function attributes, and not object(self) attributes or class attributes\n",
        "    Parent5.b=2000\n",
        "    Parent5.c=3000\n",
        "    Parent5.d=4000\n",
        "\n",
        "\n",
        "#-----------child5 class and object---------------------------------------\n",
        "class Child5(Parent5):\n",
        "  def __init__(self,q):\n",
        "   self.e=q\n",
        "  def display(self):\n",
        "    print(self.e)\n",
        "    print(self.a,\"--\",self.b,\"--\",self.c,\"--\",self.d,\"--\",self.e)\n",
        "    print(Parent5.a,\"--\",Parent5.b,\"--\",Parent5.c,\"--\",Parent5.d,\"--\",self.e)\n",
        "\n",
        "#p=Parent5()     #uncomment this line for the previous line to see the other result\n",
        "c3=Child5(90)\n",
        "c3.display()"
      ],
      "metadata": {
        "colab": {
          "base_uri": "https://localhost:8080/"
        },
        "id": "YmUMmiGFFc-N",
        "outputId": "c0142fb8-e402-4f94-ff76-65e1970489ea"
      },
      "execution_count": null,
      "outputs": [
        {
          "output_type": "stream",
          "name": "stdout",
          "text": [
            "90\n",
            "100 -- 200 -- 300 -- 400 -- 90\n",
            "100 -- 200 -- 300 -- 400 -- 90\n"
          ]
        }
      ]
    },
    {
      "cell_type": "code",
      "source": [
        "class Parent6:\n",
        "  a=100            #class(Parent) attributes, and not object(self) attributes\n",
        "  b=200\n",
        "  c=300\n",
        "  d=400\n",
        "  def __init__(self): #__init__() of parent will not be called by child's instance\n",
        "    a=1000            #functional attributes of the __init__() function. and is neither class attributes, nor instance attributes\n",
        "    b=2000\n",
        "    c=3000\n",
        "    d=4000\n",
        "    print(\"inside init, and the values of a,b,c,d are=\",a,b,c,d)\n",
        "    print(\"inside init, and the values of parent class of a,b,c,d are=\",Parent6.a,Parent6.b,Parent6.c,Parent6.d)\n",
        "    #return a,b,c,d      #__inti__() should return None--so don't try to return anything. It throws error\n",
        "\n",
        "p6=Parent6()\n",
        "print(p6.a,p6.b,p6.c,p6.d)"
      ],
      "metadata": {
        "colab": {
          "base_uri": "https://localhost:8080/"
        },
        "id": "3hAq7jwJXL83",
        "outputId": "62081897-1f40-40cb-dc07-509169d791e3"
      },
      "execution_count": null,
      "outputs": [
        {
          "output_type": "stream",
          "name": "stdout",
          "text": [
            "inside init, and the values of a,b,c,d are= 1000 2000 3000 4000\n",
            "inside init, and the values of parent class of a,b,c,d are= 100 200 300 400\n",
            "100 200 300 400\n"
          ]
        }
      ]
    },
    {
      "cell_type": "markdown",
      "source": [
        "# polymorphism\n",
        "* ability to exhibit behaviors of differrent objects using one common variable"
      ],
      "metadata": {
        "id": "-y6Fc-39iuSd"
      }
    },
    {
      "cell_type": "code",
      "source": [
        "#exisiting operators that shows polyorshism. Example: '+' for int,float,string\n",
        "#existing function that shows polymorshism. Example: len() for list,dict,string"
      ],
      "metadata": {
        "id": "XlGP_BqKnl88"
      },
      "execution_count": null,
      "outputs": []
    },
    {
      "cell_type": "code",
      "source": [
        "class K_section:\n",
        "  def about(self):\n",
        "    print(\"k-section belongs to CET-batch\")\n",
        "\n",
        "class O_section:\n",
        "  def about(self):\n",
        "    print(\"O-section belongs to PESSAT-batch\")\n",
        "\n",
        "K=K_section()\n",
        "O=O_section()\n",
        "my_class=[O,K]\n",
        "for i in my_class:\n",
        "  i.about()\n"
      ],
      "metadata": {
        "colab": {
          "base_uri": "https://localhost:8080/"
        },
        "id": "XNzUSkR_jSw_",
        "outputId": "4700af07-0a95-4638-ef1e-a41ceec70715"
      },
      "execution_count": null,
      "outputs": [
        {
          "output_type": "stream",
          "name": "stdout",
          "text": [
            "O-section belongs to PESSAT-batch\n",
            "k-section belongs to CET-batch\n"
          ]
        }
      ]
    },
    {
      "cell_type": "code",
      "source": [
        "class Pes:\n",
        "  def __init__(self,s_name,batch):\n",
        "    self.section_name=s_name\n",
        "    self.section_batch=batch\n",
        "\n",
        "O=Pes('O-section','PESSAT')\n",
        "K=Pes(100,'CET')\n",
        "my_class=[O,K]\n",
        "for i in my_class:\n",
        "  print(i.section_name,i.section_batch)"
      ],
      "metadata": {
        "colab": {
          "base_uri": "https://localhost:8080/"
        },
        "id": "D7fvAJ5lltJB",
        "outputId": "4610e4b0-7d22-4903-e1cb-7b55f8271277"
      },
      "execution_count": null,
      "outputs": [
        {
          "output_type": "stream",
          "name": "stdout",
          "text": [
            "O-section PESSAT\n",
            "100 CET\n"
          ]
        }
      ]
    },
    {
      "cell_type": "code",
      "source": [
        "#example 7: programming example to demonstrate polymorphism\n",
        "#It also demonstrates how to create an object of one class inside __init__() of other class and not about inheritence\n",
        "class Date:\n",
        "\tdef __init__(self, dd, mm, yy):\n",
        "\t\tself.dd = dd\n",
        "\t\tself.mm = mm\n",
        "\t\tself.yy = yy\n",
        "\tdef __str__(self):\n",
        "\t\treturn str(self.dd)+\"-\"+str(self.mm)+\"-\"+str(self.yy)\n",
        "\n",
        "\tdef addition(self):\n",
        "\t\treturn self.yy+self.mm+self.dd\n",
        "\tdef getmonth(self):\n",
        "                return self.mm\n",
        "\n",
        "#d = Date(4,12,2023)            #Date object creation and printing\n",
        "#print(d)\n",
        "\n",
        "class Student:\n",
        "  def __init__(self, name, srn,addr, dd, mm, yy):\n",
        "                self.name = name\n",
        "                self.srn = srn\n",
        "                self.address = addr\n",
        "                self.date = Date(dd, mm, yy)    #date is an attribute of the object self\n",
        "  def __str__(self):\n",
        "    return self.name+\" \"+str(self.srn)+\" \"+self.address+\"==>\"+str(self.date)\n",
        "  def addition(self):\n",
        "    return self.date.addition()\n",
        "  def getmonth(self):\n",
        "    return self.date.getmonth()\n",
        "\n",
        "s1 = Student(\"abc\",12,\"jayanagar\",23,11,2017)\n",
        "s2 = Student(\"xyz\",1,\"nagarbavi\",19,10,2018)\n",
        "s3 = Student(\"pqr\",22,\"jpnagar\",1,9,2060)\n",
        "\n",
        "mylist  = [s1,s2,s3]\n",
        "for i in mylist:\n",
        "\tprint(i)\n",
        "print(\"\\n\")\n",
        "print(\"------------------------------------------\")\n",
        "print(\"based on Addition of dates\")\n",
        "for i in sorted(mylist,key = Student.addition):\n",
        "\tprint(i)\n",
        "print(\"\\n\")\n",
        "print(\"------------------------------------------\")\n",
        "print(\"based on month -- sorted\")\n",
        "for i in sorted(mylist,key = Student.getmonth):\n",
        "\tprint(i)"
      ],
      "metadata": {
        "id": "cFdfK1iSWDhr"
      },
      "execution_count": null,
      "outputs": []
    },
    {
      "cell_type": "markdown",
      "source": [
        "#isinstance(object,class)\n",
        "isinstance() is used to check whether the instance is of specified type or Object. Returns either True or False"
      ],
      "metadata": {
        "id": "ePV4GSHDdGwT"
      }
    },
    {
      "cell_type": "code",
      "source": [
        "class A:\n",
        "\tpass\n",
        "class B:\n",
        "\tpass\n",
        "a1=A()\n",
        "b1=B()\n",
        "print(isinstance(a1,A))\t\t\t#True\n",
        "print(isinstance(b1,A))\t\t\t#False\n"
      ],
      "metadata": {
        "colab": {
          "base_uri": "https://localhost:8080/"
        },
        "id": "ERImRygKdKrZ",
        "outputId": "f38b01af-552d-4a1f-f5ad-7d6327737ce8"
      },
      "execution_count": null,
      "outputs": [
        {
          "output_type": "stream",
          "name": "stdout",
          "text": [
            "True\n",
            "False\n"
          ]
        }
      ]
    },
    {
      "cell_type": "markdown",
      "source": [
        "#issubclass(child_class_name,parent_class_name)\n",
        "It is used to check whether the first argument is a child class or subclass of second argument"
      ],
      "metadata": {
        "id": "-gSfKb8odlwE"
      }
    },
    {
      "cell_type": "code",
      "source": [
        "class A:\n",
        "\tpass\n",
        "class B(A):\t\t#inheritance\n",
        "\tpass\n",
        "a1=A()\n",
        "b1=B()\n",
        "print(type(a1)==A)\t\t\t#True\n",
        "print(type(b1)==A)\t\t\t#False\n",
        "#so use isinstance()\n",
        "print(isinstance(a1,A))\t#True\n",
        "print(isinstance(b1,A))\t#True\n",
        "\n",
        "print(isinstance(B,A))\t#B is a class not an instance\n",
        "#Change first argument to different values and observe the output\n",
        "print(issubclass(B,A))\t\t#True\n",
        "print(isinstance(A,B))\t\t#False"
      ],
      "metadata": {
        "colab": {
          "base_uri": "https://localhost:8080/"
        },
        "id": "u5nDvNpbdieh",
        "outputId": "deaa5b83-1b0e-477f-f6c9-47f972325ceb"
      },
      "execution_count": null,
      "outputs": [
        {
          "output_type": "stream",
          "name": "stdout",
          "text": [
            "True\n",
            "False\n",
            "True\n",
            "True\n",
            "False\n",
            "True\n",
            "False\n"
          ]
        }
      ]
    },
    {
      "cell_type": "markdown",
      "source": [
        "#__bases__\n",
        "To know who is the immediate parent(super class) of the derieved class(child class)\n",
        "\n",
        "    syntax:\n",
        "    classname.__bases__"
      ],
      "metadata": {
        "id": "E5HoOdLXe7Mi"
      }
    },
    {
      "cell_type": "code",
      "source": [
        "class A:\n",
        "\tpass\n",
        "class B(A):\n",
        "\tpass\n",
        "class C(B):\n",
        "\tpass\n",
        "c1=C()\n",
        "b1=B()\n",
        "print(A.__bases__)\n",
        "print(isinstance(c1,A))\t#True\n",
        "print(B.__bases__)\n",
        "\n",
        "print(issubclass(C,A))\t#True\n",
        "print(isinstance(b1,C))\t\t#False\n",
        "print(C.__bases__)"
      ],
      "metadata": {
        "colab": {
          "base_uri": "https://localhost:8080/"
        },
        "id": "7_WxoXWvelfA",
        "outputId": "ef57f49e-d060-4e3e-d508-fb4b7edd2e39"
      },
      "execution_count": null,
      "outputs": [
        {
          "output_type": "stream",
          "name": "stdout",
          "text": [
            "(<class 'object'>,)\n",
            "True\n",
            "(<class '__main__.A'>,)\n",
            "True\n",
            "False\n",
            "(<class '__main__.B'>,)\n"
          ]
        }
      ]
    },
    {
      "cell_type": "markdown",
      "source": [
        "#destructor\n",
        "* Object created first gets deleted first.\n",
        "* But when you run many times, B might be deleted first because of garbage collector in OS. Do not worry much as of now!!"
      ],
      "metadata": {
        "id": "sF5pwJNjfzXX"
      }
    },
    {
      "cell_type": "code",
      "source": [
        "#when there is no inheritence\n",
        "class A:\n",
        "\tdef __init__(self):\n",
        "\t\tprint(\"in construtor\",self.__class__.__name__)\n",
        "\tdef __del__(self):\n",
        "\t\tprint(\"in destructor\",self.__class__)\n",
        "\n",
        "class B:\t\t#No inheritance\n",
        "\tdef __init__(self):\n",
        "\t\tprint(\"in construtor\",self.__class__.__name__)\n",
        "\tdef __del__(self):\n",
        "\t\tprint(\"in destructor\",self.__class__.__name__)\n",
        "\n",
        "a1=A()\t\t#Constructor of A is called\n",
        "b1=B()\t\t#constructor of B is called\n",
        "del a1\n",
        "del b1"
      ],
      "metadata": {
        "colab": {
          "base_uri": "https://localhost:8080/"
        },
        "id": "-UMYAVAff1CA",
        "outputId": "43268c22-27f7-447f-890c-e02796bbbf8f"
      },
      "execution_count": null,
      "outputs": [
        {
          "output_type": "stream",
          "name": "stdout",
          "text": [
            "in construtor A\n",
            "in construtor B\n",
            "in destructor <class '__main__.A'>\n",
            "in destructor B\n"
          ]
        }
      ]
    },
    {
      "cell_type": "code",
      "source": [
        "#order of destruction when there is inheritence\n",
        "class A:\n",
        "\tdef __init__(self):\n",
        "\t\tprint(\"in construtor\",self.__class__.__name__)\n",
        "\tdef __del__(self):\n",
        "\t\tprint(\"in destructor\",self.__class__.__name__)\n",
        "\n",
        "class B(A):\t\t#inheritance\n",
        "\tdef __init__(self):\n",
        "\t\tprint(\"in construtor\",self.__class__.__name__)\n",
        "\tdef __del__(self):\n",
        "\t\tprint(\"in destructor\",self.__class__.__name__)\n",
        "\n",
        "a1=A()\t\t#Constructor of A is called\n",
        "b1=B()\n",
        "del a1\n",
        "del b1"
      ],
      "metadata": {
        "colab": {
          "base_uri": "https://localhost:8080/"
        },
        "id": "O7b0H4XRgXSP",
        "outputId": "2a5bcf12-00a2-4390-82e6-256cb44e69fd"
      },
      "execution_count": null,
      "outputs": [
        {
          "output_type": "stream",
          "name": "stdout",
          "text": [
            "in construtor A\n",
            "in construtor B\n",
            "in destructor A\n",
            "in destructor B\n"
          ]
        }
      ]
    }
  ]
}