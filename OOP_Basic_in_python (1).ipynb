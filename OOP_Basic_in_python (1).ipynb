{
  "nbformat": 4,
  "nbformat_minor": 0,
  "metadata": {
    "colab": {
      "provenance": [],
      "collapsed_sections": [
        "Ju3Cijn2W52l",
        "LdD16ETZDW_B",
        "QKxquPkMG-t6",
        "QcdDZaCZHasq",
        "kJPLfvrsIlKp",
        "WB1tIAY_I944",
        "bBxU6bavJcWZ",
        "zdReyk-JLne2"
      ]
    },
    "kernelspec": {
      "name": "python3",
      "display_name": "Python 3"
    },
    "language_info": {
      "name": "python"
    }
  },
  "cells": [
    {
      "cell_type": "markdown",
      "source": [
        "* OOP is based on the concept called \"objects\", which contains data and methods that manipulates the data.\n",
        "* Objects are created through templates called \"classes\" which is used to define the properties and behaviour of the objects that are created."
      ],
      "metadata": {
        "id": "Qj9KWif4Gu95"
      }
    },
    {
      "cell_type": "code",
      "execution_count": null,
      "metadata": {
        "id": "WY9XiHlTmioy",
        "colab": {
          "base_uri": "https://localhost:8080/"
        },
        "outputId": "b8fcf02d-8a17-40a0-a796-eecab71ba642"
      },
      "outputs": [
        {
          "output_type": "stream",
          "name": "stdout",
          "text": [
            "type of a= <class 'int'>\n",
            "type of b= <class 'float'>\n",
            "type of c= <class 'str'>\n",
            "type of d= <class 'list'>\n"
          ]
        }
      ],
      "source": [
        "a=23\n",
        "b=23.56\n",
        "c=\"python\"\n",
        "d=[1,2,3]\n",
        "print(\"type of a=\",type(a))\n",
        "print(\"type of b=\",type(b))\n",
        "print(\"type of c=\",type(c))\n",
        "print(\"type of d=\",type(d))"
      ]
    },
    {
      "cell_type": "code",
      "source": [
        "print(\"type of int=\",type(int))\n",
        "print(\"type of float=\",type(float))\n",
        "print(\"type of string=\",type(str))\n",
        "print(\"type of list=\",type(list))\n",
        "print(\"type of set=\",type(set))\n",
        "print(\"type of tuple=\",type(tuple))\n",
        "print(\"type of dictionary=\",type(dict))"
      ],
      "metadata": {
        "colab": {
          "base_uri": "https://localhost:8080/"
        },
        "id": "iz5L1zmGGEgM",
        "outputId": "2616d845-d43c-492a-f675-8743110a27e7"
      },
      "execution_count": null,
      "outputs": [
        {
          "output_type": "stream",
          "name": "stdout",
          "text": [
            "type of int= <class 'type'>\n",
            "type of float= <class 'type'>\n",
            "type of string= <class 'type'>\n",
            "type of list= <class 'type'>\n",
            "type of set= <class 'type'>\n",
            "type of tuple= <class 'type'>\n",
            "type of dictionary= <class 'type'>\n"
          ]
        }
      ]
    },
    {
      "cell_type": "code",
      "source": [
        "print(\"type of 'type'=\",type(type))"
      ],
      "metadata": {
        "colab": {
          "base_uri": "https://localhost:8080/"
        },
        "id": "CkPPv9S9Gcw1",
        "outputId": "6f150c9c-9d57-4e23-a94b-882c3d60a016"
      },
      "execution_count": null,
      "outputs": [
        {
          "output_type": "stream",
          "name": "stdout",
          "text": [
            "type of 'type'= <class 'type'>\n"
          ]
        }
      ]
    },
    {
      "cell_type": "markdown",
      "source": [
        "# Class"
      ],
      "metadata": {
        "id": "Ju3Cijn2W52l"
      }
    },
    {
      "cell_type": "markdown",
      "source": [
        "syntax:\n",
        "\n",
        "    class ClassName:\n",
        "    <statement-1>\n",
        "    .\n",
        "    .\n",
        "    .\n",
        "    <statement-N>"
      ],
      "metadata": {
        "id": "EfY2cbJvW7xt"
      }
    },
    {
      "cell_type": "code",
      "source": [
        "#The object() function returns an empty object.\n",
        "#You cannot add new properties or methods to this object.\n",
        "\n",
        "a=object()                # \"object\" is the base for all classes,\n",
        "                          #it holds the built-in properties and methods which are default for all classes.\n",
        "print(\"type of a=\",type(a))\n",
        "print(\"a address=\",a)\n",
        "print(\"size of a=\",a.__sizeof__())\n",
        "print(\"size of object=\",object.__sizeof__(object))"
      ],
      "metadata": {
        "colab": {
          "base_uri": "https://localhost:8080/"
        },
        "id": "B1CC2hveFRqg",
        "outputId": "30f0d5b0-be9f-4967-ee9c-33aca21f32b9"
      },
      "execution_count": null,
      "outputs": [
        {
          "output_type": "stream",
          "name": "stdout",
          "text": [
            "type of a= <class 'object'>\n",
            "a address= <object object at 0x7abd43ca8720>\n",
            "size of a= 16\n",
            "size of object= 888\n"
          ]
        }
      ]
    },
    {
      "cell_type": "markdown",
      "source": [
        "#  Class and Object\n",
        "* Creation\n",
        "* Usage of __init__() and __new__() constructors\n"
      ],
      "metadata": {
        "id": "LdD16ETZDW_B"
      }
    },
    {
      "cell_type": "code",
      "source": [
        "class Pes:\n",
        "  def __new__(self):\n",
        "    print(\"new called\")\n",
        "    return object.__new__(self)\n",
        "  def __init__(self):\n",
        "    print(\"constructor of Pes called\")\n",
        "  def classroom(self):\n",
        "    print(\"inside class\")\n",
        "  def canteen():\n",
        "    print(\"in canteen\")\n",
        "#-----main code--------\n",
        "p=Pes()                       #empty object is created to hold the  properties and methods which are default for the class Pes.\n",
        "print(\"type of p=\",type(p))\n",
        "print(p)\n",
        "print(\"object p size=\",p.__sizeof__())\n",
        "print(\"type of class Pes=\",type(Pes))\n",
        "Pes.classroom(p)"
      ],
      "metadata": {
        "colab": {
          "base_uri": "https://localhost:8080/"
        },
        "id": "qpF0najTXhFe",
        "outputId": "3e7b507c-b62a-4947-f2f4-b07d095227d9"
      },
      "execution_count": null,
      "outputs": [
        {
          "output_type": "stream",
          "name": "stdout",
          "text": [
            "new called\n",
            "constructor of Pes called\n",
            "type of p= <class '__main__.Pes'>\n",
            "<__main__.Pes object at 0x7abd75e589a0>\n",
            "object p size= 32\n",
            "type of class Pes= <class 'type'>\n",
            "inside class\n"
          ]
        }
      ]
    },
    {
      "cell_type": "code",
      "source": [
        "#example of case where object not being created properly in __new__() constructor\n",
        "class Pes:\n",
        "  def __new__(self):\n",
        "    print(\"new called\")\n",
        "    return self         #object not returned properly\n",
        "  def __init__(self):                       #__init__ is an instance method that initializes a newly created object's attributes.\n",
        "    print(\"constructor of Pes called\")\n",
        "  def classroom(self):\n",
        "    print(\"inside class\")\n",
        "  def canteen():\n",
        "    print(\"in canteen\")\n",
        "#-----main code--------\n",
        "q=Pes()                     #here q is just another name for Pes , and not object\n",
        "print(\"q type=\",type(q))\n",
        "print(\"Pes type=\",type(Pes))\n",
        "print(q.__sizeof__(q))            #throws error because obejct is not created properly\n",
        "#q.classroom(q)                  #\n",
        "#print(Pes.__sizeof__(q))\n",
        "#Pes.classroom(q)\n",
        "Pes.classroom(Pes)"
      ],
      "metadata": {
        "colab": {
          "base_uri": "https://localhost:8080/"
        },
        "id": "NgRw6upQCTUh",
        "outputId": "18ef9c42-a856-4127-cfe2-24000e10139c"
      },
      "execution_count": null,
      "outputs": [
        {
          "output_type": "stream",
          "name": "stdout",
          "text": [
            "new called\n",
            "q type= <class 'type'>\n",
            "Pes type= <class 'type'>\n",
            "888\n",
            "inside class\n"
          ]
        }
      ]
    },
    {
      "cell_type": "code",
      "source": [
        "#read the comments and understand the example\n",
        "class Pes:\n",
        "  def __new__(self):\n",
        "    print(\"constructor new called\")\n",
        "    return object.__new__(self)\n",
        "  def __init__(self):                       #__init__ is an instance method that initializes a newly created object's attributes.\n",
        "    print(\"constructor __init__ of Pes called\")\n",
        "  def __call__(self):\n",
        "    print(\"calling __call__self\")\n",
        "  def classroom(self):\n",
        "    print(\"inside class\")\n",
        "  def canteen():\n",
        "    print(\"in canteen\")\n",
        "\n",
        "\n",
        "m=Pes()\n",
        "m()           #throws error saying Pes object is not callable, we require __call__ to be added to call the object 'm' like a function call\n",
        "Pes.canteen()\n",
        "#m.canteen()       #canteen() function is not associated with any object, it is associated only with the class \"Pes\""
      ],
      "metadata": {
        "colab": {
          "base_uri": "https://localhost:8080/"
        },
        "id": "19BBmGrXONXd",
        "outputId": "1f1d4a22-aa67-4afd-f2a8-f5ae5be23ebf"
      },
      "execution_count": null,
      "outputs": [
        {
          "output_type": "stream",
          "name": "stdout",
          "text": [
            "constructor new called\n",
            "constructor __init__ of Pes called\n",
            "calling __call__self\n",
            "in canteen\n"
          ]
        }
      ]
    },
    {
      "cell_type": "code",
      "source": [
        "#example to check the size of functions call's made\n",
        "class Pes:\n",
        "  def __new__(self):\n",
        "    print(\"new called\")\n",
        "    return object.__new__(self)\n",
        "  def __init__(self):                       #__init__ is an instance method that initializes a newly created object's attributes.\n",
        "    print(\"constructor of Pes called\")\n",
        "  def classroom(self):\n",
        "    print(\"inside class\")\n",
        "  def working(self):\n",
        "    print(\"trying to work\")\n",
        "  def canteen():\n",
        "    print(\"in canteen\")\n",
        "  def your_brain(self):\n",
        "    print(\"brain is still functioning\")\n",
        "\n",
        "n=Pes()\n",
        "print(\"size of object n=\",n.__sizeof__())\n",
        "print(\"size of the function classroom=\",(n.classroom()).__sizeof__())\n",
        "print(\"size of the function working=\",(n.working()).__sizeof__())\n",
        "print(\"size of the function your_brain=\",(n.your_brain()).__sizeof__())\n",
        "print(\"size of the function canteen=\",(Pes.canteen()).__sizeof__())"
      ],
      "metadata": {
        "colab": {
          "base_uri": "https://localhost:8080/"
        },
        "id": "8H5ju31zQWXn",
        "outputId": "b4ad3dcd-8f41-4daf-b577-a3a0eba1bc70"
      },
      "execution_count": null,
      "outputs": [
        {
          "output_type": "stream",
          "name": "stdout",
          "text": [
            "new called\n",
            "constructor of Pes called\n",
            "size of object n= 32\n",
            "inside class\n",
            "size of the function classroom= 16\n",
            "trying to work\n",
            "size of the function working= 16\n",
            "brain is still functioning\n",
            "size of the function your_brain= 16\n",
            "in canteen\n",
            "size of the function canteen= 16\n"
          ]
        }
      ]
    },
    {
      "cell_type": "code",
      "source": [
        "#very important example: read the comments to understand the output\n",
        "class Pes:\n",
        "  def __new__(self,a,b):\n",
        "    print(\"new called\")\n",
        "    self.x=100\n",
        "    self.y=200\n",
        "    print(\"x, y=\", self.x,self.y)\n",
        "    return object.__new__(self)         #__new__ takes in only 1 argument, object.__new__(self,x,y) is invalid\n",
        "  def __init__(self,a,b):                       #__init__ is an instance method that initializes a newly created object's attributes.\n",
        "    print(\"constructor of Pes called\")\n",
        "    self.x=a\n",
        "    self.y=b\n",
        "    print(\"printing x,y inside __init__\",self.x,self.y)\n",
        "  def classroom(self):\n",
        "    print(\"inside class\")\n",
        "\n",
        "Pes.classroom(Pes)            #no object is created, Pes is a class, not an object, hence no constructor's are executed\n",
        "r=Pes(10,20)"
      ],
      "metadata": {
        "colab": {
          "base_uri": "https://localhost:8080/"
        },
        "id": "YnIp3i4FTkaC",
        "outputId": "c08794dd-0b82-4b27-96fd-1e09029de00c"
      },
      "execution_count": null,
      "outputs": [
        {
          "output_type": "stream",
          "name": "stdout",
          "text": [
            "inside class\n",
            "new called\n",
            "x, y= 100 200\n",
            "constructor of Pes called\n",
            "printing x,y inside __init__ 10 20\n"
          ]
        }
      ]
    },
    {
      "cell_type": "code",
      "source": [
        "#recap example #recap example of shorthand method used to call built-in functions\n",
        "str1=\"check this\"\n",
        "print(str1.upper())\n",
        "print(str.upper(str1))"
      ],
      "metadata": {
        "colab": {
          "base_uri": "https://localhost:8080/"
        },
        "id": "cPffxjVcZnpB",
        "outputId": "9c1fa54e-faad-4eae-8bbd-3ade12791bee"
      },
      "execution_count": null,
      "outputs": [
        {
          "output_type": "stream",
          "name": "stdout",
          "text": [
            "CHECK THIS\n",
            "CHECK THIS\n"
          ]
        }
      ]
    },
    {
      "cell_type": "code",
      "source": [
        "#recap example of shorthand method used to call built-in functions\n",
        "lst1=[1,2,3,4]\n",
        "list.append(lst1,5)             # same as list.append(5)\n",
        "print(lst1)"
      ],
      "metadata": {
        "colab": {
          "base_uri": "https://localhost:8080/"
        },
        "id": "0JpXId1KaGSl",
        "outputId": "3cf5c5ae-0dd7-4d94-dad5-850f1b84935e"
      },
      "execution_count": null,
      "outputs": [
        {
          "output_type": "stream",
          "name": "stdout",
          "text": [
            "[1, 2, 3, 4, 5]\n"
          ]
        }
      ]
    },
    {
      "cell_type": "markdown",
      "source": [
        "# attributes(variables) and their scopes\n",
        "* class attributes\n",
        "* object attributes\n",
        "* function attributes"
      ],
      "metadata": {
        "id": "QKxquPkMG-t6"
      }
    },
    {
      "cell_type": "code",
      "source": [
        "class Pes:\n",
        "  x=100                  #class variable/attribute\n",
        "  y=200                  #class attribute\n",
        "  def __init__(self,a,b):\n",
        "   print(\"values of x and y before assignment\",self.x,self.y)\n",
        "   self.x=a              #instance variable/attribute\n",
        "   self.y=b              #instance variable/attribute\n",
        "   print(\"object for class Pes is created\",self.x,self.y)\n",
        "  def classroom(self):\n",
        "    print(\"inside clasroom\",self.x,self.y)\n",
        "  def canteen(i,j):               #this function will not refer to any object, its just normal function\n",
        "    print(\"in canteen\",i,j)\n",
        "#--main code-----\n",
        "p=Pes(3,5)\n",
        "p.classroom()\n",
        "Pes.classroom(p)\n",
        "p.canteen('check','this')       #throws error because it requires 1 default object name as parameter\n",
        "Pes.canteen(99,88)            #not need of object to be created to call this fucntion, just use, classname.function(parameters)\n",
        "#q=Pes(10,20)\n",
        "#Pes.classroom(q)"
      ],
      "metadata": {
        "id": "0nM8Df9n6Z8e",
        "colab": {
          "base_uri": "https://localhost:8080/",
          "height": 315
        },
        "outputId": "a8af61a5-0cc0-44d0-b297-98f5bb2cc3e6"
      },
      "execution_count": null,
      "outputs": [
        {
          "output_type": "stream",
          "name": "stdout",
          "text": [
            "values of x and y before assignment 100 200\n",
            "object for class Pes is created 3 5\n",
            "inside clasroom 3 5\n",
            "inside clasroom 3 5\n"
          ]
        },
        {
          "output_type": "error",
          "ename": "TypeError",
          "evalue": "ignored",
          "traceback": [
            "\u001b[0;31m---------------------------------------------------------------------------\u001b[0m",
            "\u001b[0;31mTypeError\u001b[0m                                 Traceback (most recent call last)",
            "\u001b[0;32m<ipython-input-69-efc129b16aea>\u001b[0m in \u001b[0;36m<cell line: 17>\u001b[0;34m()\u001b[0m\n\u001b[1;32m     15\u001b[0m \u001b[0mp\u001b[0m\u001b[0;34m.\u001b[0m\u001b[0mclassroom\u001b[0m\u001b[0;34m(\u001b[0m\u001b[0;34m)\u001b[0m\u001b[0;34m\u001b[0m\u001b[0;34m\u001b[0m\u001b[0m\n\u001b[1;32m     16\u001b[0m \u001b[0mPes\u001b[0m\u001b[0;34m.\u001b[0m\u001b[0mclassroom\u001b[0m\u001b[0;34m(\u001b[0m\u001b[0mp\u001b[0m\u001b[0;34m)\u001b[0m\u001b[0;34m\u001b[0m\u001b[0;34m\u001b[0m\u001b[0m\n\u001b[0;32m---> 17\u001b[0;31m \u001b[0mp\u001b[0m\u001b[0;34m.\u001b[0m\u001b[0mcanteen\u001b[0m\u001b[0;34m(\u001b[0m\u001b[0;34m'check'\u001b[0m\u001b[0;34m,\u001b[0m\u001b[0;34m'this'\u001b[0m\u001b[0;34m)\u001b[0m       \u001b[0;31m#throws error because it requires 1 default object name as parameter\u001b[0m\u001b[0;34m\u001b[0m\u001b[0;34m\u001b[0m\u001b[0m\n\u001b[0m\u001b[1;32m     18\u001b[0m \u001b[0mPes\u001b[0m\u001b[0;34m.\u001b[0m\u001b[0mcanteen\u001b[0m\u001b[0;34m(\u001b[0m\u001b[0;36m99\u001b[0m\u001b[0;34m,\u001b[0m\u001b[0;36m88\u001b[0m\u001b[0;34m)\u001b[0m            \u001b[0;31m#not need of object to be created to call this fucntion, just use, classname.function(parameters)\u001b[0m\u001b[0;34m\u001b[0m\u001b[0;34m\u001b[0m\u001b[0m\n\u001b[1;32m     19\u001b[0m \u001b[0;31m#q=Pes(10,20)\u001b[0m\u001b[0;34m\u001b[0m\u001b[0;34m\u001b[0m\u001b[0m\n",
            "\u001b[0;31mTypeError\u001b[0m: Pes.canteen() takes 2 positional arguments but 3 were given"
          ]
        }
      ]
    },
    {
      "cell_type": "code",
      "source": [
        "class Sample:\n",
        "\tdef __init__(self,p,q):           #initializer\n",
        "\t\tprint(\"in constructor\")\n",
        "\t\tself.a=p\t\t#These  a and b are instance variables for every instance, memory is allocated for a and b\n",
        "\t\tself.b=q\n",
        "\tdef  disp(self):\n",
        "\t\tprint (\"in display\")\n",
        "\t\tprint(self.a,\"---\",self.b)\n",
        "s1=Sample(15,89)\t#constructor called"
      ],
      "metadata": {
        "colab": {
          "base_uri": "https://localhost:8080/"
        },
        "id": "bSMJMxh8BLVB",
        "outputId": "8c1b7d88-8f7b-4a69-86e3-794327755541"
      },
      "execution_count": null,
      "outputs": [
        {
          "output_type": "stream",
          "name": "stdout",
          "text": [
            "in constructor\n"
          ]
        }
      ]
    },
    {
      "cell_type": "code",
      "source": [
        "#example 1: to create class,and object\n",
        "class Sample: \t\t\t#leader    ,   class is the keyword,#entity is Sample\n",
        "  def  disp(self):\n",
        "    print (\"in display\")\n",
        "                                          #instantiating an object\n",
        "s1=Sample()\n",
        "#When you instantiate the object, __init__() is called implicitly.\n",
        "#This is called constructor function in python,\n",
        "#If we add one, then the added __init__() is called. See below code\n",
        "#disp()\t\t\t#NameError\n",
        "# all the attributes of class and methods of class are available using\n",
        "#instance name\n",
        "s1.disp()"
      ],
      "metadata": {
        "colab": {
          "base_uri": "https://localhost:8080/"
        },
        "id": "48N8226qHUbE",
        "outputId": "d4765fbc-b9b4-48a7-aeff-94a9993e821a"
      },
      "execution_count": null,
      "outputs": [
        {
          "output_type": "stream",
          "name": "stdout",
          "text": [
            "in display\n"
          ]
        }
      ]
    },
    {
      "cell_type": "markdown",
      "source": [
        "# Destructor\n",
        "* Run Destructor examples in your systems using cmd mode of IDLE mode"
      ],
      "metadata": {
        "id": "QcdDZaCZHasq"
      }
    },
    {
      "cell_type": "code",
      "source": [
        "#constructor  __int__()\n",
        "#destructor   __del__()"
      ],
      "metadata": {
        "id": "5J8UKRbuIdOD"
      },
      "execution_count": null,
      "outputs": []
    },
    {
      "cell_type": "code",
      "source": [
        "class Pes:\n",
        "  def __new__(self):\n",
        "    print(\"inside new constructor\")\n",
        "    return object.__new__(self)\n",
        "  def __init__(self):\n",
        "    print(\"inside init constructor\")\n",
        "  def classroom(self):\n",
        "    print(\"inside classroom\")\n",
        "  def canteen(self):\n",
        "    print(\"in canteen\")\n",
        "  def __del__(self):\n",
        "    print(\"descrutcor called\")\n",
        "\n",
        "#main code\n",
        "p=Pes()\n",
        "del p"
      ],
      "metadata": {
        "colab": {
          "base_uri": "https://localhost:8080/"
        },
        "id": "QAIKzTQ2RTmJ",
        "outputId": "c5a04c00-6cc8-4043-a91d-1c439d66ad83"
      },
      "execution_count": null,
      "outputs": [
        {
          "output_type": "stream",
          "name": "stdout",
          "text": [
            "inside new constructor\n",
            "inside init constructor\n",
            "descrutcor called\n"
          ]
        }
      ]
    },
    {
      "cell_type": "code",
      "source": [
        "class Sample:\n",
        "  def __init__(self):\n",
        "    print(\"in constructor\")\n",
        "  def disp(self):\n",
        "    print(\"inside display\")\n",
        "  def __del__(self):\n",
        "    print(\"in destructor\")\n",
        "s2=Sample()\n",
        "print(\"type of s1=\",type(s2))\n",
        "s2.disp()\n",
        "s3=Sample()\n",
        "s3.disp()           #please run destructor examples in IDLE"
      ],
      "metadata": {
        "colab": {
          "base_uri": "https://localhost:8080/"
        },
        "id": "Dm6xYh9kJ-pF",
        "outputId": "bde755af-03d7-40d4-e9e4-07b28db77c08"
      },
      "execution_count": null,
      "outputs": [
        {
          "output_type": "stream",
          "name": "stdout",
          "text": [
            "in constructor\n",
            "type of s1= <class '__main__.Sample'>\n",
            "inside display\n",
            "in constructor\n",
            "inside display\n"
          ]
        }
      ]
    },
    {
      "cell_type": "markdown",
      "source": [
        "#@staticmethod"
      ],
      "metadata": {
        "id": "kJPLfvrsIlKp"
      }
    },
    {
      "cell_type": "code",
      "source": [
        "#usage of @staticmethod\n",
        "class Pes:\n",
        "  def __new__(self):\n",
        "    print(\"inside new constructor\")\n",
        "    return object.__new__(self)\n",
        "  def __init__(self):\n",
        "    print(\"inside init constructor\")\n",
        "  def classroom(self):\n",
        "    print(\"inside classroom\")\n",
        "  @staticmethod\n",
        "  def canteen():\n",
        "    print(\"in canteen\")\n",
        "\n",
        "#main code\n",
        "p=Pes()\n",
        "p.classroom()\n",
        "p.canteen()"
      ],
      "metadata": {
        "id": "XsMeHkJvQIHe",
        "colab": {
          "base_uri": "https://localhost:8080/"
        },
        "outputId": "528430cd-ea12-4ab9-c950-6e17ccc53bde"
      },
      "execution_count": null,
      "outputs": [
        {
          "output_type": "stream",
          "name": "stdout",
          "text": [
            "inside new constructor\n",
            "inside init constructor\n",
            "inside classroom\n",
            "in canteen\n"
          ]
        }
      ]
    },
    {
      "cell_type": "code",
      "source": [
        "p.classroom()"
      ],
      "metadata": {
        "id": "guZXUEK8TA2b"
      },
      "execution_count": null,
      "outputs": []
    },
    {
      "cell_type": "markdown",
      "source": [
        "#hasattr(object_name/class_name,\"attribute_name\")\n",
        "* return either True or False"
      ],
      "metadata": {
        "id": "WB1tIAY_I944"
      }
    },
    {
      "cell_type": "code",
      "source": [
        "#understand the code and output\n",
        "class demo:\n",
        "  i=100\n",
        "  def disp(self,a,b):\n",
        "    self.a=\"python\"\n",
        "    self.b=\"programming\"\n",
        "    demo.dd=\"confusing\"\n",
        "    k=20\n",
        "    print(\"a,b=\",self.a,self.b,k)\n",
        "\n",
        "#main code\n",
        "d=demo()\n",
        "print(hasattr(d,\"i\"))"
      ],
      "metadata": {
        "colab": {
          "base_uri": "https://localhost:8080/"
        },
        "outputId": "e86c2343-7399-4975-fd25-95afe35da01f",
        "id": "KytAhDA9Mwpp"
      },
      "execution_count": null,
      "outputs": [
        {
          "output_type": "stream",
          "name": "stdout",
          "text": [
            "True\n"
          ]
        }
      ]
    },
    {
      "cell_type": "code",
      "source": [
        "print(hasattr(demo,\"i\"))"
      ],
      "metadata": {
        "colab": {
          "base_uri": "https://localhost:8080/"
        },
        "id": "QjgAwZ6PJypj",
        "outputId": "ec586263-8db7-454e-f104-9d294a4f6318"
      },
      "execution_count": null,
      "outputs": [
        {
          "output_type": "stream",
          "name": "stdout",
          "text": [
            "True\n"
          ]
        }
      ]
    },
    {
      "cell_type": "code",
      "source": [
        "print(hasattr(d,\"j\"))"
      ],
      "metadata": {
        "colab": {
          "base_uri": "https://localhost:8080/"
        },
        "id": "Gx-zZewtKY8Y",
        "outputId": "5df4af80-523a-4e06-8c68-2199bcabfc5a"
      },
      "execution_count": null,
      "outputs": [
        {
          "output_type": "stream",
          "name": "stdout",
          "text": [
            "False\n"
          ]
        }
      ]
    },
    {
      "cell_type": "markdown",
      "source": [
        "#getattr(classname/object_name,\"attribute_name\")\n",
        "* returns value of the attribute if present\n",
        "* else gives attribute error"
      ],
      "metadata": {
        "id": "bBxU6bavJcWZ"
      }
    },
    {
      "cell_type": "code",
      "source": [
        "#understand the code and output\n",
        "class demo:\n",
        "  i=100\n",
        "  def disp(self,a,b):\n",
        "    self.a=\"python\"\n",
        "    self.b=\"programming\"\n",
        "    demo.dd=\"confusing\"\n",
        "    k=20\n",
        "    print(\"a,b=\",self.a,self.b,k)\n",
        "\n",
        "#main code\n",
        "d=demo()"
      ],
      "metadata": {
        "id": "neMbMYDYM1wv"
      },
      "execution_count": null,
      "outputs": []
    },
    {
      "cell_type": "code",
      "source": [
        "print(getattr(demo,\"i\"))"
      ],
      "metadata": {
        "colab": {
          "base_uri": "https://localhost:8080/"
        },
        "id": "gNnWEqqqbzsA",
        "outputId": "1f9eafdf-e0cd-49f8-cef7-d201f1aa5f56"
      },
      "execution_count": null,
      "outputs": [
        {
          "output_type": "stream",
          "name": "stdout",
          "text": [
            "100\n"
          ]
        }
      ]
    },
    {
      "cell_type": "code",
      "source": [
        "print(getattr(d,\"j\"))           #getattr throws error if attribute is not present"
      ],
      "metadata": {
        "colab": {
          "base_uri": "https://localhost:8080/",
          "height": 179
        },
        "id": "hKmgWzsBJrQN",
        "outputId": "6c2f2272-ca86-46f7-8953-4a2012695989"
      },
      "execution_count": null,
      "outputs": [
        {
          "output_type": "error",
          "ename": "AttributeError",
          "evalue": "ignored",
          "traceback": [
            "\u001b[0;31m---------------------------------------------------------------------------\u001b[0m",
            "\u001b[0;31mAttributeError\u001b[0m                            Traceback (most recent call last)",
            "\u001b[0;32m<ipython-input-14-afafdfb59f66>\u001b[0m in \u001b[0;36m<cell line: 1>\u001b[0;34m()\u001b[0m\n\u001b[0;32m----> 1\u001b[0;31m \u001b[0mprint\u001b[0m\u001b[0;34m(\u001b[0m\u001b[0mgetattr\u001b[0m\u001b[0;34m(\u001b[0m\u001b[0md\u001b[0m\u001b[0;34m,\u001b[0m\u001b[0;34m\"j\"\u001b[0m\u001b[0;34m)\u001b[0m\u001b[0;34m)\u001b[0m\u001b[0;34m\u001b[0m\u001b[0;34m\u001b[0m\u001b[0m\n\u001b[0m",
            "\u001b[0;31mAttributeError\u001b[0m: 'demo' object has no attribute 'j'"
          ]
        }
      ]
    },
    {
      "cell_type": "markdown",
      "source": [
        "#setattr(class_name/object_name,\"attribute_name\",value)\n",
        "* updates the value of the attribute if present\n",
        "* creates new variable and assigns the given value if the attribute is not present"
      ],
      "metadata": {
        "id": "dn6zAiI1Komh"
      }
    },
    {
      "cell_type": "code",
      "source": [
        "#understand the code and output\n",
        "class demo:\n",
        "  i=100\n",
        "  def disp(self,a,b):\n",
        "    self.a=\"python\"\n",
        "    self.b=\"programming\"\n",
        "    demo.dd=\"confusing\"\n",
        "    k=20\n",
        "    print(\"a,b=\",self.a,self.b,k)\n",
        "\n",
        "#main code\n",
        "d=demo()"
      ],
      "metadata": {
        "id": "5gOpRvKaMp48"
      },
      "execution_count": null,
      "outputs": []
    },
    {
      "cell_type": "code",
      "source": [
        "setattr(d,\"j\",\"python programming\")\n",
        "print(d.j)"
      ],
      "metadata": {
        "colab": {
          "base_uri": "https://localhost:8080/"
        },
        "id": "O2C61NiqckWd",
        "outputId": "882ef9c3-f0d5-477f-f796-aa6e2f668a31"
      },
      "execution_count": null,
      "outputs": [
        {
          "output_type": "stream",
          "name": "stdout",
          "text": [
            "python programming\n"
          ]
        }
      ]
    },
    {
      "cell_type": "code",
      "source": [
        "setattr(demo,\"k\",\"new class attribute\")\n",
        "print(demo.k)"
      ],
      "metadata": {
        "colab": {
          "base_uri": "https://localhost:8080/"
        },
        "id": "mCMQ618SLIFo",
        "outputId": "a632fb11-6b56-4af3-8aca-2432230749e7"
      },
      "execution_count": null,
      "outputs": [
        {
          "output_type": "stream",
          "name": "stdout",
          "text": [
            "new class attribute\n"
          ]
        }
      ]
    },
    {
      "cell_type": "markdown",
      "source": [
        "#private variable (name mangling)"
      ],
      "metadata": {
        "id": "S8WCYgM4lXgr"
      }
    },
    {
      "cell_type": "markdown",
      "source": [
        "* To avoid conflicts of attribute names between classes"
      ],
      "metadata": {
        "id": "51XR9vSwl669"
      }
    },
    {
      "cell_type": "code",
      "source": [
        "class Pesu:\n",
        "  __a=100\n",
        "  def __init__(self):\n",
        "    self.__b=\"python\"\n",
        "    self.c=\"program\"\n",
        "# main code------------\n",
        "p=Pesu()\n",
        "print(\"__a=\",p._Pesu__a)\n",
        "print(\"__b=\",p._Pesu__b)\n",
        "print(\"c=\",p.c)"
      ],
      "metadata": {
        "colab": {
          "base_uri": "https://localhost:8080/"
        },
        "id": "dpOVGpW_ZwxC",
        "outputId": "a419d348-c5fc-4141-a5a1-625747be2c32"
      },
      "execution_count": null,
      "outputs": [
        {
          "output_type": "stream",
          "name": "stdout",
          "text": [
            "__a= 100\n",
            "c= program\n"
          ]
        }
      ]
    },
    {
      "cell_type": "code",
      "source": [
        "#Example: to access class attribute that begins with __\n",
        "class A:\n",
        "\tj=12\n",
        "\t__i =10\n",
        "\n",
        "#-----------main code-------------\n",
        "print(\"Outside class\",A.j)\n",
        "#print(\"Outside\",A.__i)\t#AttributeError\n",
        "#proper way to access private variable\n",
        "print(\"Outside\",A._A__i)                        #className._className__variable    here, _classname or _variable_name means for internal use like temporary variable kind"
      ],
      "metadata": {
        "id": "wMD3JJ-tlZzS"
      },
      "execution_count": null,
      "outputs": []
    },
    {
      "cell_type": "code",
      "source": [
        "#accessig instance/object attribute that beings with __\n",
        "class Python:\n",
        "  __a=\"PESU\"\n",
        "  def __init__(self,s,b):\n",
        "    self.__section=s\n",
        "    self.bacth=b\n",
        "p=Python(\"O-section\",\"PESSAT\")\n",
        "print(p.bacth)\n",
        "#print(p.__section)\t\t#AttributeError\n",
        "print(p._Python__section)\t\t                #instanceName._className__instanceVariable\n",
        "print(p._Python__a)"
      ],
      "metadata": {
        "colab": {
          "base_uri": "https://localhost:8080/"
        },
        "id": "AyQYmTejm5S8",
        "outputId": "3e47decd-46cb-45ed-e9ad-f2e2c3c949d0"
      },
      "execution_count": null,
      "outputs": [
        {
          "output_type": "stream",
          "name": "stdout",
          "text": [
            "PESSAT\n",
            "O-section\n",
            "PESU\n"
          ]
        }
      ]
    },
    {
      "cell_type": "markdown",
      "source": [
        "#coding examples"
      ],
      "metadata": {
        "id": "zdReyk-JLne2"
      }
    },
    {
      "cell_type": "code",
      "source": [
        "#programming example that was given in the class to code\n",
        "class student:\n",
        "  name=\"\"\n",
        "  usn=\"\"\n",
        "  srn=\"\"\n",
        "  def __init__(self,a,b,c):\n",
        "    student.name=a\n",
        "    student.usn=b\n",
        "    student.srn=c\n",
        "  def disp(self):\n",
        "    print(self.name,self.usn,self.srn)\n",
        "#main code\n",
        "a=input(\"enter name\")\n",
        "b=input(\"enter srn\")\n",
        "c=input(\"enter usn\")\n",
        "d=int(input(\"enter marks\"))\n",
        "s=student(a,b,c)\n",
        "if( not hasattr(s,\"marks\")):\n",
        "  s.marks=0.0\n",
        "s.marks=d\n",
        "s.disp()"
      ],
      "metadata": {
        "id": "qu868lFdgZ3x",
        "colab": {
          "base_uri": "https://localhost:8080/"
        },
        "outputId": "dfad746f-b9b5-4a82-fb2e-3cb4383907f3"
      },
      "execution_count": null,
      "outputs": [
        {
          "output_type": "stream",
          "name": "stdout",
          "text": [
            "enter namepython\n",
            "enter srn1ue23cs151a\n",
            "enter usn151\n",
            "enter marks120\n",
            "python 1ue23cs151a 151\n"
          ]
        }
      ]
    },
    {
      "cell_type": "code",
      "source": [
        "#understand the code and output\n",
        "class demo:\n",
        "  i=100\n",
        "  def disp(self,a,b):\n",
        "    self.a=\"python\"\n",
        "    self.b=\"programming\"\n",
        "    demo.dd=\"confusing\"\n",
        "    k=20\n",
        "    print(\"a,b=\",self.a,self.b,k)\n",
        "\n",
        "#main code\n",
        "d=demo()\n",
        "d.disp(\"c\",\"programming\")\n",
        "print(\"i value using object d=\",d.i)\n",
        "d.c=\"is fun\"\n",
        "print(\"c =\",d.c)\n",
        "print(\"dd vaue using object d \",d.dd)\n",
        "demo.e=\"my brain\"\n",
        "print(\"e value using object d=\",d.e)"
      ],
      "metadata": {
        "id": "mSGqcWf-UZfp",
        "colab": {
          "base_uri": "https://localhost:8080/"
        },
        "outputId": "3ccdad16-4f46-42df-efdc-4f7e8c5c5c8c"
      },
      "execution_count": null,
      "outputs": [
        {
          "output_type": "stream",
          "name": "stdout",
          "text": [
            "a,b= python programming 20\n",
            "i value using object d= 100\n",
            "c = is fun\n",
            "dd vaue using object d  confusing\n",
            "e value using object d= my brain\n"
          ]
        }
      ]
    },
    {
      "cell_type": "code",
      "source": [
        "#example for creating multiple objects with different initial values\n",
        "class Sample:\n",
        "\tdef __init__(self,p,q):\n",
        "\t\tprint(\"in constructor\")\n",
        "\t\tself.a=p\t\t#These  a and b are instance variables for every instance, memory is allocated for a and b\n",
        "\t\tself.b=q\n",
        "\tdef  disp(self):\n",
        "\t\tprint (\"in display\")\n",
        "\t\tprint(self.a,\"---\",self.b)\n",
        "s1=Sample(15,89)\t#constructor called\n",
        "s2=Sample(16,90)\t#constructor called\n",
        "s1.disp()\n",
        "s2.disp()"
      ],
      "metadata": {
        "colab": {
          "base_uri": "https://localhost:8080/"
        },
        "id": "zPg3FzsULldQ",
        "outputId": "4f1aa96d-1141-4cc5-8f76-f601fea765ae"
      },
      "execution_count": null,
      "outputs": [
        {
          "output_type": "stream",
          "name": "stdout",
          "text": [
            "in constructor\n",
            "in constructor\n",
            "in display\n",
            "15 --- 89\n",
            "in display\n",
            "16 --- 90\n"
          ]
        }
      ]
    },
    {
      "cell_type": "code",
      "source": [
        "#example to understand the difference in output seen\n",
        "class demo:\n",
        "  def __init__(python,a,b):     #python---- a dummy name for the obejct being referred\n",
        "    python.a=a\n",
        "    python.b=b\n",
        "  def display(program):\n",
        "    print(program.a,program.b)\n",
        "d=demo(100,200)\n",
        "d.display()\n",
        "d.a=400                   #to modify the variable values inside the object\n",
        "d.display()"
      ],
      "metadata": {
        "colab": {
          "base_uri": "https://localhost:8080/"
        },
        "id": "YyFNvtK6N6kI",
        "outputId": "eb756580-cc1f-4ac2-e453-7420445ee647"
      },
      "execution_count": null,
      "outputs": [
        {
          "output_type": "stream",
          "name": "stdout",
          "text": [
            "100 200\n",
            "400 200\n"
          ]
        }
      ]
    },
    {
      "cell_type": "code",
      "source": [
        "#example to understand the difference in output seen\n",
        "class Pes:\n",
        "  x=100\n",
        "  y=200\n",
        "  def __init__(self,a,b):\n",
        "    print(\"executing init constructor\")\n",
        "    self.x=a\n",
        "    self.y=b\n",
        "    print(self.x,self.y)\n",
        "  def classroom(self,a,b):\n",
        "    self.x=a\n",
        "    self.y=b\n",
        "    print(\"inside classroom\")\n",
        "    print(self.x,self.y)\n",
        "  def canteen():\n",
        "    print(\"in canteen\")\n",
        "p=Pes(5,6)\n",
        "Pes.classroom(p,1,1)            #p.classroom()\n",
        "p.x=999\n",
        "p.y=888\n",
        "print(p.x,p.y)\n",
        "#print(\"size of class Pes\",Pes.__sizeof__(Pes))\n",
        "#print(\"size of object p\",p.__sizeof__())\n",
        "#Pes.classroom(p)\n",
        "Pes.canteen()"
      ],
      "metadata": {
        "colab": {
          "base_uri": "https://localhost:8080/"
        },
        "id": "ZNAJVz0ISlGp",
        "outputId": "f829dc37-b9ef-4af0-925b-e8211acaee04"
      },
      "execution_count": null,
      "outputs": [
        {
          "output_type": "stream",
          "name": "stdout",
          "text": [
            "executing init constructor\n",
            "5 6\n",
            "inside classroom\n",
            "1 1\n",
            "999 888\n",
            "in canteen\n"
          ]
        }
      ]
    },
    {
      "cell_type": "code",
      "source": [
        "class Pes:\n",
        "  def __init__(self):\n",
        "    print(\"init constructor called\")\n",
        "  def __new__(self):\n",
        "    print(\"new constructor is called\")\n",
        "    return object.__new__(self)\n",
        "  def classroom(self):\n",
        "    print(\"inside classroom\")\n",
        "  def canteeen():\n",
        "    print(\"in canteen\")\n",
        "  def working(self):\n",
        "    print(\"class in working\")\n",
        "  def your_brain(self):\n",
        "    print(\"brain is still working\")\n",
        "\n",
        "p=Pes()\n",
        "p.classroom()\n",
        "print(\"type of Pes\",type(Pes))\n",
        "print(\"type of object p\",type(p))"
      ],
      "metadata": {
        "colab": {
          "base_uri": "https://localhost:8080/"
        },
        "id": "c1hCxSrYc2d4",
        "outputId": "d11e9b85-3560-492b-8ba9-7a019b3c4b3e"
      },
      "execution_count": null,
      "outputs": [
        {
          "output_type": "stream",
          "name": "stdout",
          "text": [
            "new constructor is called\n",
            "init constructor called\n",
            "inside classroom\n",
            "type of Pes <class 'type'>\n",
            "type of object p <class '__main__.Pes'>\n"
          ]
        }
      ]
    }
  ]
}