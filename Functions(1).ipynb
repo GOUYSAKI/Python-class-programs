{
  "nbformat": 4,
  "nbformat_minor": 0,
  "metadata": {
    "colab": {
      "provenance": []
    },
    "kernelspec": {
      "name": "python3",
      "display_name": "Python 3"
    },
    "language_info": {
      "name": "python"
    }
  },
  "cells": [
    {
      "cell_type": "code",
      "execution_count": null,
      "metadata": {
        "id": "bwDgoAnTomPQ"
      },
      "outputs": [],
      "source": []
    },
    {
      "cell_type": "markdown",
      "source": [
        "# Functions"
      ],
      "metadata": {
        "id": "M1LCDBi-pbo4"
      }
    },
    {
      "cell_type": "code",
      "source": [
        "def f1():\t\t#Leader is processed . means added to symbol table\n",
        "\tprint(\"in f1\")\n",
        "\treturn \"Cool day\"\n",
        "k=f1()     #f1() is function call. Cool day is returned and stored in k\n",
        "print(k)"
      ],
      "metadata": {
        "colab": {
          "base_uri": "https://localhost:8080/"
        },
        "id": "yVTNCcIEpelQ",
        "outputId": "ef4e5727-65f7-4e50-94b0-606146ced8a8"
      },
      "execution_count": 1,
      "outputs": [
        {
          "output_type": "stream",
          "name": "stdout",
          "text": [
            "in f1\n",
            "Cool day\n"
          ]
        }
      ]
    },
    {
      "cell_type": "code",
      "source": [
        "f1()\t\t\t# f1 not available in symbol table. So it is an error\n",
        "def f1():\n",
        "\tprint(\"in f1\")\n",
        "\treturn \"Cool day\""
      ],
      "metadata": {
        "colab": {
          "base_uri": "https://localhost:8080/"
        },
        "id": "RpdBXXzfpiW4",
        "outputId": "d2a4bc8c-2f8f-4a0a-d0f5-d63377f0c836"
      },
      "execution_count": 2,
      "outputs": [
        {
          "output_type": "stream",
          "name": "stdout",
          "text": [
            "in f1\n"
          ]
        }
      ]
    },
    {
      "cell_type": "code",
      "source": [
        "#function is overridden when duplicate functions are used. No concept of function overloading in python\n",
        "def f1():\t\t\t#added to symbol table\n",
        "\tprint(\"in f1\")\n",
        "\treturn \"Cool day\"\n",
        "def f1(x):\t\t\t# since the functions have same name, the function above is replaced with this in the symbol table with parameters added\n",
        "\tprint(\"f1 is\",x)\n",
        "#f1()\t\t#Error\n",
        "f1(\"pes\")"
      ],
      "metadata": {
        "id": "UpUpD4nrpnRA"
      },
      "execution_count": null,
      "outputs": []
    },
    {
      "cell_type": "code",
      "source": [
        "def f1():\n",
        "\tprint(\"in f1\")\n",
        "k=f1()\n",
        "print(f1)\t\t#prints function address. This is not a call\n",
        "print(k)\t\t#prints None"
      ],
      "metadata": {
        "colab": {
          "base_uri": "https://localhost:8080/"
        },
        "id": "GGbhlgGupsln",
        "outputId": "3540f7e3-6a4d-4b18-ea3d-15618e19604e"
      },
      "execution_count": 8,
      "outputs": [
        {
          "output_type": "stream",
          "name": "stdout",
          "text": [
            "in f1\n",
            "<function f1 at 0x7ce2a047f130>\n",
            "None\n"
          ]
        }
      ]
    },
    {
      "cell_type": "markdown",
      "source": [
        "# Global-Local_Variable"
      ],
      "metadata": {
        "id": "cLBi6eZjqPp5"
      }
    },
    {
      "cell_type": "code",
      "source": [
        "x=10\n",
        "print(\"global first outside\",x)\n",
        "def f1():\n",
        "\tx=11\t\t#local variable x. Life and scope is only within this function\n",
        "\tprint(\"inside\",x)\n",
        "f1()\n",
        "print(\"global second outside\",x)"
      ],
      "metadata": {
        "colab": {
          "base_uri": "https://localhost:8080/"
        },
        "id": "mk0bI7HXqTi3",
        "outputId": "390bdf6d-54de-4032-8c14-8972ff4f7e95"
      },
      "execution_count": 9,
      "outputs": [
        {
          "output_type": "stream",
          "name": "stdout",
          "text": [
            "global first outside 10\n",
            "inside 11\n",
            "global second outside 10\n"
          ]
        }
      ]
    },
    {
      "cell_type": "code",
      "source": [
        "x=10\n",
        "print(\"global first outside\",x)\n",
        "def f1():\n",
        "\tx=12\t\t#x and y both are local variables, cannot be accessed outside the function\n",
        "\ty=20\n",
        "\tprint(\"inside\",x,y)\n",
        "f1()\n",
        "#print(\"outside\",y)   #NameError\n",
        "#print(\"outside\",x,y)\t# NameError"
      ],
      "metadata": {
        "colab": {
          "base_uri": "https://localhost:8080/"
        },
        "id": "49DvrFyeqahg",
        "outputId": "76867d8a-5a1f-48ba-8cea-308ba054ed77"
      },
      "execution_count": 10,
      "outputs": [
        {
          "output_type": "stream",
          "name": "stdout",
          "text": [
            "global first outside 10\n",
            "inside 12 20\n"
          ]
        }
      ]
    },
    {
      "cell_type": "code",
      "source": [
        "x=10\n",
        "def f1():\n",
        "\ty=20\t\t#y and sum both are local variables\n",
        "\tsum=x+y\n",
        "\treturn sum\n",
        "print(\"sum is\",f1())"
      ],
      "metadata": {
        "colab": {
          "base_uri": "https://localhost:8080/"
        },
        "id": "cbE5wi2zqrZf",
        "outputId": "77d21493-fd05-4805-9fde-ad95bbf2cb64"
      },
      "execution_count": 11,
      "outputs": [
        {
          "output_type": "stream",
          "name": "stdout",
          "text": [
            "sum is 30\n"
          ]
        }
      ]
    },
    {
      "cell_type": "markdown",
      "source": [
        "# Global variable"
      ],
      "metadata": {
        "id": "O8tmHjbGqzoR"
      }
    },
    {
      "cell_type": "code",
      "source": [
        "x=10    # Global variable. Can be used anywhere inside this file/code\n",
        "def f1():\n",
        "\tprint(\"inside\",x)\n",
        "f1()\n",
        "print(\"outside\",x)"
      ],
      "metadata": {
        "colab": {
          "base_uri": "https://localhost:8080/"
        },
        "id": "Hk0OBQOTq3-Y",
        "outputId": "fffbf6c0-8481-4b0c-a290-d78b757bd84a"
      },
      "execution_count": 12,
      "outputs": [
        {
          "output_type": "stream",
          "name": "stdout",
          "text": [
            "inside 10\n",
            "outside 10\n"
          ]
        }
      ]
    },
    {
      "cell_type": "code",
      "source": [
        "x=10\n",
        "print(x)\n",
        "def f1():\n",
        "\tx=x+1\t\t#UnboundLocalError. Global variable is readonly inside a function. We cannot modify the value of that variable inside the function directly\n",
        "\tprint(\"inside\",x)\n",
        "f1()\n",
        "print(\"outside\",x)"
      ],
      "metadata": {
        "id": "fGO7r-HGq7so"
      },
      "execution_count": null,
      "outputs": []
    },
    {
      "cell_type": "code",
      "source": [
        "#If you want to change or modify the global variable inside a function, use global keyword\n",
        "x=10\n",
        "print(\"global first outside\",x)\n",
        "def f1():\n",
        "\tglobal x\n",
        "\tx=x+1\n",
        "\tprint(\"inside\",x)\n",
        "f1()\n",
        "print(\"global second outside\",x)"
      ],
      "metadata": {
        "colab": {
          "base_uri": "https://localhost:8080/"
        },
        "id": "JP1WKfudq-6o",
        "outputId": "98d22076-fe31-4011-9f33-e2e4b2f26c11"
      },
      "execution_count": 14,
      "outputs": [
        {
          "output_type": "stream",
          "name": "stdout",
          "text": [
            "global first outside 10\n",
            "inside 11\n",
            "global second outside 11\n"
          ]
        }
      ]
    },
    {
      "cell_type": "code",
      "source": [
        "x=10\n",
        "print(\"global first outside\",x)\n",
        "def f1():\n",
        "\tx=x+1\t\t#error\n",
        "\tglobal x\n",
        "\tprint(\"inside\",x)\n",
        "f1()\n",
        "print(\"global second outside\",x)"
      ],
      "metadata": {
        "colab": {
          "base_uri": "https://localhost:8080/",
          "height": 158
        },
        "id": "WZUZGOKmrCJn",
        "outputId": "f446d8c5-a12b-4558-9946-41fcdbdd5492"
      },
      "execution_count": 19,
      "outputs": [
        {
          "output_type": "stream",
          "name": "stdout",
          "text": [
            "global first outside 10\n"
          ]
        },
        {
          "output_type": "error",
          "ename": "SyntaxError",
          "evalue": "ignored",
          "traceback": [
            "\u001b[0;36m  File \u001b[0;32m\"<ipython-input-19-7370151d1e58>\"\u001b[0;36m, line \u001b[0;32m5\u001b[0m\n\u001b[0;31m    global x\u001b[0m\n\u001b[0m    ^\u001b[0m\n\u001b[0;31mSyntaxError\u001b[0m\u001b[0;31m:\u001b[0m name 'x' is used prior to global declaration\n"
          ]
        }
      ]
    },
    {
      "cell_type": "markdown",
      "source": [
        "# LIfe-Scope of Local and Global Variables"
      ],
      "metadata": {
        "id": "MYf4Z5K_rfvA"
      }
    },
    {
      "cell_type": "markdown",
      "source": [
        "scope:\n",
        "\n",
        "where we can access; visibility\n",
        "\n",
        "life:\n",
        "\n",
        "existence of the variable\n",
        "\n",
        "When the variable is created and when it will die"
      ],
      "metadata": {
        "id": "tVsnVk4HrogQ"
      }
    },
    {
      "cell_type": "code",
      "source": [
        "a = 100\n",
        "e = 600\n",
        "f = 700\n",
        "\n",
        "h = 1111\n",
        "def check() :\n",
        "\tprint(a) # 100 # global variable\n",
        "\tprint(b) # 200\n",
        "\tc = 30 # local variable\n",
        "\tif c == 30 :\n",
        "\t\td = 40\n",
        "\telse:\n",
        "\t\td = 50\n",
        "\tprint(d) # ok; d is local to the function; no concept of local to a suite of\n",
        "\t# a control structure\n",
        "\te = 60 # local variable\n",
        "\t# cannot directly modify a global variable\n",
        "\t# to access the global variable, for its value, nothing is required\n",
        "\t# to modify a global variable, we should declare that it is global\n",
        "\tglobal f\n",
        "\tf = f+30\n",
        "\tprint(f) #730\n",
        "\n",
        "\n",
        "\n",
        "b = 200\n",
        "check()\n",
        "#print(c) # not defined\n",
        "print(e) # 600\n",
        "print(f) # 730"
      ],
      "metadata": {
        "colab": {
          "base_uri": "https://localhost:8080/"
        },
        "id": "NQ9CjgBzruUW",
        "outputId": "aba0d69b-212c-4ced-a666-7fbc0747e7b6"
      },
      "execution_count": 20,
      "outputs": [
        {
          "output_type": "stream",
          "name": "stdout",
          "text": [
            "100\n",
            "200\n",
            "40\n",
            "730\n",
            "600\n",
            "730\n"
          ]
        }
      ]
    },
    {
      "cell_type": "markdown",
      "source": [
        "# Parameter Passing"
      ],
      "metadata": {
        "id": "vYf7Knmtr0uS"
      }
    },
    {
      "cell_type": "markdown",
      "source": [
        "Arguments:\n",
        "\n",
        "\t* fields used in the call---> arguments .\n",
        "\t* It can be any expression in python\n",
        "Parameters:\n",
        "\n",
        "\t* fields used in the function leader in the function definition\n",
        "\t* It should be a variable\n",
        "\n",
        "parameter passing is always by value in python.\n",
        "\n",
        "The Number of arguments and number of parameters must be same if no default parameters."
      ],
      "metadata": {
        "id": "BDFNbZCQr6su"
      }
    },
    {
      "cell_type": "code",
      "source": [
        "def f1(a,b):\t\t# a and b, both are local variables and positional parameters\n",
        "\tprint(a+b)\n",
        "\"\"\"\n",
        "On the function call, the activation record of f1 is\n",
        "created with a and b as the parameter. The parameter a gets\n",
        "a copy of argument which is 2 and b gets a copy of 3.\n",
        "The parameter is a local variable of the function f1.\n",
        "When the end of the function is reached,\n",
        "the parameter is never copied to the corresponding argument.\n",
        "So, the variable used at the caller side remains unchanged.\n",
        "\"\"\"\n",
        "f1(2,3)\n",
        "#f1(2)\t\t#Error\n",
        "#f1(2,3,4)\t\t#Error"
      ],
      "metadata": {
        "colab": {
          "base_uri": "https://localhost:8080/"
        },
        "id": "xBVVzt5csJhJ",
        "outputId": "81b97a9d-2acf-4835-8ddd-515495d98db3"
      },
      "execution_count": 21,
      "outputs": [
        {
          "output_type": "stream",
          "name": "stdout",
          "text": [
            "5\n"
          ]
        }
      ]
    },
    {
      "cell_type": "code",
      "source": [
        "def f1(a,b):\n",
        "\tprint(a+b)\n",
        "\n",
        "f1(2,3)\n",
        "f1([2,3,4],[5,8,2])"
      ],
      "metadata": {
        "colab": {
          "base_uri": "https://localhost:8080/"
        },
        "id": "uaJxan4ysQLA",
        "outputId": "97d6788e-df2c-4897-da89-20f37fdc8933"
      },
      "execution_count": 22,
      "outputs": [
        {
          "output_type": "stream",
          "name": "stdout",
          "text": [
            "5\n",
            "[2, 3, 4, 5, 8, 2]\n"
          ]
        }
      ]
    },
    {
      "cell_type": "code",
      "source": [
        "#All keyword arguments must follow positional arguments\n",
        "def f1(a,b):\n",
        "\tprint(a,b)\n",
        "\tprint(a+b)\n",
        "\n",
        "f1(b=2,a=3)  #Keyword arguments"
      ],
      "metadata": {
        "colab": {
          "base_uri": "https://localhost:8080/"
        },
        "id": "IgQYDlzTsUdQ",
        "outputId": "29f90d5d-f2bf-4fd5-b4ba-5e85d618e1f3"
      },
      "execution_count": 27,
      "outputs": [
        {
          "output_type": "stream",
          "name": "stdout",
          "text": [
            "3 2\n",
            "5\n"
          ]
        }
      ]
    },
    {
      "cell_type": "code",
      "source": [
        "def f1(a,b):\n",
        "\tprint(a+b)\n",
        "\n",
        "#f1(2,b=3,a=7)   #TypeError\n",
        "f1(2,b=7)\t\t# a is positional argument, b is keyword argument\n",
        "#f1(2,a=7)    #TypeError\n",
        "f1(a=7,2)   #SyntaxError: positional argument follows keyword argument"
      ],
      "metadata": {
        "colab": {
          "base_uri": "https://localhost:8080/",
          "height": 140
        },
        "id": "66BjU09UsnSX",
        "outputId": "f201eab6-a59f-4ac1-b88d-da5f022a692b"
      },
      "execution_count": 34,
      "outputs": [
        {
          "output_type": "error",
          "ename": "SyntaxError",
          "evalue": "ignored",
          "traceback": [
            "\u001b[0;36m  File \u001b[0;32m\"<ipython-input-34-673e846b63af>\"\u001b[0;36m, line \u001b[0;32m7\u001b[0m\n\u001b[0;31m    f1(a=7,2)   #SyntaxError: positional argument follows keyword argument\u001b[0m\n\u001b[0m            ^\u001b[0m\n\u001b[0;31mSyntaxError\u001b[0m\u001b[0;31m:\u001b[0m positional argument follows keyword argument\n"
          ]
        }
      ]
    },
    {
      "cell_type": "code",
      "source": [
        "#Default parameters\n",
        "def f1(a,b=10):   #default value for b is 10\n",
        "\tprint(a+b)\n",
        "f1(2,3)\n",
        "f1(2)\n",
        "f1(a=2)\n",
        "f1(b=13,a=9)\n",
        "#f1(b=20,11)\t\t#Error"
      ],
      "metadata": {
        "colab": {
          "base_uri": "https://localhost:8080/"
        },
        "id": "6_S2qKKAtJbp",
        "outputId": "10c04e21-3446-4970-8ced-906dc70a8002"
      },
      "execution_count": 35,
      "outputs": [
        {
          "output_type": "stream",
          "name": "stdout",
          "text": [
            "5\n",
            "12\n",
            "12\n",
            "22\n"
          ]
        }
      ]
    },
    {
      "cell_type": "code",
      "source": [
        "def f1(a,b=10):   #default value for b is 10\n",
        "\tb=a+b\n",
        "\tprint(b)\n",
        "f1(2,3)\n",
        "f1(2)\n",
        "f1(a=2)\n",
        "f1(b=13,a=9)\n",
        "#f1(b=20,11)\t\t#Error"
      ],
      "metadata": {
        "colab": {
          "base_uri": "https://localhost:8080/"
        },
        "id": "R2SWBm_Nta6o",
        "outputId": "3c20c1b6-423e-4896-981a-63a8bf08768e"
      },
      "execution_count": 36,
      "outputs": [
        {
          "output_type": "stream",
          "name": "stdout",
          "text": [
            "5\n",
            "12\n",
            "12\n",
            "22\n"
          ]
        }
      ]
    },
    {
      "cell_type": "markdown",
      "source": [
        "# Parameter Passing using *arg, and *kwarg"
      ],
      "metadata": {
        "id": "m3nK8qRCt0HB"
      }
    },
    {
      "cell_type": "markdown",
      "source": [
        "* Variable number of arguments:   *arg\n",
        "* Variable number of keyword arguments:   **kwarg\n",
        "* any identifier can be used here for arg and kwarg"
      ],
      "metadata": {
        "id": "6SOUm6mruEyA"
      }
    },
    {
      "cell_type": "code",
      "source": [
        "#   *arg\n",
        "def f1(*arg):\n",
        "\tprint(arg, type(arg))    #arg is of type tuple\n",
        "\tfor i in arg:\n",
        "\t\tprint(i)\n",
        "f1(2,1,6,4,9,7)\n"
      ],
      "metadata": {
        "colab": {
          "base_uri": "https://localhost:8080/"
        },
        "id": "bOnV3pHit48P",
        "outputId": "05a6ab74-b8f2-437f-876e-215a77db9613"
      },
      "execution_count": 37,
      "outputs": [
        {
          "output_type": "stream",
          "name": "stdout",
          "text": [
            "(2, 1, 6, 4, 9, 7) <class 'tuple'>\n",
            "2\n",
            "1\n",
            "6\n",
            "4\n",
            "9\n",
            "7\n"
          ]
        }
      ]
    },
    {
      "cell_type": "code",
      "source": [
        "def f1(a,b,*arg):\t\t#a and b positional and *arg is variable number of arguments. 2 is passed to a and 1 is passed to b\n",
        "\tprint(a,b)\n",
        "\tprint(arg, type(arg))    #arg contains(6,4,9,7)\n",
        "\tfor i in arg:\n",
        "\t\tprint(i)\n",
        "f1(2,1,6,4,9,7)"
      ],
      "metadata": {
        "colab": {
          "base_uri": "https://localhost:8080/"
        },
        "id": "TEFljKuHuRrY",
        "outputId": "3749365d-14f8-4bf5-cfac-fab956016a13"
      },
      "execution_count": 38,
      "outputs": [
        {
          "output_type": "stream",
          "name": "stdout",
          "text": [
            "2 1\n",
            "(6, 4, 9, 7) <class 'tuple'>\n",
            "6\n",
            "4\n",
            "9\n",
            "7\n"
          ]
        }
      ]
    },
    {
      "cell_type": "code",
      "source": [
        "#   **kwarg\n",
        "def f1(**kwarg):\n",
        "\tprint(kwarg, type(kwarg))     #kwarg is of type dict\n",
        "\tfor i in kwarg:\n",
        "\t\tprint(i,end=\"\")\n",
        "\tprint()\n",
        "\tfor i in kwarg.keys():\n",
        "\t\tprint(i,end=\"\")\n",
        "\tprint()\n",
        "\tfor i in kwarg.values():\n",
        "\t\tprint(i,end=\"\")\n",
        "f1(a=2,b=1,c=6)\n",
        "#f1(a=2,b=1,c=6,a=23)\t#error"
      ],
      "metadata": {
        "colab": {
          "base_uri": "https://localhost:8080/"
        },
        "id": "_5TyMUJnuZWA",
        "outputId": "96a0ef88-e71a-48b7-b25e-9baccedda424"
      },
      "execution_count": 40,
      "outputs": [
        {
          "output_type": "stream",
          "name": "stdout",
          "text": [
            "{'a': 2, 'b': 1, 'c': 6} <class 'dict'>\n",
            "abc\n",
            "abc\n",
            "216"
          ]
        }
      ]
    },
    {
      "cell_type": "code",
      "source": [
        "#Keyword arguments should follow positional arguments\n",
        "def f1(x,**kwarg):\n",
        "\tprint(kwarg)     #kwarg is of type dict\n",
        "\tfor i in kwarg:\n",
        "\t\tprint(i,end=\" \")\n",
        "\tprint()\n",
        "\tfor i in kwarg.keys():\n",
        "\t\tprint(i,end=\" \")\n",
        "\tprint()\n",
        "\tfor i in kwarg.values():\n",
        "\t\tprint(i,end=\" \")\n",
        "f1(56,a=21,b=31,c=61)\n",
        "#f1(a=21,b=31,c=61,56)  #Error  positional arguments follows keyword arguments\n",
        "#f1(x = 2, b=31,c=61,56) #error positional arguments follows keyword arguments"
      ],
      "metadata": {
        "colab": {
          "base_uri": "https://localhost:8080/"
        },
        "id": "l35g678luvrB",
        "outputId": "ee85a2b3-75c4-49f0-d0fa-e6ceb7537dc6"
      },
      "execution_count": 45,
      "outputs": [
        {
          "output_type": "stream",
          "name": "stdout",
          "text": [
            "{'a': 21, 'b': 31, 'c': 61}\n",
            "a b c \n",
            "a b c \n",
            "21 31 61 "
          ]
        }
      ]
    },
    {
      "cell_type": "code",
      "source": [
        "def f1(x,y,*arg,**kwarg):\n",
        "\tprint(x,y)\n",
        "\tprint(arg)\n",
        "\tprint(kwarg)\n",
        "f1(56,33,34,4,6,a=21,b=31,c=61)\n",
        "#f1(56,33,34,4,6,a=21,b=31,c=61,x=45) #error -says got multiple values for x"
      ],
      "metadata": {
        "colab": {
          "base_uri": "https://localhost:8080/"
        },
        "id": "vjo8fNoqvKzZ",
        "outputId": "0b2e1717-0d74-48a2-dbe1-a0839667102e"
      },
      "execution_count": 48,
      "outputs": [
        {
          "output_type": "stream",
          "name": "stdout",
          "text": [
            "56 33\n",
            "(34, 4, 6)\n",
            "{'a': 21, 'b': 31, 'c': 61}\n"
          ]
        }
      ]
    },
    {
      "cell_type": "code",
      "source": [
        "def f1(*arg):\n",
        "\tprint(arg)\n",
        "\tprint(type(arg))\t#tuple\n",
        "\tprint(*arg)\t#pass starred argument to any function, it does unpacking. i,e prints only value\n",
        "\t\t\t\t#see below code too.\n",
        "\t#print(type(*arg))\t#  *arg becomes 1 2 3 4 , type cannot take more than 1 argument\n",
        "f1(1,2,3,4)\n",
        "f1({1:11,2:22},{3:33,4:44})\n",
        "f1({1:11,2:22,3:33,4:44})"
      ],
      "metadata": {
        "colab": {
          "base_uri": "https://localhost:8080/"
        },
        "id": "C8GsrPtWvacQ",
        "outputId": "bebc2912-22bd-489f-bfcb-d8ba5f76c292"
      },
      "execution_count": 51,
      "outputs": [
        {
          "output_type": "stream",
          "name": "stdout",
          "text": [
            "(1, 2, 3, 4)\n",
            "<class 'tuple'>\n",
            "1 2 3 4\n",
            "({1: 11, 2: 22}, {3: 33, 4: 44})\n",
            "<class 'tuple'>\n",
            "{1: 11, 2: 22} {3: 33, 4: 44}\n",
            "({1: 11, 2: 22, 3: 33, 4: 44},)\n",
            "<class 'tuple'>\n",
            "{1: 11, 2: 22, 3: 33, 4: 44}\n"
          ]
        }
      ]
    },
    {
      "cell_type": "markdown",
      "source": [
        "# Default Parameter"
      ],
      "metadata": {
        "id": "P-AyDV60v695"
      }
    },
    {
      "cell_type": "markdown",
      "source": [
        "* changing the simple type doesn't affect the other\n",
        "* changing the reference type doesn't affect the other\n",
        "* changing the reference type through the reference changes the other"
      ],
      "metadata": {
        "id": "uRVccJoBv_Lf"
      }
    },
    {
      "cell_type": "code",
      "source": [
        "x=[23,45,89]\n",
        "def f1(y):\n",
        "\ty=[22,33]\n",
        "\tprint(\"inside function\",y)\n",
        "print(\"beginning outside\",x)\n",
        "f1(x)\n",
        "print(\"Later outside\",x)"
      ],
      "metadata": {
        "colab": {
          "base_uri": "https://localhost:8080/"
        },
        "id": "nQhaZ_qEv9m5",
        "outputId": "3432b02a-310f-4603-b8ad-f80a844c064b"
      },
      "execution_count": 52,
      "outputs": [
        {
          "output_type": "stream",
          "name": "stdout",
          "text": [
            "beginning outside [23, 45, 89]\n",
            "inside function [22, 33]\n",
            "Later outside [23, 45, 89]\n"
          ]
        }
      ]
    },
    {
      "cell_type": "code",
      "source": [
        "x=[23,45,89]\n",
        "def f1(y):\n",
        "\tprint(id(y))\n",
        "\ty=y+[22,33]\t\t# changes the id of y\n",
        "\tprint(id(y))\n",
        "\tprint(\"inside function\",y)\n",
        "print(\"beginning outside\",x)\n",
        "f1(x)\n",
        "print(\"Later outside\",x)\t#x is not changed"
      ],
      "metadata": {
        "colab": {
          "base_uri": "https://localhost:8080/"
        },
        "id": "Gc4ztSdwwSUY",
        "outputId": "bf362e1f-a21a-4a6a-f6b9-f9beeff72181"
      },
      "execution_count": 53,
      "outputs": [
        {
          "output_type": "stream",
          "name": "stdout",
          "text": [
            "beginning outside [23, 45, 89]\n",
            "137311968789056\n",
            "137311968320000\n",
            "inside function [23, 45, 89, 22, 33]\n",
            "Later outside [23, 45, 89]\n"
          ]
        }
      ]
    },
    {
      "cell_type": "code",
      "source": [
        "x=[23,45,89]\n",
        "def f1(y):\n",
        "\tprint(id(y))\n",
        "\ty+=[22,33]\n",
        "\tprint(id(y))\t#no change in id of y. same as y above and x outside\n",
        "\tprint(\"inside function\",y)\n",
        "print(\"beginning outside\",x)\n",
        "f1(x)\n",
        "print(\"Later outside\",x) #x is affected"
      ],
      "metadata": {
        "colab": {
          "base_uri": "https://localhost:8080/"
        },
        "id": "Cv27UwNMwc8g",
        "outputId": "bef8074b-77f7-461e-859a-7adb15248677"
      },
      "execution_count": 54,
      "outputs": [
        {
          "output_type": "stream",
          "name": "stdout",
          "text": [
            "beginning outside [23, 45, 89]\n",
            "137312811894976\n",
            "137312811894976\n",
            "inside function [23, 45, 89, 22, 33]\n",
            "Later outside [23, 45, 89, 22, 33]\n"
          ]
        }
      ]
    },
    {
      "cell_type": "code",
      "source": [
        "#default parameter: It is always a part of symbol table which is added during leader processing\n",
        "x=12\n",
        "def f1(a,b=x):\t\t#at the time of leader processing, whatever the value at x is fixed\n",
        "\tprint(a,b)\n",
        "x=15\n",
        "f1(4)"
      ],
      "metadata": {
        "colab": {
          "base_uri": "https://localhost:8080/"
        },
        "id": "rc8ja69uw-II",
        "outputId": "d115c999-5a4a-4423-e35e-a36916d00f2a"
      },
      "execution_count": 55,
      "outputs": [
        {
          "output_type": "stream",
          "name": "stdout",
          "text": [
            "4 12\n"
          ]
        }
      ]
    },
    {
      "cell_type": "code",
      "source": [
        "def f1(a,b=[]):\n",
        "\tb.append(a)\n",
        "\tprint(b)\n",
        "f1(2)\n",
        "f1(22)\n",
        "f1(33)\n",
        "f1(12,[3,4])\n",
        "print(\"special case\")\n",
        "f1(25)\n"
      ],
      "metadata": {
        "colab": {
          "base_uri": "https://localhost:8080/"
        },
        "id": "XdJ9-crNxJVB",
        "outputId": "925a2cd6-bc06-4eeb-c5aa-1f72f0be7904"
      },
      "execution_count": 56,
      "outputs": [
        {
          "output_type": "stream",
          "name": "stdout",
          "text": [
            "[2]\n",
            "[2, 22]\n",
            "[2, 22, 33]\n",
            "[3, 4, 12]\n",
            "special case\n",
            "[2, 22, 33, 25]\n"
          ]
        }
      ]
    },
    {
      "cell_type": "markdown",
      "source": [
        "# Function variation"
      ],
      "metadata": {
        "id": "JcZpacjNxjRC"
      }
    },
    {
      "cell_type": "markdown",
      "source": [
        "* never specify type for a variable in python. Type is decided based on what is stored in that variable\n",
        "* A function can pass any type of value and can return any type of value\n",
        "* Activation record stores the following:\n",
        "\t* parameters\n",
        "\t* local variables\n",
        "\t* return value\n",
        "\t* return address\n",
        "\t* temporary variables\n",
        "* Some of the variations on functions is as below."
      ],
      "metadata": {
        "id": "QuOEDzF4xn7f"
      }
    },
    {
      "cell_type": "code",
      "source": [
        "def f1():\n",
        "\tprint(\"in f1\")\n",
        "\tf2()\n",
        "def f2():\n",
        "\tprint(\"in f2\")\n",
        "f1()"
      ],
      "metadata": {
        "colab": {
          "base_uri": "https://localhost:8080/"
        },
        "id": "QV1NCwB4xlro",
        "outputId": "659bfc42-fedc-48e9-8076-f10a9a335535"
      },
      "execution_count": 57,
      "outputs": [
        {
          "output_type": "stream",
          "name": "stdout",
          "text": [
            "in f1\n",
            "in f2\n"
          ]
        }
      ]
    },
    {
      "cell_type": "code",
      "source": [
        "def f1():\n",
        "\tprint(\"in f1\")\n",
        "\tf2()\n",
        "f1()\t\t#Error\n",
        "def f2():\n",
        "\tprint(\"in f2\")"
      ],
      "metadata": {
        "colab": {
          "base_uri": "https://localhost:8080/"
        },
        "id": "atxp3aP4x2DB",
        "outputId": "daacdd26-14c7-4c53-af3b-f45e08acfa2a"
      },
      "execution_count": 58,
      "outputs": [
        {
          "output_type": "stream",
          "name": "stdout",
          "text": [
            "in f1\n",
            "in f2\n"
          ]
        }
      ]
    },
    {
      "cell_type": "code",
      "source": [
        "def f1():\n",
        "\tprint(\"in f1\")\n",
        "\tf2()\n",
        "def f2():\n",
        "\treturn \"Hello\"\n",
        "f1()\n",
        "print(f1())"
      ],
      "metadata": {
        "colab": {
          "base_uri": "https://localhost:8080/"
        },
        "id": "XxRoz6Qjx5pY",
        "outputId": "af6d1235-bb97-4702-b48a-7107d5fe3cfe"
      },
      "execution_count": 59,
      "outputs": [
        {
          "output_type": "stream",
          "name": "stdout",
          "text": [
            "in f1\n",
            "in f1\n",
            "None\n"
          ]
        }
      ]
    },
    {
      "cell_type": "code",
      "source": [
        "def f1():\n",
        "\tprint(\"in f1\")\n",
        "\treturn f2()\n",
        "def f2():\n",
        "\tprint(\"in f2\")\n",
        "print(f1())"
      ],
      "metadata": {
        "colab": {
          "base_uri": "https://localhost:8080/"
        },
        "id": "CPAiyPJhyDNJ",
        "outputId": "07795835-6fc2-45b4-a1f1-e7b9d18b852e"
      },
      "execution_count": 60,
      "outputs": [
        {
          "output_type": "stream",
          "name": "stdout",
          "text": [
            "in f1\n",
            "in f2\n",
            "None\n"
          ]
        }
      ]
    }
  ]
}